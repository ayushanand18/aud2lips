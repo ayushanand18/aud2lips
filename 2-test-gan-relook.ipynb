{
 "cells": [
  {
   "cell_type": "code",
   "execution_count": 1,
   "id": "3d905f2a",
   "metadata": {
    "execution": {
     "iopub.execute_input": "2022-02-09T13:10:56.753140Z",
     "iopub.status.busy": "2022-02-09T13:10:56.751651Z",
     "iopub.status.idle": "2022-02-09T13:11:03.442530Z",
     "shell.execute_reply": "2022-02-09T13:11:03.441750Z",
     "shell.execute_reply.started": "2022-02-09T13:03:37.325574Z"
    },
    "papermill": {
     "duration": 6.704293,
     "end_time": "2022-02-09T13:11:03.442696",
     "exception": false,
     "start_time": "2022-02-09T13:10:56.738403",
     "status": "completed"
    },
    "tags": []
   },
   "outputs": [
    {
     "name": "stdout",
     "output_type": "stream",
     "text": [
      "2.6.2\n"
     ]
    }
   ],
   "source": [
    "from glob import glob\n",
    "import numpy as np\n",
    "from matplotlib import pylab as plt\n",
    "import cv2\n",
    "import time\n",
    "import os\n",
    "import torchvision.transforms as transforms\n",
    "import torch\n",
    "import tensorflow as tf\n",
    "print(tf.__version__)\n",
    "import tensorflow.keras.layers as layers\n",
    "from tensorflow.keras.models import Model\n",
    "import pandas as pd"
   ]
  },
  {
   "cell_type": "code",
   "execution_count": 2,
   "id": "945f9436",
   "metadata": {
    "execution": {
     "iopub.execute_input": "2022-02-09T13:11:03.466230Z",
     "iopub.status.busy": "2022-02-09T13:11:03.465668Z",
     "iopub.status.idle": "2022-02-09T13:11:03.620303Z",
     "shell.execute_reply": "2022-02-09T13:11:03.620753Z",
     "shell.execute_reply.started": "2022-02-09T13:03:39.502305Z"
    },
    "papermill": {
     "duration": 0.168196,
     "end_time": "2022-02-09T13:11:03.620896",
     "exception": false,
     "start_time": "2022-02-09T13:11:03.452700",
     "status": "completed"
    },
    "tags": []
   },
   "outputs": [],
   "source": [
    "df = pd.read_csv('../input/videopaths/datapaths.csv',header=0,index_col='Unnamed: 0')"
   ]
  },
  {
   "cell_type": "code",
   "execution_count": 3,
   "id": "7ee930d9",
   "metadata": {
    "execution": {
     "iopub.execute_input": "2022-02-09T13:11:03.657094Z",
     "iopub.status.busy": "2022-02-09T13:11:03.656479Z",
     "iopub.status.idle": "2022-02-09T13:11:04.988204Z",
     "shell.execute_reply": "2022-02-09T13:11:04.987675Z",
     "shell.execute_reply.started": "2022-02-09T13:03:41.219775Z"
    },
    "papermill": {
     "duration": 1.357483,
     "end_time": "2022-02-09T13:11:04.988351",
     "exception": false,
     "start_time": "2022-02-09T13:11:03.630868",
     "status": "completed"
    },
    "tags": []
   },
   "outputs": [],
   "source": [
    "df.replace('audio-files-for-miraclvc1/ph1-13','audio-files-for-miraclvc1/ph1-1',inplace=True)\n",
    "for i in list(set(df['spectrograms'])):\n",
    "    if not os.path.exists('../input/'+i+'.jpg'):\n",
    "        df.replace(i,'audio-files-for-miraclvc1/ph1-1',inplace=True)"
   ]
  },
  {
   "cell_type": "code",
   "execution_count": 4,
   "id": "1bdaf299",
   "metadata": {
    "execution": {
     "iopub.execute_input": "2022-02-09T13:11:05.015935Z",
     "iopub.status.busy": "2022-02-09T13:11:05.014329Z",
     "iopub.status.idle": "2022-02-09T13:11:05.016541Z",
     "shell.execute_reply": "2022-02-09T13:11:05.016929Z",
     "shell.execute_reply.started": "2022-02-09T13:03:42.924573Z"
    },
    "papermill": {
     "duration": 0.019947,
     "end_time": "2022-02-09T13:11:05.017074",
     "exception": false,
     "start_time": "2022-02-09T13:11:04.997127",
     "status": "completed"
    },
    "tags": []
   },
   "outputs": [],
   "source": [
    "class Aud2LipsDataset(torch.utils.data.Dataset):\n",
    "    def __init__(self):\n",
    "        self.imgs = df\n",
    "    def __getitem__(self, idx):\n",
    "        # load lipimage,spectrogram and target:lipmovement image\n",
    "        lip_path = self.imgs['lippath'][idx]\n",
    "        spect_path='../input/'+self.imgs['spectrograms'][idx]+'.jpg'\n",
    "        lipmove_path=self.imgs['videopath'][idx]\n",
    "        #resize and load as tensor\n",
    "        lipimg=cv2.cvtColor(cv2.imread(lip_path), cv2.COLOR_BGR2RGB)\n",
    "        spectimg=cv2.cvtColor(cv2.imread(spect_path),cv2.COLOR_BGR2RGB)\n",
    "        lipmoveimg=cv2.cvtColor(cv2.imread(lipmove_path), cv2.COLOR_BGR2RGB)\n",
    "        lipimg = lipimg[250:400,150:400]\n",
    "        lipimg = cv2.resize(lipimg,(170,150))\n",
    "        spectT = cv2.resize(spectimg,(80, 150))\n",
    "        lipmoveimg=lipmoveimg[250:400,150:400]\n",
    "        \n",
    "        imageA = np.concatenate((lipimg,spectT),axis=1)\n",
    "        imageB = lipmoveimg\n",
    "        return imageA,imageB\n",
    "    \n",
    "    def __len__(self):\n",
    "        return len(self.imgs)\n",
    "dataset = Aud2LipsDataset()"
   ]
  },
  {
   "cell_type": "code",
   "execution_count": 5,
   "id": "b7669e88",
   "metadata": {
    "execution": {
     "iopub.execute_input": "2022-02-09T13:11:05.040417Z",
     "iopub.status.busy": "2022-02-09T13:11:05.039636Z",
     "iopub.status.idle": "2022-02-09T13:11:05.041575Z",
     "shell.execute_reply": "2022-02-09T13:11:05.041942Z",
     "shell.execute_reply.started": "2022-02-09T13:03:51.66423Z"
    },
    "papermill": {
     "duration": 0.016192,
     "end_time": "2022-02-09T13:11:05.042076",
     "exception": false,
     "start_time": "2022-02-09T13:11:05.025884",
     "status": "completed"
    },
    "tags": []
   },
   "outputs": [],
   "source": [
    "def load_batch(batch_size):\n",
    "    #path1=sorted(glob('../input/building/facade/train_picture/*'))\n",
    "    #path2=sorted(glob('../input/building/facade/train_label/*'))\n",
    "    n_batches=int(len(df)/batch_size)\n",
    "  \n",
    "    for i in range(n_batches):\n",
    "        #batch1=path1[i*batch_size:(i+1)*batch_size]\n",
    "        #batch2=path2[i*batch_size:(i+1)*batch_size]\n",
    "        img_A,img_B=[],[]\n",
    "        for idx in range(i*batch_size,(i+1)*batch_size):\n",
    "            img1,img2 = dataset[idx]\n",
    "            img_A.append(img1)#picture\n",
    "            img_B.append(img2)#label\n",
    "      \n",
    "        img_A=np.array(img_A)/255\n",
    "        img_B=np.array(img_B)/255\n",
    "    \n",
    "        yield img_A,img_B #return generator"
   ]
  },
  {
   "cell_type": "code",
   "execution_count": 6,
   "id": "2cfd6951",
   "metadata": {
    "execution": {
     "iopub.execute_input": "2022-02-09T13:11:05.092901Z",
     "iopub.status.busy": "2022-02-09T13:11:05.082148Z",
     "iopub.status.idle": "2022-02-09T13:11:05.095230Z",
     "shell.execute_reply": "2022-02-09T13:11:05.094801Z",
     "shell.execute_reply.started": "2022-02-09T13:03:53.657692Z"
    },
    "papermill": {
     "duration": 0.044697,
     "end_time": "2022-02-09T13:11:05.095336",
     "exception": false,
     "start_time": "2022-02-09T13:11:05.050639",
     "status": "completed"
    },
    "tags": []
   },
   "outputs": [],
   "source": [
    "class pix2pix():\n",
    "    def __init__(self):\n",
    "        self.img_rows= 150\n",
    "        self.img_cols= 250\n",
    "        self.channels=3\n",
    "        self.img_shape=(self.img_rows,self.img_cols,self.channels)\n",
    "    \n",
    "        patch=int(self.img_rows/(2**4)) # 16\n",
    "        self.disc_patch=(10,16,1)\n",
    "    \n",
    "        self.gf=64\n",
    "        self.df=64\n",
    "    \n",
    "        optimizer=tf.keras.optimizers.Adam(0.0002,0.5)\n",
    "    \n",
    "        self.discriminator=self.build_discriminator()\n",
    "        #self.discriminator.summary()\n",
    "        self.discriminator.compile(loss='binary_crossentropy',\n",
    "                              optimizer=optimizer)\n",
    "    \n",
    "        self.generator=self.build_generator()\n",
    "        #self.generator.summary()\n",
    "    \n",
    "        img_A=layers.Input(shape=self.img_shape)#picture--label\n",
    "        img_B=layers.Input(shape=self.img_shape)#label--real\n",
    "    \n",
    "        img=self.generator(img_A)\n",
    "    \n",
    "        self.discriminator.trainable=False\n",
    "    \n",
    "        valid=self.discriminator([img,img_A])\n",
    "    \n",
    "        self.combined=Model(img_A,valid)\n",
    "        self.combined.compile(loss='binary_crossentropy',\n",
    "                              optimizer=optimizer)\n",
    "    \n",
    "    def build_generator(self):\n",
    "        def conv2d(layer_input,filters,f_size=(4,4),bn=True):\n",
    "            d=layers.Conv2D(filters,kernel_size=f_size,strides=(2,2),padding='same')(layer_input)\n",
    "            d=layers.LeakyReLU(0.2)(d)\n",
    "            if bn:\n",
    "                d=layers.BatchNormalization()(d)\n",
    "            return d\n",
    "    \n",
    "        def deconv2d(layer_input,skip_input,filters,f_size=(4,4),dropout_rate=0):\n",
    "            u=layers.UpSampling2D((2,2))(layer_input)\n",
    "            u=layers.Conv2D(filters,kernel_size=f_size,strides=(1,1),padding='same',activation='relu')(u)\n",
    "            if dropout_rate:\n",
    "                u=layers.Dropout(dropout_rate)(u)\n",
    "            u=layers.BatchNormalization()(u)\n",
    "            u=layers.Concatenate()([u,skip_input])\n",
    "            return u\n",
    "    \n",
    "        d0=layers.Input(shape=self.img_shape)\n",
    "    \n",
    "        d1=conv2d(d0,self.gf,bn=False) \n",
    "        d1 = tf.keras.layers.Resizing(256,320)(d1)\n",
    "        d2=conv2d(d1,self.gf*2)\n",
    "        d2 = tf.keras.layers.Resizing(128,160)(d2)\n",
    "        d3=conv2d(d2,self.gf*4)  \n",
    "        d3 = tf.keras.layers.Resizing(64,80)(d3)\n",
    "        d4=conv2d(d3,self.gf*8) \n",
    "        d4 = tf.keras.layers.Resizing(32,40)(d4)\n",
    "        d5=conv2d(d4,self.gf*8)\n",
    "        d5 = tf.keras.layers.Resizing(16,20)(d5)\n",
    "        d6=conv2d(d5,self.gf*8)        \n",
    "    \n",
    "        d7=conv2d(d6,self.gf*8)         \n",
    "    \n",
    "        u1=deconv2d(d7,d6,self.gf*8,dropout_rate=0.5)\n",
    "        u2=deconv2d(u1,d5,self.gf*8,dropout_rate=0.5)   \n",
    "        u3=deconv2d(u2,d4,self.gf*8,dropout_rate=0.5)   \n",
    "        u4=deconv2d(u3,d3,self.gf*4)   \n",
    "        u5=deconv2d(u4,d2,self.gf*2)   \n",
    "        u6=deconv2d(u5,d1,self.gf)     \n",
    "        u7=layers.UpSampling2D((2,2))(u6)\n",
    "    \n",
    "        output_img=layers.Conv2D(self.channels,kernel_size=(4,4),strides=(1,1),padding='same',activation='tanh')(u7)\n",
    "        output_img = tf.keras.layers.Resizing(150,250)(output_img)\n",
    "        \n",
    "        return Model(d0,output_img)\n",
    "  \n",
    "    def build_discriminator(self):\n",
    "        def d_layer(layer_input,filters,f_size=(4,4),bn=True):\n",
    "            d=layers.Conv2D(filters,kernel_size=f_size,strides=(2,2),padding='same')(layer_input)\n",
    "            d=layers.LeakyReLU(0.2)(d)\n",
    "            if bn:\n",
    "                d=layers.BatchNormalization()(d)\n",
    "            return d\n",
    "    \n",
    "        img_A=layers.Input(shape=self.img_shape)\n",
    "        img_B=layers.Input(shape=self.img_shape)\n",
    "    \n",
    "        combined_imgs=layers.Concatenate(axis=-1)([img_A,img_B])\n",
    "    \n",
    "        d1=d_layer(combined_imgs,self.df,bn=False)\n",
    "        d2=d_layer(d1,self.df*2)\n",
    "        d3=d_layer(d2,self.df*4)\n",
    "        d4=d_layer(d3,self.df*8)\n",
    "    \n",
    "        validity=layers.Conv2D(1,kernel_size=(4,4),strides=(1,1),padding='same',activation='sigmoid')(d4)\n",
    "    \n",
    "        return Model([img_A,img_B],validity)\n",
    "  \n",
    "    def train(self,epochs,batch_size):\n",
    "        valid=np.ones((batch_size,)+self.disc_patch)\n",
    "        fake=np.zeros((batch_size,)+self.disc_patch)\n",
    "    \n",
    "        for epoch in range(epochs):\n",
    "            start=time.time()\n",
    "            for batch_i,(img_A,img_B) in enumerate(load_batch(batch_size)):\n",
    "                gen_imgs=self.generator.predict(img_A)\n",
    "        \n",
    "                d_loss_real = self.discriminator.train_on_batch([img_B, img_A], valid)\n",
    "                d_loss_fake = self.discriminator.train_on_batch([gen_imgs, img_A], fake)\n",
    "                d_loss = 0.5 * np.add(d_loss_real, d_loss_fake)\n",
    "        \n",
    "                g_loss = self.combined.train_on_batch(img_A,valid)\n",
    "\n",
    "                if batch_i % 50 == 0:\n",
    "                    print (\"[Epoch %d] [Batch %d] [D loss: %f] [G loss: %f]\" % (epoch,\n",
    "                                                                                batch_i,\n",
    "                                                                                d_loss,\n",
    "                                                                                g_loss))\n",
    "                if batch_i % 1000 == 0:\n",
    "                    tf.keras.models.save_model(self.generator, 'trained-gan-model',\n",
    "                                               overwrite=True, include_optimizer=True,\n",
    "                                               save_format=None)\n",
    "            #self.sample_images(epoch)\n",
    "            print('Time for epoch {} is {} sec'.format(epoch,time.time()-start))\n",
    "      \n",
    "    def sample_images(self, epoch):\n",
    "        r, c = 1, 1\n",
    "        img_A, img_B = next(iter(load_batch(1)))\n",
    "        fake_A = self.generator.predict(img_A)\n",
    "\n",
    "        gen_imgs = np.concatenate([img_A, fake_A, img_B])\n",
    "\n",
    "        # Rescale images 0 - 1\n",
    "        gen_imgs = 0.5 * gen_imgs + 0.5\n",
    "\n",
    "        titles = ['Condition','Generated', 'Original']\n",
    "        fig, axs = plt.subplots(r, c)\n",
    "        cnt = 0\n",
    "        plt.imshow(gen_imgs[cnt])\n",
    "        plt.set_title(titles[i])\n",
    "        plt.axis('off')\n",
    "        \n",
    "        fig.savefig(\"./%d.png\" % (epoch))\n",
    "        plt.show()"
   ]
  },
  {
   "cell_type": "code",
   "execution_count": 7,
   "id": "04218c3e",
   "metadata": {
    "execution": {
     "iopub.execute_input": "2022-02-09T13:11:05.116628Z",
     "iopub.status.busy": "2022-02-09T13:11:05.115977Z",
     "iopub.status.idle": "2022-02-09T13:04:55.150269Z",
     "shell.execute_reply": "2022-02-09T13:04:55.148125Z",
     "shell.execute_reply.started": "2022-02-09T13:04:17.386211Z"
    },
    "papermill": {
     "duration": null,
     "end_time": null,
     "exception": false,
     "start_time": "2022-02-09T13:11:05.103858",
     "status": "running"
    },
    "tags": []
   },
   "outputs": [
    {
     "name": "stderr",
     "output_type": "stream",
     "text": [
      "2022-02-09 13:11:05.196627: I tensorflow/stream_executor/cuda/cuda_gpu_executor.cc:937] successful NUMA node read from SysFS had negative value (-1), but there must be at least one NUMA node, so returning NUMA node zero\n",
      "2022-02-09 13:11:05.197613: I tensorflow/stream_executor/cuda/cuda_gpu_executor.cc:937] successful NUMA node read from SysFS had negative value (-1), but there must be at least one NUMA node, so returning NUMA node zero\n",
      "2022-02-09 13:11:05.198276: I tensorflow/stream_executor/cuda/cuda_gpu_executor.cc:937] successful NUMA node read from SysFS had negative value (-1), but there must be at least one NUMA node, so returning NUMA node zero\n",
      "2022-02-09 13:11:05.199018: I tensorflow/core/platform/cpu_feature_guard.cc:142] This TensorFlow binary is optimized with oneAPI Deep Neural Network Library (oneDNN) to use the following CPU instructions in performance-critical operations:  AVX2 AVX512F FMA\n",
      "To enable them in other operations, rebuild TensorFlow with the appropriate compiler flags.\n",
      "2022-02-09 13:11:05.199702: I tensorflow/stream_executor/cuda/cuda_gpu_executor.cc:937] successful NUMA node read from SysFS had negative value (-1), but there must be at least one NUMA node, so returning NUMA node zero\n",
      "2022-02-09 13:11:05.200408: I tensorflow/stream_executor/cuda/cuda_gpu_executor.cc:937] successful NUMA node read from SysFS had negative value (-1), but there must be at least one NUMA node, so returning NUMA node zero\n",
      "2022-02-09 13:11:05.201024: I tensorflow/stream_executor/cuda/cuda_gpu_executor.cc:937] successful NUMA node read from SysFS had negative value (-1), but there must be at least one NUMA node, so returning NUMA node zero\n",
      "2022-02-09 13:11:09.324803: I tensorflow/stream_executor/cuda/cuda_gpu_executor.cc:937] successful NUMA node read from SysFS had negative value (-1), but there must be at least one NUMA node, so returning NUMA node zero\n",
      "2022-02-09 13:11:09.325612: I tensorflow/stream_executor/cuda/cuda_gpu_executor.cc:937] successful NUMA node read from SysFS had negative value (-1), but there must be at least one NUMA node, so returning NUMA node zero\n",
      "2022-02-09 13:11:09.326268: I tensorflow/stream_executor/cuda/cuda_gpu_executor.cc:937] successful NUMA node r"
     ]
    },
    {
     "name": "stderr",
     "output_type": "stream",
     "text": [
      "ead from SysFS had negative value (-1), but there must be at least one NUMA node, so returning NUMA node zero\n",
      "2022-02-09 13:11:09.326853: I tensorflow/core/common_runtime/gpu/gpu_device.cc:1510] Created device /job:localhost/replica:0/task:0/device:GPU:0 with 14959 MB memory:  -> device: 0, name: Tesla P100-PCIE-16GB, pci bus id: 0000:00:04.0, compute capability: 6.0\n"
     ]
    },
    {
     "name": "stderr",
     "output_type": "stream",
     "text": [
      "2022-02-09 13:11:12.927081: W tensorflow/python/util/util.cc:348] Sets are not currently considered sequences, but this may change in the future, so consider avoiding using them.\n"
     ]
    },
    {
     "name": "stderr",
     "output_type": "stream",
     "text": [
      "2022-02-09 13:11:17.761123: I tensorflow/compiler/mlir/mlir_graph_optimization_pass.cc:185] None of the MLIR Optimization Passes are enabled (registered 2)\n"
     ]
    },
    {
     "name": "stderr",
     "output_type": "stream",
     "text": [
      "2022-02-09 13:11:18.862435: I tensorflow/stream_executor/cuda/cuda_dnn.cc:369] Loaded cuDNN version 8005\n"
     ]
    },
    {
     "name": "stdout",
     "output_type": "stream",
     "text": [
      "[Epoch 0] [Batch 0] [D loss: 1.413595] [G loss: 0.648292]\n"
     ]
    },
    {
     "name": "stdout",
     "output_type": "stream",
     "text": [
      "[Epoch 0] [Batch 50] [D loss: 0.091805] [G loss: 0.877723]\n"
     ]
    },
    {
     "name": "stdout",
     "output_type": "stream",
     "text": [
      "[Epoch 0] [Batch 100] [D loss: 0.030999] [G loss: 1.976720]\n"
     ]
    },
    {
     "name": "stdout",
     "output_type": "stream",
     "text": [
      "[Epoch 0] [Batch 150] [D loss: 0.009295] [G loss: 1.023681]\n"
     ]
    },
    {
     "name": "stdout",
     "output_type": "stream",
     "text": [
      "[Epoch 0] [Batch 200] [D loss: 0.003520] [G loss: 0.536047]\n"
     ]
    },
    {
     "name": "stdout",
     "output_type": "stream",
     "text": [
      "[Epoch 0] [Batch 250] [D loss: 0.002099] [G loss: 0.016790]\n"
     ]
    },
    {
     "name": "stdout",
     "output_type": "stream",
     "text": [
      "[Epoch 0] [Batch 300] [D loss: 0.001659] [G loss: 0.008208]\n"
     ]
    },
    {
     "name": "stdout",
     "output_type": "stream",
     "text": [
      "[Epoch 0] [Batch 350] [D loss: 0.002157] [G loss: 0.012894]\n"
     ]
    },
    {
     "name": "stdout",
     "output_type": "stream",
     "text": [
      "[Epoch 0] [Batch 400] [D loss: 0.001394] [G loss: 0.156078]\n"
     ]
    },
    {
     "name": "stdout",
     "output_type": "stream",
     "text": [
      "[Epoch 0] [Batch 450] [D loss: 0.001515] [G loss: 0.225871]\n"
     ]
    },
    {
     "name": "stdout",
     "output_type": "stream",
     "text": [
      "[Epoch 0] [Batch 500] [D loss: 0.001042] [G loss: 0.236838]\n"
     ]
    },
    {
     "name": "stdout",
     "output_type": "stream",
     "text": [
      "[Epoch 0] [Batch 550] [D loss: 0.018124] [G loss: 3.417531]\n"
     ]
    },
    {
     "name": "stdout",
     "output_type": "stream",
     "text": [
      "[Epoch 0] [Batch 600] [D loss: 0.003892] [G loss: 0.048642]\n"
     ]
    },
    {
     "name": "stderr",
     "output_type": "stream",
     "text": [
      "2022-02-09 13:21:48.318192: W tensorflow/core/data/root_dataset.cc:167] Optimization loop failed: Cancelled: Operation was cancelled\n"
     ]
    },
    {
     "name": "stdout",
     "output_type": "stream",
     "text": [
      "[Epoch 0] [Batch 650] [D loss: 0.001962] [G loss: 0.031523]\n"
     ]
    },
    {
     "name": "stdout",
     "output_type": "stream",
     "text": [
      "[Epoch 0] [Batch 700] [D loss: 0.001216] [G loss: 0.012623]\n"
     ]
    },
    {
     "name": "stderr",
     "output_type": "stream",
     "text": [
      "2022-02-09 13:22:54.271083: W tensorflow/core/data/root_dataset.cc:167] Optimization loop failed: Cancelled: Operation was cancelled\n"
     ]
    },
    {
     "name": "stdout",
     "output_type": "stream",
     "text": [
      "[Epoch 0] [Batch 750] [D loss: 0.000880] [G loss: 0.012027]\n"
     ]
    },
    {
     "name": "stderr",
     "output_type": "stream",
     "text": [
      "2022-02-09 13:23:27.449702: W tensorflow/core/data/root_dataset.cc:167] Optimization loop failed: Cancelled: Operation was cancelled\n"
     ]
    },
    {
     "name": "stdout",
     "output_type": "stream",
     "text": [
      "[Epoch 0] [Batch 800] [D loss: 0.000924] [G loss: 0.007083]\n"
     ]
    },
    {
     "name": "stdout",
     "output_type": "stream",
     "text": [
      "[Epoch 0] [Batch 850] [D loss: 0.000853] [G loss: 3.115529]\n"
     ]
    },
    {
     "name": "stdout",
     "output_type": "stream",
     "text": [
      "[Epoch 0] [Batch 900] [D loss: 0.000824] [G loss: 1.238551]\n"
     ]
    },
    {
     "name": "stdout",
     "output_type": "stream",
     "text": [
      "[Epoch 0] [Batch 950] [D loss: 0.358295] [G loss: 5.320879]\n"
     ]
    },
    {
     "name": "stdout",
     "output_type": "stream",
     "text": [
      "[Epoch 0] [Batch 1000] [D loss: 0.015735] [G loss: 0.439687]\n"
     ]
    },
    {
     "name": "stdout",
     "output_type": "stream",
     "text": [
      "[Epoch 0] [Batch 1050] [D loss: 0.090196] [G loss: 3.522517]\n"
     ]
    },
    {
     "name": "stdout",
     "output_type": "stream",
     "text": [
      "[Epoch 0] [Batch 1100] [D loss: 0.003663] [G loss: 0.095726]\n"
     ]
    },
    {
     "name": "stdout",
     "output_type": "stream",
     "text": [
      "[Epoch 0] [Batch 1150] [D loss: 0.001750] [G loss: 0.000653]\n"
     ]
    },
    {
     "name": "stdout",
     "output_type": "stream",
     "text": [
      "[Epoch 0] [Batch 1200] [D loss: 0.001089] [G loss: 0.000788]\n"
     ]
    },
    {
     "name": "stdout",
     "output_type": "stream",
     "text": [
      "[Epoch 0] [Batch 1250] [D loss: 0.000750] [G loss: 0.006186]\n"
     ]
    },
    {
     "name": "stdout",
     "output_type": "stream",
     "text": [
      "[Epoch 0] [Batch 1300] [D loss: 0.000589] [G loss: 0.023777]\n"
     ]
    },
    {
     "name": "stdout",
     "output_type": "stream",
     "text": [
      "[Epoch 0] [Batch 1350] [D loss: 0.000618] [G loss: 0.098284]\n"
     ]
    },
    {
     "name": "stdout",
     "output_type": "stream",
     "text": [
      "[Epoch 0] [Batch 1400] [D loss: 0.000435] [G loss: 0.146317]\n"
     ]
    },
    {
     "name": "stdout",
     "output_type": "stream",
     "text": [
      "[Epoch 0] [Batch 1450] [D loss: 0.001323] [G loss: 0.412345]\n"
     ]
    },
    {
     "name": "stdout",
     "output_type": "stream",
     "text": [
      "[Epoch 0] [Batch 1500] [D loss: 0.000554] [G loss: 0.152855]\n"
     ]
    },
    {
     "name": "stdout",
     "output_type": "stream",
     "text": [
      "[Epoch 0] [Batch 1550] [D loss: 0.000306] [G loss: 0.170552]\n"
     ]
    },
    {
     "name": "stdout",
     "output_type": "stream",
     "text": [
      "[Epoch 0] [Batch 1600] [D loss: 0.000502] [G loss: 0.739310]\n"
     ]
    },
    {
     "name": "stdout",
     "output_type": "stream",
     "text": [
      "[Epoch 0] [Batch 1650] [D loss: 0.000270] [G loss: 0.406281]\n"
     ]
    },
    {
     "name": "stdout",
     "output_type": "stream",
     "text": [
      "[Epoch 0] [Batch 1700] [D loss: 0.010359] [G loss: 7.745734]\n"
     ]
    },
    {
     "name": "stderr",
     "output_type": "stream",
     "text": [
      "2022-02-09 13:38:18.091847: W tensorflow/core/data/root_dataset.cc:167] Optimization loop failed: Cancelled: Operation was cancelled\n"
     ]
    },
    {
     "name": "stdout",
     "output_type": "stream",
     "text": [
      "[Epoch 0] [Batch 1750] [D loss: 0.003127] [G loss: 0.008322]\n"
     ]
    },
    {
     "name": "stdout",
     "output_type": "stream",
     "text": [
      "[Epoch 0] [Batch 1800] [D loss: 0.001244] [G loss: 0.007083]\n"
     ]
    },
    {
     "name": "stdout",
     "output_type": "stream",
     "text": [
      "[Epoch 0] [Batch 1850] [D loss: 0.001011] [G loss: 0.060302]\n"
     ]
    },
    {
     "name": "stdout",
     "output_type": "stream",
     "text": [
      "[Epoch 0] [Batch 1900] [D loss: 0.000600] [G loss: 0.029264]\n"
     ]
    },
    {
     "name": "stdout",
     "output_type": "stream",
     "text": [
      "[Epoch 0] [Batch 1950] [D loss: 0.000509] [G loss: 0.021901]\n"
     ]
    },
    {
     "name": "stdout",
     "output_type": "stream",
     "text": [
      "[Epoch 0] [Batch 2000] [D loss: 0.001257] [G loss: 20.878078]\n"
     ]
    },
    {
     "name": "stdout",
     "output_type": "stream",
     "text": [
      "[Epoch 0] [Batch 2050] [D loss: 0.000676] [G loss: 0.136982]\n"
     ]
    },
    {
     "name": "stdout",
     "output_type": "stream",
     "text": [
      "[Epoch 0] [Batch 2100] [D loss: 0.000766] [G loss: 0.065635]\n"
     ]
    },
    {
     "name": "stdout",
     "output_type": "stream",
     "text": [
      "[Epoch 0] [Batch 2150] [D loss: 0.000440] [G loss: 0.027088]\n"
     ]
    },
    {
     "name": "stderr",
     "output_type": "stream",
     "text": [
      "2022-02-09 13:45:26.814648: W tensorflow/core/data/root_dataset.cc:167] Optimization loop failed: Cancelled: Operation was cancelled\n"
     ]
    },
    {
     "name": "stdout",
     "output_type": "stream",
     "text": [
      "[Epoch 0] [Batch 2200] [D loss: 0.000248] [G loss: 0.193290]\n"
     ]
    },
    {
     "name": "stdout",
     "output_type": "stream",
     "text": [
      "[Epoch 0] [Batch 2250] [D loss: 0.000197] [G loss: 0.118813]\n"
     ]
    },
    {
     "name": "stdout",
     "output_type": "stream",
     "text": [
      "[Epoch 0] [Batch 2300] [D loss: 0.000165] [G loss: 0.061890]\n"
     ]
    },
    {
     "name": "stdout",
     "output_type": "stream",
     "text": [
      "[Epoch 0] [Batch 2350] [D loss: 0.000184] [G loss: 0.046940]\n"
     ]
    },
    {
     "name": "stdout",
     "output_type": "stream",
     "text": [
      "[Epoch 0] [Batch 2400] [D loss: 0.000241] [G loss: 0.029236]\n"
     ]
    },
    {
     "name": "stdout",
     "output_type": "stream",
     "text": [
      "[Epoch 0] [Batch 2450] [D loss: 0.000230] [G loss: 0.045952]\n"
     ]
    },
    {
     "name": "stdout",
     "output_type": "stream",
     "text": [
      "[Epoch 0] [Batch 2500] [D loss: 0.000179] [G loss: 0.545095]\n"
     ]
    },
    {
     "name": "stdout",
     "output_type": "stream",
     "text": [
      "[Epoch 0] [Batch 2550] [D loss: 0.000284] [G loss: 0.186863]\n"
     ]
    },
    {
     "name": "stdout",
     "output_type": "stream",
     "text": [
      "[Epoch 0] [Batch 2600] [D loss: 0.001194] [G loss: 0.305383]\n"
     ]
    },
    {
     "name": "stdout",
     "output_type": "stream",
     "text": [
      "[Epoch 0] [Batch 2650] [D loss: 0.000574] [G loss: 0.037898]\n"
     ]
    },
    {
     "name": "stdout",
     "output_type": "stream",
     "text": [
      "[Epoch 0] [Batch 2700] [D loss: 0.001296] [G loss: 0.009065]\n"
     ]
    },
    {
     "name": "stdout",
     "output_type": "stream",
     "text": [
      "[Epoch 0] [Batch 2750] [D loss: 0.000464] [G loss: 0.017131]\n"
     ]
    },
    {
     "name": "stdout",
     "output_type": "stream",
     "text": [
      "[Epoch 0] [Batch 2800] [D loss: 0.000376] [G loss: 0.017020]\n"
     ]
    },
    {
     "name": "stdout",
     "output_type": "stream",
     "text": [
      "[Epoch 0] [Batch 2850] [D loss: 0.000168] [G loss: 0.022721]\n"
     ]
    },
    {
     "name": "stdout",
     "output_type": "stream",
     "text": [
      "[Epoch 0] [Batch 2900] [D loss: 0.000134] [G loss: 0.019379]\n"
     ]
    },
    {
     "name": "stdout",
     "output_type": "stream",
     "text": [
      "[Epoch 0] [Batch 2950] [D loss: 0.000169] [G loss: 0.012441]\n"
     ]
    },
    {
     "name": "stdout",
     "output_type": "stream",
     "text": [
      "[Epoch 0] [Batch 3000] [D loss: 0.000120] [G loss: 0.010357]\n"
     ]
    },
    {
     "name": "stdout",
     "output_type": "stream",
     "text": [
      "[Epoch 0] [Batch 3050] [D loss: 0.000080] [G loss: 0.013203]\n"
     ]
    },
    {
     "name": "stdout",
     "output_type": "stream",
     "text": [
      "[Epoch 0] [Batch 3100] [D loss: 0.000067] [G loss: 0.015819]\n"
     ]
    },
    {
     "name": "stdout",
     "output_type": "stream",
     "text": [
      "[Epoch 0] [Batch 3150] [D loss: 0.000058] [G loss: 0.014942]\n"
     ]
    },
    {
     "name": "stdout",
     "output_type": "stream",
     "text": [
      "[Epoch 0] [Batch 3200] [D loss: 0.000073] [G loss: 0.012639]\n"
     ]
    },
    {
     "name": "stdout",
     "output_type": "stream",
     "text": [
      "[Epoch 0] [Batch 3250] [D loss: 0.000058] [G loss: 0.013375]\n"
     ]
    },
    {
     "name": "stdout",
     "output_type": "stream",
     "text": [
      "[Epoch 0] [Batch 3300] [D loss: 0.000073] [G loss: 0.010163]\n"
     ]
    },
    {
     "name": "stdout",
     "output_type": "stream",
     "text": [
      "[Epoch 0] [Batch 3350] [D loss: 0.000058] [G loss: 0.013083]\n"
     ]
    },
    {
     "name": "stdout",
     "output_type": "stream",
     "text": [
      "[Epoch 0] [Batch 3400] [D loss: 0.000037] [G loss: 0.007293]\n"
     ]
    },
    {
     "name": "stdout",
     "output_type": "stream",
     "text": [
      "[Epoch 0] [Batch 3450] [D loss: 0.000036] [G loss: 0.007604]\n"
     ]
    },
    {
     "name": "stdout",
     "output_type": "stream",
     "text": [
      "[Epoch 0] [Batch 3500] [D loss: 0.000031] [G loss: 0.005712]\n"
     ]
    },
    {
     "name": "stdout",
     "output_type": "stream",
     "text": [
      "[Epoch 0] [Batch 3550] [D loss: 0.000039] [G loss: 0.004322]\n"
     ]
    },
    {
     "name": "stdout",
     "output_type": "stream",
     "text": [
      "[Epoch 0] [Batch 3600] [D loss: 0.000036] [G loss: 0.005199]\n"
     ]
    },
    {
     "name": "stderr",
     "output_type": "stream",
     "text": [
      "2022-02-09 14:08:44.328830: W tensorflow/core/data/root_dataset.cc:167] Optimization loop failed: Cancelled: Operation was cancelled\n"
     ]
    },
    {
     "name": "stdout",
     "output_type": "stream",
     "text": [
      "[Epoch 0] [Batch 3650] [D loss: 0.000032] [G loss: 0.008226]\n"
     ]
    },
    {
     "name": "stdout",
     "output_type": "stream",
     "text": [
      "[Epoch 0] [Batch 3700] [D loss: 0.000035] [G loss: 0.006871]\n"
     ]
    },
    {
     "name": "stdout",
     "output_type": "stream",
     "text": [
      "[Epoch 0] [Batch 3750] [D loss: 0.000023] [G loss: 0.006681]\n"
     ]
    },
    {
     "name": "stdout",
     "output_type": "stream",
     "text": [
      "[Epoch 0] [Batch 3800] [D loss: 0.000023] [G loss: 0.007115]\n"
     ]
    },
    {
     "name": "stdout",
     "output_type": "stream",
     "text": [
      "[Epoch 0] [Batch 3850] [D loss: 0.000018] [G loss: 0.004922]\n"
     ]
    },
    {
     "name": "stdout",
     "output_type": "stream",
     "text": [
      "[Epoch 0] [Batch 3900] [D loss: 0.000062] [G loss: 0.007390]\n"
     ]
    },
    {
     "name": "stdout",
     "output_type": "stream",
     "text": [
      "[Epoch 0] [Batch 3950] [D loss: 0.000077] [G loss: 0.007020]\n"
     ]
    },
    {
     "name": "stdout",
     "output_type": "stream",
     "text": [
      "[Epoch 0] [Batch 4000] [D loss: 0.000031] [G loss: 0.005504]\n"
     ]
    },
    {
     "name": "stderr",
     "output_type": "stream",
     "text": [
      "2022-02-09 14:15:12.616919: W tensorflow/core/data/root_dataset.cc:167] Optimization loop failed: Cancelled: Operation was cancelled\n"
     ]
    },
    {
     "name": "stdout",
     "output_type": "stream",
     "text": [
      "[Epoch 0] [Batch 4050] [D loss: 0.000024] [G loss: 0.005917]\n"
     ]
    },
    {
     "name": "stdout",
     "output_type": "stream",
     "text": [
      "[Epoch 0] [Batch 4100] [D loss: 0.000019] [G loss: 0.004921]\n"
     ]
    },
    {
     "name": "stdout",
     "output_type": "stream",
     "text": [
      "[Epoch 0] [Batch 4150] [D loss: 0.000017] [G loss: 0.005348]\n"
     ]
    },
    {
     "name": "stdout",
     "output_type": "stream",
     "text": [
      "[Epoch 0] [Batch 4200] [D loss: 0.000015] [G loss: 0.005332]\n"
     ]
    },
    {
     "name": "stdout",
     "output_type": "stream",
     "text": [
      "[Epoch 0] [Batch 4250] [D loss: 0.000014] [G loss: 0.005487]\n"
     ]
    },
    {
     "name": "stdout",
     "output_type": "stream",
     "text": [
      "[Epoch 0] [Batch 4300] [D loss: 0.000014] [G loss: 0.007915]\n"
     ]
    },
    {
     "name": "stdout",
     "output_type": "stream",
     "text": [
      "[Epoch 0] [Batch 4350] [D loss: 0.000012] [G loss: 0.007516]\n"
     ]
    },
    {
     "name": "stdout",
     "output_type": "stream",
     "text": [
      "[Epoch 0] [Batch 4400] [D loss: 0.000015] [G loss: 0.011588]\n"
     ]
    },
    {
     "name": "stdout",
     "output_type": "stream",
     "text": [
      "[Epoch 0] [Batch 4450] [D loss: 0.000013] [G loss: 0.017079]\n"
     ]
    },
    {
     "name": "stdout",
     "output_type": "stream",
     "text": [
      "[Epoch 0] [Batch 4500] [D loss: 0.000049] [G loss: 0.016447]\n"
     ]
    },
    {
     "name": "stdout",
     "output_type": "stream",
     "text": [
      "[Epoch 0] [Batch 4550] [D loss: 0.000014] [G loss: 0.013415]\n"
     ]
    },
    {
     "name": "stdout",
     "output_type": "stream",
     "text": [
      "[Epoch 0] [Batch 4600] [D loss: 0.000014] [G loss: 0.014440]\n"
     ]
    },
    {
     "name": "stdout",
     "output_type": "stream",
     "text": [
      "[Epoch 0] [Batch 4650] [D loss: 0.000018] [G loss: 0.015958]\n"
     ]
    },
    {
     "name": "stderr",
     "output_type": "stream",
     "text": [
      "2022-02-09 14:25:25.982176: W tensorflow/core/data/root_dataset.cc:167] Optimization loop failed: Cancelled: Operation was cancelled\n"
     ]
    },
    {
     "name": "stdout",
     "output_type": "stream",
     "text": [
      "[Epoch 0] [Batch 4700] [D loss: 0.000039] [G loss: 1.096732]\n"
     ]
    },
    {
     "name": "stdout",
     "output_type": "stream",
     "text": [
      "[Epoch 0] [Batch 4750] [D loss: 0.000014] [G loss: 0.027200]\n"
     ]
    },
    {
     "name": "stdout",
     "output_type": "stream",
     "text": [
      "[Epoch 0] [Batch 4800] [D loss: 0.000016] [G loss: 0.019391]\n"
     ]
    },
    {
     "name": "stdout",
     "output_type": "stream",
     "text": [
      "[Epoch 0] [Batch 4850] [D loss: 0.000018] [G loss: 0.021004]\n"
     ]
    },
    {
     "name": "stdout",
     "output_type": "stream",
     "text": [
      "[Epoch 0] [Batch 4900] [D loss: 0.000014] [G loss: 0.019369]\n"
     ]
    },
    {
     "name": "stdout",
     "output_type": "stream",
     "text": [
      "[Epoch 0] [Batch 4950] [D loss: 0.000022] [G loss: 0.026989]\n"
     ]
    },
    {
     "name": "stdout",
     "output_type": "stream",
     "text": [
      "[Epoch 0] [Batch 5000] [D loss: 0.000016] [G loss: 0.041805]\n"
     ]
    },
    {
     "name": "stdout",
     "output_type": "stream",
     "text": [
      "[Epoch 0] [Batch 5050] [D loss: 0.000013] [G loss: 0.038668]\n"
     ]
    },
    {
     "name": "stdout",
     "output_type": "stream",
     "text": [
      "[Epoch 0] [Batch 5100] [D loss: 0.000012] [G loss: 0.041298]\n"
     ]
    },
    {
     "name": "stdout",
     "output_type": "stream",
     "text": [
      "[Epoch 0] [Batch 5150] [D loss: 0.000010] [G loss: 0.038612]\n"
     ]
    },
    {
     "name": "stdout",
     "output_type": "stream",
     "text": [
      "[Epoch 0] [Batch 5200] [D loss: 0.000012] [G loss: 0.032794]\n"
     ]
    },
    {
     "name": "stdout",
     "output_type": "stream",
     "text": [
      "[Epoch 0] [Batch 5250] [D loss: 0.000015] [G loss: 0.030123]\n"
     ]
    },
    {
     "name": "stdout",
     "output_type": "stream",
     "text": [
      "[Epoch 0] [Batch 5300] [D loss: 0.000008] [G loss: 0.031810]\n"
     ]
    },
    {
     "name": "stdout",
     "output_type": "stream",
     "text": [
      "[Epoch 0] [Batch 5350] [D loss: 0.000008] [G loss: 0.033164]\n"
     ]
    },
    {
     "name": "stdout",
     "output_type": "stream",
     "text": [
      "[Epoch 0] [Batch 5400] [D loss: 0.000006] [G loss: 0.021630]\n"
     ]
    },
    {
     "name": "stdout",
     "output_type": "stream",
     "text": [
      "[Epoch 0] [Batch 5450] [D loss: 0.000005] [G loss: 0.020174]\n"
     ]
    },
    {
     "name": "stdout",
     "output_type": "stream",
     "text": [
      "[Epoch 0] [Batch 5500] [D loss: 0.000005] [G loss: 0.018598]\n"
     ]
    },
    {
     "name": "stdout",
     "output_type": "stream",
     "text": [
      "[Epoch 0] [Batch 5550] [D loss: 0.000004] [G loss: 0.017157]\n"
     ]
    },
    {
     "name": "stdout",
     "output_type": "stream",
     "text": [
      "[Epoch 0] [Batch 5600] [D loss: 0.000004] [G loss: 0.014571]\n"
     ]
    },
    {
     "name": "stdout",
     "output_type": "stream",
     "text": [
      "[Epoch 0] [Batch 5650] [D loss: 0.000003] [G loss: 0.015959]\n"
     ]
    },
    {
     "name": "stdout",
     "output_type": "stream",
     "text": [
      "[Epoch 0] [Batch 5700] [D loss: 0.000003] [G loss: 0.013936]\n"
     ]
    },
    {
     "name": "stdout",
     "output_type": "stream",
     "text": [
      "[Epoch 0] [Batch 5750] [D loss: 0.000003] [G loss: 0.012450]\n"
     ]
    },
    {
     "name": "stdout",
     "output_type": "stream",
     "text": [
      "[Epoch 0] [Batch 5800] [D loss: 0.000003] [G loss: 0.013609]\n"
     ]
    },
    {
     "name": "stdout",
     "output_type": "stream",
     "text": [
      "[Epoch 0] [Batch 5850] [D loss: 0.000003] [G loss: 0.007462]\n"
     ]
    },
    {
     "name": "stdout",
     "output_type": "stream",
     "text": [
      "[Epoch 0] [Batch 5900] [D loss: 0.000002] [G loss: 0.005084]\n"
     ]
    },
    {
     "name": "stdout",
     "output_type": "stream",
     "text": [
      "[Epoch 0] [Batch 5950] [D loss: 0.000003] [G loss: 0.004226]\n"
     ]
    },
    {
     "name": "stdout",
     "output_type": "stream",
     "text": [
      "[Epoch 0] [Batch 6000] [D loss: 0.000002] [G loss: 0.003433]\n"
     ]
    },
    {
     "name": "stdout",
     "output_type": "stream",
     "text": [
      "[Epoch 0] [Batch 6050] [D loss: 0.000002] [G loss: 0.003456]\n"
     ]
    },
    {
     "name": "stdout",
     "output_type": "stream",
     "text": [
      "[Epoch 0] [Batch 6100] [D loss: 0.000002] [G loss: 0.002805]\n"
     ]
    },
    {
     "name": "stdout",
     "output_type": "stream",
     "text": [
      "[Epoch 0] [Batch 6150] [D loss: 0.000001] [G loss: 0.002850]\n"
     ]
    },
    {
     "name": "stdout",
     "output_type": "stream",
     "text": [
      "[Epoch 0] [Batch 6200] [D loss: 0.000001] [G loss: 0.002466]\n"
     ]
    },
    {
     "name": "stdout",
     "output_type": "stream",
     "text": [
      "[Epoch 0] [Batch 6250] [D loss: 0.000001] [G loss: 0.002332]\n"
     ]
    },
    {
     "name": "stdout",
     "output_type": "stream",
     "text": [
      "[Epoch 0] [Batch 6300] [D loss: 0.000001] [G loss: 0.002570]\n"
     ]
    },
    {
     "name": "stdout",
     "output_type": "stream",
     "text": [
      "[Epoch 0] [Batch 6350] [D loss: 0.000001] [G loss: 0.002593]\n"
     ]
    },
    {
     "name": "stdout",
     "output_type": "stream",
     "text": [
      "[Epoch 0] [Batch 6400] [D loss: 0.000001] [G loss: 0.002590]\n"
     ]
    },
    {
     "name": "stdout",
     "output_type": "stream",
     "text": [
      "[Epoch 0] [Batch 6450] [D loss: 0.000002] [G loss: 0.002431]\n"
     ]
    },
    {
     "name": "stdout",
     "output_type": "stream",
     "text": [
      "[Epoch 0] [Batch 6500] [D loss: 0.000002] [G loss: 0.002405]\n"
     ]
    },
    {
     "name": "stdout",
     "output_type": "stream",
     "text": [
      "[Epoch 0] [Batch 6550] [D loss: 0.000001] [G loss: 0.002391]\n"
     ]
    },
    {
     "name": "stdout",
     "output_type": "stream",
     "text": [
      "[Epoch 0] [Batch 6600] [D loss: 0.000001] [G loss: 0.002240]\n"
     ]
    },
    {
     "name": "stdout",
     "output_type": "stream",
     "text": [
      "[Epoch 0] [Batch 6650] [D loss: 0.000001] [G loss: 0.002234]\n"
     ]
    },
    {
     "name": "stdout",
     "output_type": "stream",
     "text": [
      "[Epoch 0] [Batch 6700] [D loss: 0.000001] [G loss: 0.002151]\n"
     ]
    },
    {
     "name": "stdout",
     "output_type": "stream",
     "text": [
      "[Epoch 0] [Batch 6750] [D loss: 0.000001] [G loss: 0.002014]\n"
     ]
    },
    {
     "name": "stdout",
     "output_type": "stream",
     "text": [
      "[Epoch 0] [Batch 6800] [D loss: 0.000001] [G loss: 0.002047]\n"
     ]
    },
    {
     "name": "stdout",
     "output_type": "stream",
     "text": [
      "[Epoch 0] [Batch 6850] [D loss: 0.000001] [G loss: 0.001970]\n"
     ]
    },
    {
     "name": "stdout",
     "output_type": "stream",
     "text": [
      "[Epoch 0] [Batch 6900] [D loss: 0.000001] [G loss: 0.001888]\n"
     ]
    },
    {
     "name": "stdout",
     "output_type": "stream",
     "text": [
      "[Epoch 0] [Batch 6950] [D loss: 0.000001] [G loss: 0.001837]\n"
     ]
    },
    {
     "name": "stdout",
     "output_type": "stream",
     "text": [
      "[Epoch 0] [Batch 7000] [D loss: 0.000001] [G loss: 0.001828]\n"
     ]
    },
    {
     "name": "stdout",
     "output_type": "stream",
     "text": [
      "[Epoch 0] [Batch 7050] [D loss: 0.000001] [G loss: 0.001678]\n"
     ]
    },
    {
     "name": "stdout",
     "output_type": "stream",
     "text": [
      "[Epoch 0] [Batch 7100] [D loss: 0.000001] [G loss: 0.002206]\n"
     ]
    },
    {
     "name": "stdout",
     "output_type": "stream",
     "text": [
      "[Epoch 0] [Batch 7150] [D loss: 0.000001] [G loss: 0.002893]\n"
     ]
    },
    {
     "name": "stdout",
     "output_type": "stream",
     "text": [
      "[Epoch 0] [Batch 7200] [D loss: 0.000001] [G loss: 0.002892]\n"
     ]
    },
    {
     "name": "stdout",
     "output_type": "stream",
     "text": [
      "[Epoch 0] [Batch 7250] [D loss: 0.000001] [G loss: 0.002507]\n"
     ]
    },
    {
     "name": "stdout",
     "output_type": "stream",
     "text": [
      "[Epoch 0] [Batch 7300] [D loss: 0.000001] [G loss: 0.002622]\n"
     ]
    },
    {
     "name": "stdout",
     "output_type": "stream",
     "text": [
      "[Epoch 0] [Batch 7350] [D loss: 0.000001] [G loss: 0.002074]\n"
     ]
    },
    {
     "name": "stdout",
     "output_type": "stream",
     "text": [
      "[Epoch 0] [Batch 7400] [D loss: 0.000001] [G loss: 0.002106]\n"
     ]
    },
    {
     "name": "stdout",
     "output_type": "stream",
     "text": [
      "[Epoch 0] [Batch 7450] [D loss: 0.000001] [G loss: 0.002140]\n"
     ]
    },
    {
     "name": "stdout",
     "output_type": "stream",
     "text": [
      "[Epoch 0] [Batch 7500] [D loss: 0.000001] [G loss: 0.002192]\n"
     ]
    },
    {
     "name": "stdout",
     "output_type": "stream",
     "text": [
      "[Epoch 0] [Batch 7550] [D loss: 0.000001] [G loss: 0.002261]\n"
     ]
    },
    {
     "name": "stdout",
     "output_type": "stream",
     "text": [
      "[Epoch 0] [Batch 7600] [D loss: 0.000001] [G loss: 0.002662]\n"
     ]
    },
    {
     "name": "stdout",
     "output_type": "stream",
     "text": [
      "[Epoch 0] [Batch 7650] [D loss: 0.000001] [G loss: 0.002128]\n"
     ]
    },
    {
     "name": "stdout",
     "output_type": "stream",
     "text": [
      "[Epoch 0] [Batch 7700] [D loss: 0.000001] [G loss: 0.002031]\n"
     ]
    },
    {
     "name": "stdout",
     "output_type": "stream",
     "text": [
      "[Epoch 0] [Batch 7750] [D loss: 0.000001] [G loss: 0.002652]\n"
     ]
    },
    {
     "name": "stdout",
     "output_type": "stream",
     "text": [
      "[Epoch 0] [Batch 7800] [D loss: 0.000000] [G loss: 0.003141]\n"
     ]
    },
    {
     "name": "stdout",
     "output_type": "stream",
     "text": [
      "[Epoch 0] [Batch 7850] [D loss: 0.000000] [G loss: 0.003419]\n"
     ]
    },
    {
     "name": "stdout",
     "output_type": "stream",
     "text": [
      "[Epoch 0] [Batch 7900] [D loss: 0.000000] [G loss: 0.003480]\n"
     ]
    },
    {
     "name": "stdout",
     "output_type": "stream",
     "text": [
      "[Epoch 0] [Batch 7950] [D loss: 0.000000] [G loss: 0.003563]\n"
     ]
    },
    {
     "name": "stdout",
     "output_type": "stream",
     "text": [
      "[Epoch 0] [Batch 8000] [D loss: 0.000000] [G loss: 0.003949]\n"
     ]
    },
    {
     "name": "stdout",
     "output_type": "stream",
     "text": [
      "[Epoch 0] [Batch 8050] [D loss: 0.000000] [G loss: 0.004266]\n"
     ]
    },
    {
     "name": "stdout",
     "output_type": "stream",
     "text": [
      "[Epoch 0] [Batch 8100] [D loss: 0.000000] [G loss: 0.004193]\n"
     ]
    },
    {
     "name": "stdout",
     "output_type": "stream",
     "text": [
      "[Epoch 0] [Batch 8150] [D loss: 0.000000] [G loss: 0.003933]\n"
     ]
    },
    {
     "name": "stdout",
     "output_type": "stream",
     "text": [
      "[Epoch 0] [Batch 8200] [D loss: 0.000000] [G loss: 0.003476]\n"
     ]
    },
    {
     "name": "stdout",
     "output_type": "stream",
     "text": [
      "[Epoch 0] [Batch 8250] [D loss: 0.000000] [G loss: 0.003525]\n"
     ]
    },
    {
     "name": "stdout",
     "output_type": "stream",
     "text": [
      "[Epoch 0] [Batch 8300] [D loss: 0.000000] [G loss: 0.004148]\n"
     ]
    },
    {
     "name": "stdout",
     "output_type": "stream",
     "text": [
      "[Epoch 0] [Batch 8350] [D loss: 0.000000] [G loss: 0.003713]\n"
     ]
    },
    {
     "name": "stdout",
     "output_type": "stream",
     "text": [
      "[Epoch 0] [Batch 8400] [D loss: 0.000000] [G loss: 0.004628]\n"
     ]
    },
    {
     "name": "stdout",
     "output_type": "stream",
     "text": [
      "[Epoch 0] [Batch 8450] [D loss: 0.004485] [G loss: 1.159097]\n"
     ]
    },
    {
     "name": "stdout",
     "output_type": "stream",
     "text": [
      "[Epoch 0] [Batch 8500] [D loss: 0.001000] [G loss: 0.011738]\n"
     ]
    },
    {
     "name": "stdout",
     "output_type": "stream",
     "text": [
      "[Epoch 0] [Batch 8550] [D loss: 0.000756] [G loss: 0.013586]\n"
     ]
    },
    {
     "name": "stderr",
     "output_type": "stream",
     "text": [
      "2022-02-09 15:26:28.252082: W tensorflow/core/data/root_dataset.cc:167] Optimization loop failed: Cancelled: Operation was cancelled\n"
     ]
    },
    {
     "name": "stdout",
     "output_type": "stream",
     "text": [
      "[Epoch 0] [Batch 8600] [D loss: 0.000522] [G loss: 0.023429]\n"
     ]
    },
    {
     "name": "stdout",
     "output_type": "stream",
     "text": [
      "[Epoch 0] [Batch 8650] [D loss: 0.000439] [G loss: 0.019771]\n"
     ]
    },
    {
     "name": "stdout",
     "output_type": "stream",
     "text": [
      "Time for epoch 0 is 8201.649861812592 sec\n"
     ]
    },
    {
     "name": "stdout",
     "output_type": "stream",
     "text": [
      "[Epoch 1] [Batch 0] [D loss: 0.000437] [G loss: 0.030671]\n"
     ]
    },
    {
     "name": "stdout",
     "output_type": "stream",
     "text": [
      "[Epoch 1] [Batch 50] [D loss: 0.000238] [G loss: 0.021289]\n"
     ]
    },
    {
     "name": "stdout",
     "output_type": "stream",
     "text": [
      "[Epoch 1] [Batch 100] [D loss: 0.000176] [G loss: 0.013541]\n"
     ]
    },
    {
     "name": "stdout",
     "output_type": "stream",
     "text": [
      "[Epoch 1] [Batch 150] [D loss: 0.000471] [G loss: 0.027729]\n"
     ]
    },
    {
     "name": "stdout",
     "output_type": "stream",
     "text": [
      "[Epoch 1] [Batch 200] [D loss: 0.000118] [G loss: 0.010806]\n"
     ]
    },
    {
     "name": "stdout",
     "output_type": "stream",
     "text": [
      "[Epoch 1] [Batch 250] [D loss: 0.000084] [G loss: 0.013678]\n"
     ]
    },
    {
     "name": "stdout",
     "output_type": "stream",
     "text": [
      "[Epoch 1] [Batch 300] [D loss: 0.000075] [G loss: 0.009665]\n"
     ]
    },
    {
     "name": "stdout",
     "output_type": "stream",
     "text": [
      "[Epoch 1] [Batch 350] [D loss: 0.000078] [G loss: 0.008838]\n"
     ]
    },
    {
     "name": "stdout",
     "output_type": "stream",
     "text": [
      "[Epoch 1] [Batch 400] [D loss: 0.000075] [G loss: 0.010240]\n"
     ]
    },
    {
     "name": "stdout",
     "output_type": "stream",
     "text": [
      "[Epoch 1] [Batch 450] [D loss: 0.000389] [G loss: 0.411600]\n"
     ]
    },
    {
     "name": "stdout",
     "output_type": "stream",
     "text": [
      "[Epoch 1] [Batch 500] [D loss: 0.000195] [G loss: 0.260736]\n"
     ]
    },
    {
     "name": "stdout",
     "output_type": "stream",
     "text": [
      "[Epoch 1] [Batch 550] [D loss: 0.000178] [G loss: 0.201382]\n"
     ]
    },
    {
     "name": "stdout",
     "output_type": "stream",
     "text": [
      "[Epoch 1] [Batch 600] [D loss: 0.000088] [G loss: 0.114441]\n"
     ]
    },
    {
     "name": "stdout",
     "output_type": "stream",
     "text": [
      "[Epoch 1] [Batch 650] [D loss: 0.000069] [G loss: 0.074672]\n"
     ]
    },
    {
     "name": "stdout",
     "output_type": "stream",
     "text": [
      "[Epoch 1] [Batch 700] [D loss: 0.000060] [G loss: 0.044278]\n"
     ]
    },
    {
     "name": "stdout",
     "output_type": "stream",
     "text": [
      "[Epoch 1] [Batch 750] [D loss: 0.000045] [G loss: 0.024078]\n"
     ]
    },
    {
     "name": "stdout",
     "output_type": "stream",
     "text": [
      "[Epoch 1] [Batch 800] [D loss: 0.000041] [G loss: 0.031160]\n"
     ]
    },
    {
     "name": "stdout",
     "output_type": "stream",
     "text": [
      "[Epoch 1] [Batch 850] [D loss: 0.000031] [G loss: 0.040360]\n"
     ]
    },
    {
     "name": "stdout",
     "output_type": "stream",
     "text": [
      "[Epoch 1] [Batch 900] [D loss: 0.000026] [G loss: 0.048986]\n"
     ]
    },
    {
     "name": "stdout",
     "output_type": "stream",
     "text": [
      "[Epoch 1] [Batch 950] [D loss: 0.000026] [G loss: 0.046752]\n"
     ]
    },
    {
     "name": "stdout",
     "output_type": "stream",
     "text": [
      "[Epoch 1] [Batch 1000] [D loss: 0.000222] [G loss: 0.057714]\n"
     ]
    },
    {
     "name": "stdout",
     "output_type": "stream",
     "text": [
      "[Epoch 1] [Batch 1050] [D loss: 0.000646] [G loss: 1.717006]\n"
     ]
    },
    {
     "name": "stdout",
     "output_type": "stream",
     "text": [
      "[Epoch 1] [Batch 1100] [D loss: 0.000059] [G loss: 0.031393]\n"
     ]
    },
    {
     "name": "stdout",
     "output_type": "stream",
     "text": [
      "[Epoch 1] [Batch 1150] [D loss: 0.000039] [G loss: 0.012744]\n"
     ]
    },
    {
     "name": "stdout",
     "output_type": "stream",
     "text": [
      "[Epoch 1] [Batch 1200] [D loss: 0.000035] [G loss: 0.010881]\n"
     ]
    },
    {
     "name": "stdout",
     "output_type": "stream",
     "text": [
      "[Epoch 1] [Batch 1250] [D loss: 0.000035] [G loss: 0.011677]\n"
     ]
    },
    {
     "name": "stdout",
     "output_type": "stream",
     "text": [
      "[Epoch 1] [Batch 1300] [D loss: 0.000044] [G loss: 0.013380]\n"
     ]
    },
    {
     "name": "stdout",
     "output_type": "stream",
     "text": [
      "[Epoch 1] [Batch 1350] [D loss: 0.000035] [G loss: 0.012301]\n"
     ]
    },
    {
     "name": "stdout",
     "output_type": "stream",
     "text": [
      "[Epoch 1] [Batch 1400] [D loss: 0.000026] [G loss: 0.011925]\n"
     ]
    },
    {
     "name": "stdout",
     "output_type": "stream",
     "text": [
      "[Epoch 1] [Batch 1450] [D loss: 0.000024] [G loss: 0.015122]\n"
     ]
    },
    {
     "name": "stdout",
     "output_type": "stream",
     "text": [
      "[Epoch 1] [Batch 1500] [D loss: 0.000027] [G loss: 0.016314]\n"
     ]
    },
    {
     "name": "stdout",
     "output_type": "stream",
     "text": [
      "[Epoch 1] [Batch 1550] [D loss: 0.000029] [G loss: 0.015302]\n"
     ]
    },
    {
     "name": "stdout",
     "output_type": "stream",
     "text": [
      "[Epoch 1] [Batch 1600] [D loss: 0.000026] [G loss: 0.016040]\n"
     ]
    },
    {
     "name": "stdout",
     "output_type": "stream",
     "text": [
      "[Epoch 1] [Batch 1650] [D loss: 0.000029] [G loss: 0.021869]\n"
     ]
    },
    {
     "name": "stdout",
     "output_type": "stream",
     "text": [
      "[Epoch 1] [Batch 1700] [D loss: 0.000061] [G loss: 0.811293]\n"
     ]
    },
    {
     "name": "stderr",
     "output_type": "stream",
     "text": [
      "2022-02-09 15:53:47.456526: W tensorflow/core/data/root_dataset.cc:167] Optimization loop failed: Cancelled: Operation was cancelled\n"
     ]
    },
    {
     "name": "stdout",
     "output_type": "stream",
     "text": [
      "[Epoch 1] [Batch 1750] [D loss: 0.000043] [G loss: 0.166027]\n"
     ]
    },
    {
     "name": "stdout",
     "output_type": "stream",
     "text": [
      "[Epoch 1] [Batch 1800] [D loss: 0.000024] [G loss: 0.108294]\n"
     ]
    },
    {
     "name": "stdout",
     "output_type": "stream",
     "text": [
      "[Epoch 1] [Batch 1850] [D loss: 0.000022] [G loss: 0.039543]\n"
     ]
    },
    {
     "name": "stdout",
     "output_type": "stream",
     "text": [
      "[Epoch 1] [Batch 1900] [D loss: 0.000015] [G loss: 0.022551]\n"
     ]
    },
    {
     "name": "stdout",
     "output_type": "stream",
     "text": [
      "[Epoch 1] [Batch 1950] [D loss: 0.000010] [G loss: 0.013811]\n"
     ]
    },
    {
     "name": "stdout",
     "output_type": "stream",
     "text": [
      "[Epoch 1] [Batch 2000] [D loss: 0.000009] [G loss: 0.018413]\n"
     ]
    },
    {
     "name": "stdout",
     "output_type": "stream",
     "text": [
      "[Epoch 1] [Batch 2050] [D loss: 0.000009] [G loss: 0.017896]\n"
     ]
    },
    {
     "name": "stdout",
     "output_type": "stream",
     "text": [
      "[Epoch 1] [Batch 2100] [D loss: 0.000011] [G loss: 0.015039]\n"
     ]
    },
    {
     "name": "stdout",
     "output_type": "stream",
     "text": [
      "[Epoch 1] [Batch 2150] [D loss: 0.000018] [G loss: 0.391812]\n"
     ]
    },
    {
     "name": "stdout",
     "output_type": "stream",
     "text": [
      "[Epoch 1] [Batch 2200] [D loss: 0.000009] [G loss: 0.198347]\n"
     ]
    },
    {
     "name": "stdout",
     "output_type": "stream",
     "text": [
      "[Epoch 1] [Batch 2250] [D loss: 0.000005] [G loss: 0.038751]\n"
     ]
    },
    {
     "name": "stderr",
     "output_type": "stream",
     "text": [
      "2022-02-09 16:02:20.180115: W tensorflow/core/data/root_dataset.cc:167] Optimization loop failed: Cancelled: Operation was cancelled\n"
     ]
    },
    {
     "name": "stdout",
     "output_type": "stream",
     "text": [
      "[Epoch 1] [Batch 2300] [D loss: 0.000004] [G loss: 0.021642]\n"
     ]
    },
    {
     "name": "stdout",
     "output_type": "stream",
     "text": [
      "[Epoch 1] [Batch 2350] [D loss: 0.000004] [G loss: 0.021132]\n"
     ]
    },
    {
     "name": "stdout",
     "output_type": "stream",
     "text": [
      "[Epoch 1] [Batch 2400] [D loss: 0.000004] [G loss: 0.017826]\n"
     ]
    },
    {
     "name": "stdout",
     "output_type": "stream",
     "text": [
      "[Epoch 1] [Batch 2450] [D loss: 0.000003] [G loss: 0.018426]\n"
     ]
    },
    {
     "name": "stdout",
     "output_type": "stream",
     "text": [
      "[Epoch 1] [Batch 2500] [D loss: 0.000004] [G loss: 0.023191]\n"
     ]
    },
    {
     "name": "stdout",
     "output_type": "stream",
     "text": [
      "[Epoch 1] [Batch 2550] [D loss: 0.000003] [G loss: 0.018814]\n"
     ]
    },
    {
     "name": "stdout",
     "output_type": "stream",
     "text": [
      "[Epoch 1] [Batch 2600] [D loss: 0.000004] [G loss: 0.023221]\n"
     ]
    },
    {
     "name": "stdout",
     "output_type": "stream",
     "text": [
      "[Epoch 1] [Batch 2650] [D loss: 0.000003] [G loss: 0.023408]\n"
     ]
    },
    {
     "name": "stdout",
     "output_type": "stream",
     "text": [
      "[Epoch 1] [Batch 2700] [D loss: 0.000003] [G loss: 0.035535]\n"
     ]
    },
    {
     "name": "stdout",
     "output_type": "stream",
     "text": [
      "[Epoch 1] [Batch 2750] [D loss: 0.000003] [G loss: 0.093234]\n"
     ]
    },
    {
     "name": "stdout",
     "output_type": "stream",
     "text": [
      "[Epoch 1] [Batch 2800] [D loss: 0.000004] [G loss: 0.074929]\n"
     ]
    },
    {
     "name": "stdout",
     "output_type": "stream",
     "text": [
      "[Epoch 1] [Batch 2850] [D loss: 0.000004] [G loss: 0.052067]\n"
     ]
    },
    {
     "name": "stdout",
     "output_type": "stream",
     "text": [
      "[Epoch 1] [Batch 2900] [D loss: 0.000003] [G loss: 0.020674]\n"
     ]
    },
    {
     "name": "stdout",
     "output_type": "stream",
     "text": [
      "[Epoch 1] [Batch 2950] [D loss: 0.000004] [G loss: 0.021761]\n"
     ]
    },
    {
     "name": "stdout",
     "output_type": "stream",
     "text": [
      "[Epoch 1] [Batch 3000] [D loss: 0.000003] [G loss: 0.025118]\n"
     ]
    },
    {
     "name": "stdout",
     "output_type": "stream",
     "text": [
      "[Epoch 1] [Batch 3050] [D loss: 0.000012] [G loss: 1.838695]\n"
     ]
    },
    {
     "name": "stdout",
     "output_type": "stream",
     "text": [
      "[Epoch 1] [Batch 3100] [D loss: 0.000007] [G loss: 1.168657]\n"
     ]
    },
    {
     "name": "stdout",
     "output_type": "stream",
     "text": [
      "[Epoch 1] [Batch 3150] [D loss: 0.000002] [G loss: 0.238484]\n"
     ]
    },
    {
     "name": "stdout",
     "output_type": "stream",
     "text": [
      "[Epoch 1] [Batch 3200] [D loss: 0.000002] [G loss: 0.103935]\n"
     ]
    },
    {
     "name": "stdout",
     "output_type": "stream",
     "text": [
      "[Epoch 1] [Batch 3250] [D loss: 0.000003] [G loss: 0.054655]\n"
     ]
    },
    {
     "name": "stdout",
     "output_type": "stream",
     "text": [
      "[Epoch 1] [Batch 3300] [D loss: 0.000005] [G loss: 0.007923]\n"
     ]
    },
    {
     "name": "stdout",
     "output_type": "stream",
     "text": [
      "[Epoch 1] [Batch 3350] [D loss: 0.000003] [G loss: 0.005403]\n"
     ]
    },
    {
     "name": "stdout",
     "output_type": "stream",
     "text": [
      "[Epoch 1] [Batch 3400] [D loss: 0.000002] [G loss: 0.010678]\n"
     ]
    },
    {
     "name": "stdout",
     "output_type": "stream",
     "text": [
      "[Epoch 1] [Batch 3450] [D loss: 0.000002] [G loss: 0.019040]\n"
     ]
    },
    {
     "name": "stdout",
     "output_type": "stream",
     "text": [
      "[Epoch 1] [Batch 3500] [D loss: 0.000001] [G loss: 0.016046]\n"
     ]
    },
    {
     "name": "stdout",
     "output_type": "stream",
     "text": [
      "[Epoch 1] [Batch 3550] [D loss: 0.000002] [G loss: 0.015428]\n"
     ]
    },
    {
     "name": "stdout",
     "output_type": "stream",
     "text": [
      "[Epoch 1] [Batch 3600] [D loss: 0.000002] [G loss: 0.010084]\n"
     ]
    },
    {
     "name": "stdout",
     "output_type": "stream",
     "text": [
      "[Epoch 1] [Batch 3650] [D loss: 0.000007] [G loss: 1.805130]\n"
     ]
    },
    {
     "name": "stdout",
     "output_type": "stream",
     "text": [
      "[Epoch 1] [Batch 3700] [D loss: 0.000003] [G loss: 0.776629]\n"
     ]
    },
    {
     "name": "stdout",
     "output_type": "stream",
     "text": [
      "[Epoch 1] [Batch 3750] [D loss: 0.000004] [G loss: 2.587704]\n"
     ]
    },
    {
     "name": "stdout",
     "output_type": "stream",
     "text": [
      "[Epoch 1] [Batch 3800] [D loss: 0.000004] [G loss: 1.116114]\n"
     ]
    },
    {
     "name": "stdout",
     "output_type": "stream",
     "text": [
      "[Epoch 1] [Batch 3850] [D loss: 0.000001] [G loss: 0.615191]\n"
     ]
    },
    {
     "name": "stdout",
     "output_type": "stream",
     "text": [
      "[Epoch 1] [Batch 3900] [D loss: 0.000002] [G loss: 0.400935]\n"
     ]
    },
    {
     "name": "stdout",
     "output_type": "stream",
     "text": [
      "[Epoch 1] [Batch 3950] [D loss: 0.000003] [G loss: 0.970541]\n"
     ]
    },
    {
     "name": "stdout",
     "output_type": "stream",
     "text": [
      "[Epoch 1] [Batch 4000] [D loss: 0.000001] [G loss: 0.299475]\n"
     ]
    },
    {
     "name": "stdout",
     "output_type": "stream",
     "text": [
      "[Epoch 1] [Batch 4050] [D loss: 0.000002] [G loss: 0.973263]\n"
     ]
    },
    {
     "name": "stdout",
     "output_type": "stream",
     "text": [
      "[Epoch 1] [Batch 4100] [D loss: 0.000001] [G loss: 0.356665]\n"
     ]
    },
    {
     "name": "stdout",
     "output_type": "stream",
     "text": [
      "[Epoch 1] [Batch 4150] [D loss: 0.000001] [G loss: 0.209888]\n"
     ]
    },
    {
     "name": "stderr",
     "output_type": "stream",
     "text": [
      "2022-02-09 16:31:22.552719: W tensorflow/core/data/root_dataset.cc:167] Optimization loop failed: Cancelled: Operation was cancelled\n"
     ]
    },
    {
     "name": "stdout",
     "output_type": "stream",
     "text": [
      "[Epoch 1] [Batch 4200] [D loss: 0.000002] [G loss: 0.290620]\n"
     ]
    },
    {
     "name": "stdout",
     "output_type": "stream",
     "text": [
      "[Epoch 1] [Batch 4250] [D loss: 0.000001] [G loss: 0.059779]\n"
     ]
    },
    {
     "name": "stdout",
     "output_type": "stream",
     "text": [
      "[Epoch 1] [Batch 4300] [D loss: 0.000001] [G loss: 0.038984]\n"
     ]
    },
    {
     "name": "stdout",
     "output_type": "stream",
     "text": [
      "[Epoch 1] [Batch 4350] [D loss: 0.000001] [G loss: 0.026791]\n"
     ]
    },
    {
     "name": "stdout",
     "output_type": "stream",
     "text": [
      "[Epoch 1] [Batch 4400] [D loss: 0.000002] [G loss: 6.100564]\n"
     ]
    },
    {
     "name": "stdout",
     "output_type": "stream",
     "text": [
      "[Epoch 1] [Batch 4450] [D loss: 0.000001] [G loss: 2.635088]\n"
     ]
    },
    {
     "name": "stdout",
     "output_type": "stream",
     "text": [
      "[Epoch 1] [Batch 4500] [D loss: 0.000041] [G loss: 1.879661]\n"
     ]
    },
    {
     "name": "stdout",
     "output_type": "stream",
     "text": [
      "[Epoch 1] [Batch 4550] [D loss: 0.000001] [G loss: 0.510270]\n"
     ]
    },
    {
     "name": "stdout",
     "output_type": "stream",
     "text": [
      "[Epoch 1] [Batch 4600] [D loss: 0.000001] [G loss: 0.324761]\n"
     ]
    },
    {
     "name": "stdout",
     "output_type": "stream",
     "text": [
      "[Epoch 1] [Batch 4650] [D loss: 0.000001] [G loss: 0.129311]\n"
     ]
    },
    {
     "name": "stdout",
     "output_type": "stream",
     "text": [
      "[Epoch 1] [Batch 4700] [D loss: 0.000000] [G loss: 0.065611]\n"
     ]
    },
    {
     "name": "stdout",
     "output_type": "stream",
     "text": [
      "[Epoch 1] [Batch 4750] [D loss: 0.000000] [G loss: 0.043148]\n"
     ]
    },
    {
     "name": "stdout",
     "output_type": "stream",
     "text": [
      "[Epoch 1] [Batch 4800] [D loss: 0.000000] [G loss: 0.044431]\n"
     ]
    },
    {
     "name": "stdout",
     "output_type": "stream",
     "text": [
      "[Epoch 1] [Batch 4850] [D loss: 0.000001] [G loss: 0.961484]\n"
     ]
    },
    {
     "name": "stdout",
     "output_type": "stream",
     "text": [
      "[Epoch 1] [Batch 4900] [D loss: 0.000000] [G loss: 0.161001]\n"
     ]
    },
    {
     "name": "stdout",
     "output_type": "stream",
     "text": [
      "[Epoch 1] [Batch 4950] [D loss: 0.000000] [G loss: 0.146484]\n"
     ]
    },
    {
     "name": "stdout",
     "output_type": "stream",
     "text": [
      "[Epoch 1] [Batch 5000] [D loss: 0.000000] [G loss: 0.107324]\n"
     ]
    },
    {
     "name": "stdout",
     "output_type": "stream",
     "text": [
      "[Epoch 1] [Batch 5050] [D loss: 0.000000] [G loss: 0.068333]\n"
     ]
    },
    {
     "name": "stdout",
     "output_type": "stream",
     "text": [
      "[Epoch 1] [Batch 5100] [D loss: 0.000000] [G loss: 0.046017]\n"
     ]
    },
    {
     "name": "stdout",
     "output_type": "stream",
     "text": [
      "[Epoch 1] [Batch 5150] [D loss: 0.000000] [G loss: 0.040525]\n"
     ]
    },
    {
     "name": "stdout",
     "output_type": "stream",
     "text": [
      "[Epoch 1] [Batch 5200] [D loss: 0.000000] [G loss: 0.053943]\n"
     ]
    },
    {
     "name": "stdout",
     "output_type": "stream",
     "text": [
      "[Epoch 1] [Batch 5250] [D loss: 0.003791] [G loss: 3.712285]\n"
     ]
    },
    {
     "name": "stdout",
     "output_type": "stream",
     "text": [
      "[Epoch 1] [Batch 5300] [D loss: 0.001352] [G loss: 0.143875]\n"
     ]
    },
    {
     "name": "stdout",
     "output_type": "stream",
     "text": [
      "[Epoch 1] [Batch 5350] [D loss: 0.000874] [G loss: 0.038979]\n"
     ]
    },
    {
     "name": "stdout",
     "output_type": "stream",
     "text": [
      "[Epoch 1] [Batch 5400] [D loss: 0.000912] [G loss: 0.072183]\n"
     ]
    },
    {
     "name": "stdout",
     "output_type": "stream",
     "text": [
      "[Epoch 1] [Batch 5450] [D loss: 0.001438] [G loss: 0.319918]\n"
     ]
    },
    {
     "name": "stdout",
     "output_type": "stream",
     "text": [
      "[Epoch 1] [Batch 5500] [D loss: 0.000300] [G loss: 0.188658]\n"
     ]
    },
    {
     "name": "stdout",
     "output_type": "stream",
     "text": [
      "[Epoch 1] [Batch 5550] [D loss: 0.000173] [G loss: 0.144215]\n"
     ]
    },
    {
     "name": "stdout",
     "output_type": "stream",
     "text": [
      "[Epoch 1] [Batch 5600] [D loss: 0.000100] [G loss: 0.122012]\n"
     ]
    },
    {
     "name": "stdout",
     "output_type": "stream",
     "text": [
      "[Epoch 1] [Batch 5650] [D loss: 0.000141] [G loss: 0.241563]\n"
     ]
    },
    {
     "name": "stdout",
     "output_type": "stream",
     "text": [
      "[Epoch 1] [Batch 5700] [D loss: 0.000135] [G loss: 0.492379]\n"
     ]
    },
    {
     "name": "stderr",
     "output_type": "stream",
     "text": [
      "2022-02-09 16:54:50.181316: W tensorflow/core/data/root_dataset.cc:167] Optimization loop failed: Cancelled: Operation was cancelled\n"
     ]
    },
    {
     "name": "stdout",
     "output_type": "stream",
     "text": [
      "[Epoch 1] [Batch 5750] [D loss: 0.000100] [G loss: 0.454071]\n"
     ]
    },
    {
     "name": "stdout",
     "output_type": "stream",
     "text": [
      "[Epoch 1] [Batch 5800] [D loss: 0.000135] [G loss: 0.291420]\n"
     ]
    },
    {
     "name": "stdout",
     "output_type": "stream",
     "text": [
      "[Epoch 1] [Batch 5850] [D loss: 0.000149] [G loss: 0.313078]\n"
     ]
    },
    {
     "name": "stderr",
     "output_type": "stream",
     "text": [
      "2022-02-09 16:56:52.612866: W tensorflow/core/data/root_dataset.cc:167] Optimization loop failed: Cancelled: Operation was cancelled\n"
     ]
    },
    {
     "name": "stdout",
     "output_type": "stream",
     "text": [
      "[Epoch 1] [Batch 5900] [D loss: 0.000131] [G loss: 0.392610]\n"
     ]
    },
    {
     "name": "stdout",
     "output_type": "stream",
     "text": [
      "[Epoch 1] [Batch 5950] [D loss: 0.000095] [G loss: 0.475285]\n"
     ]
    },
    {
     "name": "stdout",
     "output_type": "stream",
     "text": [
      "[Epoch 1] [Batch 6000] [D loss: 0.000069] [G loss: 0.534969]\n"
     ]
    },
    {
     "name": "stdout",
     "output_type": "stream",
     "text": [
      "[Epoch 1] [Batch 6050] [D loss: 0.000065] [G loss: 0.631731]\n"
     ]
    },
    {
     "name": "stdout",
     "output_type": "stream",
     "text": [
      "[Epoch 1] [Batch 6100] [D loss: 0.000062] [G loss: 0.487448]\n"
     ]
    },
    {
     "name": "stdout",
     "output_type": "stream",
     "text": [
      "[Epoch 1] [Batch 6150] [D loss: 0.000046] [G loss: 0.474625]\n"
     ]
    },
    {
     "name": "stdout",
     "output_type": "stream",
     "text": [
      "[Epoch 1] [Batch 6200] [D loss: 0.000038] [G loss: 0.459518]\n"
     ]
    },
    {
     "name": "stdout",
     "output_type": "stream",
     "text": [
      "[Epoch 1] [Batch 6250] [D loss: 0.000033] [G loss: 0.531202]\n"
     ]
    },
    {
     "name": "stdout",
     "output_type": "stream",
     "text": [
      "[Epoch 1] [Batch 6300] [D loss: 0.000028] [G loss: 0.529375]\n"
     ]
    },
    {
     "name": "stdout",
     "output_type": "stream",
     "text": [
      "[Epoch 1] [Batch 6350] [D loss: 0.000026] [G loss: 0.589174]\n"
     ]
    },
    {
     "name": "stdout",
     "output_type": "stream",
     "text": [
      "[Epoch 1] [Batch 6400] [D loss: 0.000025] [G loss: 0.486524]\n"
     ]
    },
    {
     "name": "stdout",
     "output_type": "stream",
     "text": [
      "[Epoch 1] [Batch 6450] [D loss: 0.000026] [G loss: 0.414826]\n"
     ]
    },
    {
     "name": "stdout",
     "output_type": "stream",
     "text": [
      "[Epoch 1] [Batch 6500] [D loss: 0.000024] [G loss: 0.381444]\n"
     ]
    },
    {
     "name": "stdout",
     "output_type": "stream",
     "text": [
      "[Epoch 1] [Batch 6550] [D loss: 0.000019] [G loss: 0.442755]\n"
     ]
    },
    {
     "name": "stdout",
     "output_type": "stream",
     "text": [
      "[Epoch 1] [Batch 6600] [D loss: 0.000018] [G loss: 0.487177]\n"
     ]
    },
    {
     "name": "stdout",
     "output_type": "stream",
     "text": [
      "[Epoch 1] [Batch 6650] [D loss: 0.000018] [G loss: 0.458134]\n"
     ]
    },
    {
     "name": "stdout",
     "output_type": "stream",
     "text": [
      "[Epoch 1] [Batch 6700] [D loss: 0.000017] [G loss: 0.456689]\n"
     ]
    },
    {
     "name": "stdout",
     "output_type": "stream",
     "text": [
      "[Epoch 1] [Batch 6750] [D loss: 0.000014] [G loss: 0.475817]\n"
     ]
    },
    {
     "name": "stdout",
     "output_type": "stream",
     "text": [
      "[Epoch 1] [Batch 6800] [D loss: 0.000013] [G loss: 0.486729]\n"
     ]
    },
    {
     "name": "stdout",
     "output_type": "stream",
     "text": [
      "[Epoch 1] [Batch 6850] [D loss: 0.000012] [G loss: 0.689656]\n"
     ]
    },
    {
     "name": "stdout",
     "output_type": "stream",
     "text": [
      "[Epoch 1] [Batch 6900] [D loss: 0.000012] [G loss: 0.529295]\n"
     ]
    },
    {
     "name": "stdout",
     "output_type": "stream",
     "text": [
      "[Epoch 1] [Batch 6950] [D loss: 0.000010] [G loss: 0.541529]\n"
     ]
    },
    {
     "name": "stdout",
     "output_type": "stream",
     "text": [
      "[Epoch 1] [Batch 7000] [D loss: 0.000010] [G loss: 0.541922]\n"
     ]
    },
    {
     "name": "stdout",
     "output_type": "stream",
     "text": [
      "[Epoch 1] [Batch 7050] [D loss: 0.000009] [G loss: 0.434743]\n"
     ]
    },
    {
     "name": "stdout",
     "output_type": "stream",
     "text": [
      "[Epoch 1] [Batch 7100] [D loss: 0.000012] [G loss: 0.487947]\n"
     ]
    },
    {
     "name": "stdout",
     "output_type": "stream",
     "text": [
      "[Epoch 1] [Batch 7150] [D loss: 0.000012] [G loss: 0.472872]\n"
     ]
    },
    {
     "name": "stdout",
     "output_type": "stream",
     "text": [
      "[Epoch 1] [Batch 7200] [D loss: 0.000010] [G loss: 0.486753]\n"
     ]
    },
    {
     "name": "stdout",
     "output_type": "stream",
     "text": [
      "[Epoch 1] [Batch 7250] [D loss: 0.000009] [G loss: 0.478624]\n"
     ]
    },
    {
     "name": "stdout",
     "output_type": "stream",
     "text": [
      "[Epoch 1] [Batch 7300] [D loss: 0.000009] [G loss: 0.595635]\n"
     ]
    },
    {
     "name": "stdout",
     "output_type": "stream",
     "text": [
      "[Epoch 1] [Batch 7350] [D loss: 0.000008] [G loss: 0.506349]\n"
     ]
    },
    {
     "name": "stdout",
     "output_type": "stream",
     "text": [
      "[Epoch 1] [Batch 7400] [D loss: 0.000009] [G loss: 0.465948]\n"
     ]
    },
    {
     "name": "stdout",
     "output_type": "stream",
     "text": [
      "[Epoch 1] [Batch 7450] [D loss: 0.000009] [G loss: 0.370121]\n"
     ]
    },
    {
     "name": "stdout",
     "output_type": "stream",
     "text": [
      "[Epoch 1] [Batch 7500] [D loss: 0.000010] [G loss: 0.316513]\n"
     ]
    },
    {
     "name": "stdout",
     "output_type": "stream",
     "text": [
      "[Epoch 1] [Batch 7550] [D loss: 0.000009] [G loss: 0.218660]\n"
     ]
    },
    {
     "name": "stdout",
     "output_type": "stream",
     "text": [
      "[Epoch 1] [Batch 7600] [D loss: 0.000008] [G loss: 0.233228]\n"
     ]
    },
    {
     "name": "stdout",
     "output_type": "stream",
     "text": [
      "[Epoch 1] [Batch 7650] [D loss: 0.000007] [G loss: 0.220807]\n"
     ]
    },
    {
     "name": "stdout",
     "output_type": "stream",
     "text": [
      "[Epoch 1] [Batch 7700] [D loss: 0.003022] [G loss: 0.756385]\n"
     ]
    },
    {
     "name": "stdout",
     "output_type": "stream",
     "text": [
      "[Epoch 1] [Batch 7750] [D loss: 0.001594] [G loss: 0.306508]\n"
     ]
    },
    {
     "name": "stdout",
     "output_type": "stream",
     "text": [
      "[Epoch 1] [Batch 7800] [D loss: 0.000837] [G loss: 0.102811]\n"
     ]
    },
    {
     "name": "stdout",
     "output_type": "stream",
     "text": [
      "[Epoch 1] [Batch 7850] [D loss: 0.000550] [G loss: 0.071158]\n"
     ]
    },
    {
     "name": "stdout",
     "output_type": "stream",
     "text": [
      "[Epoch 1] [Batch 7900] [D loss: 0.000369] [G loss: 0.078492]\n"
     ]
    },
    {
     "name": "stdout",
     "output_type": "stream",
     "text": [
      "[Epoch 1] [Batch 7950] [D loss: 0.000432] [G loss: 0.074204]\n"
     ]
    },
    {
     "name": "stdout",
     "output_type": "stream",
     "text": [
      "[Epoch 1] [Batch 8000] [D loss: 0.000338] [G loss: 0.069170]\n"
     ]
    },
    {
     "name": "stdout",
     "output_type": "stream",
     "text": [
      "[Epoch 1] [Batch 8050] [D loss: 0.000431] [G loss: 0.037837]\n"
     ]
    },
    {
     "name": "stdout",
     "output_type": "stream",
     "text": [
      "[Epoch 1] [Batch 8100] [D loss: 0.000315] [G loss: 0.045793]\n"
     ]
    },
    {
     "name": "stdout",
     "output_type": "stream",
     "text": [
      "[Epoch 1] [Batch 8150] [D loss: 0.000248] [G loss: 0.071963]\n"
     ]
    },
    {
     "name": "stdout",
     "output_type": "stream",
     "text": [
      "[Epoch 1] [Batch 8200] [D loss: 0.000225] [G loss: 0.079398]\n"
     ]
    },
    {
     "name": "stdout",
     "output_type": "stream",
     "text": [
      "[Epoch 1] [Batch 8250] [D loss: 0.000205] [G loss: 0.090408]\n"
     ]
    },
    {
     "name": "stdout",
     "output_type": "stream",
     "text": [
      "[Epoch 1] [Batch 8300] [D loss: 0.000144] [G loss: 0.080740]\n"
     ]
    },
    {
     "name": "stdout",
     "output_type": "stream",
     "text": [
      "[Epoch 1] [Batch 8350] [D loss: 0.000175] [G loss: 0.064983]\n"
     ]
    },
    {
     "name": "stdout",
     "output_type": "stream",
     "text": [
      "[Epoch 1] [Batch 8400] [D loss: 0.000135] [G loss: 0.062924]\n"
     ]
    },
    {
     "name": "stdout",
     "output_type": "stream",
     "text": [
      "[Epoch 1] [Batch 8450] [D loss: 0.000118] [G loss: 0.063241]\n"
     ]
    },
    {
     "name": "stdout",
     "output_type": "stream",
     "text": [
      "[Epoch 1] [Batch 8500] [D loss: 0.000099] [G loss: 0.072529]\n"
     ]
    },
    {
     "name": "stdout",
     "output_type": "stream",
     "text": [
      "[Epoch 1] [Batch 8550] [D loss: 0.000181] [G loss: 0.435022]\n"
     ]
    },
    {
     "name": "stdout",
     "output_type": "stream",
     "text": [
      "[Epoch 1] [Batch 8600] [D loss: 0.000085] [G loss: 0.205026]\n"
     ]
    },
    {
     "name": "stdout",
     "output_type": "stream",
     "text": [
      "[Epoch 1] [Batch 8650] [D loss: 0.000151] [G loss: 0.355728]\n"
     ]
    },
    {
     "name": "stdout",
     "output_type": "stream",
     "text": [
      "Time for epoch 1 is 7884.958796977997 sec\n"
     ]
    },
    {
     "name": "stdout",
     "output_type": "stream",
     "text": [
      "[Epoch 2] [Batch 0] [D loss: 0.000087] [G loss: 0.258743]\n"
     ]
    },
    {
     "name": "stdout",
     "output_type": "stream",
     "text": [
      "[Epoch 2] [Batch 50] [D loss: 0.000075] [G loss: 0.371538]\n"
     ]
    },
    {
     "name": "stdout",
     "output_type": "stream",
     "text": [
      "[Epoch 2] [Batch 100] [D loss: 0.000073] [G loss: 0.197228]\n"
     ]
    },
    {
     "name": "stdout",
     "output_type": "stream",
     "text": [
      "[Epoch 2] [Batch 150] [D loss: 0.000061] [G loss: 0.376561]\n"
     ]
    },
    {
     "name": "stdout",
     "output_type": "stream",
     "text": [
      "[Epoch 2] [Batch 200] [D loss: 0.000063] [G loss: 0.329899]\n"
     ]
    },
    {
     "name": "stdout",
     "output_type": "stream",
     "text": [
      "[Epoch 2] [Batch 250] [D loss: 0.000069] [G loss: 0.270725]\n"
     ]
    },
    {
     "name": "stdout",
     "output_type": "stream",
     "text": [
      "[Epoch 2] [Batch 300] [D loss: 0.000041] [G loss: 0.380443]\n"
     ]
    },
    {
     "name": "stdout",
     "output_type": "stream",
     "text": [
      "[Epoch 2] [Batch 350] [D loss: 0.000044] [G loss: 0.468860]\n"
     ]
    },
    {
     "name": "stdout",
     "output_type": "stream",
     "text": [
      "[Epoch 2] [Batch 400] [D loss: 0.000036] [G loss: 0.397541]\n"
     ]
    },
    {
     "name": "stdout",
     "output_type": "stream",
     "text": [
      "[Epoch 2] [Batch 450] [D loss: 0.000051] [G loss: 0.372764]\n"
     ]
    },
    {
     "name": "stdout",
     "output_type": "stream",
     "text": [
      "[Epoch 2] [Batch 500] [D loss: 0.000035] [G loss: 0.374710]\n"
     ]
    },
    {
     "name": "stdout",
     "output_type": "stream",
     "text": [
      "[Epoch 2] [Batch 550] [D loss: 0.000026] [G loss: 0.464290]\n"
     ]
    },
    {
     "name": "stdout",
     "output_type": "stream",
     "text": [
      "[Epoch 2] [Batch 600] [D loss: 0.000022] [G loss: 0.378826]\n"
     ]
    },
    {
     "name": "stdout",
     "output_type": "stream",
     "text": [
      "[Epoch 2] [Batch 650] [D loss: 0.000019] [G loss: 0.381907]\n"
     ]
    },
    {
     "name": "stdout",
     "output_type": "stream",
     "text": [
      "[Epoch 2] [Batch 700] [D loss: 0.000015] [G loss: 0.455393]\n"
     ]
    },
    {
     "name": "stdout",
     "output_type": "stream",
     "text": [
      "[Epoch 2] [Batch 750] [D loss: 0.000014] [G loss: 0.513633]\n"
     ]
    },
    {
     "name": "stdout",
     "output_type": "stream",
     "text": [
      "[Epoch 2] [Batch 800] [D loss: 0.000015] [G loss: 0.460270]\n"
     ]
    },
    {
     "name": "stdout",
     "output_type": "stream",
     "text": [
      "[Epoch 2] [Batch 850] [D loss: 0.000012] [G loss: 0.461457]\n"
     ]
    },
    {
     "name": "stdout",
     "output_type": "stream",
     "text": [
      "[Epoch 2] [Batch 900] [D loss: 0.000010] [G loss: 0.547502]\n"
     ]
    },
    {
     "name": "stdout",
     "output_type": "stream",
     "text": [
      "[Epoch 2] [Batch 950] [D loss: 0.000009] [G loss: 0.547816]\n"
     ]
    },
    {
     "name": "stdout",
     "output_type": "stream",
     "text": [
      "[Epoch 2] [Batch 1000] [D loss: 0.000048] [G loss: 0.409242]\n"
     ]
    },
    {
     "name": "stdout",
     "output_type": "stream",
     "text": [
      "[Epoch 2] [Batch 1050] [D loss: 0.000014] [G loss: 0.322515]\n"
     ]
    },
    {
     "name": "stdout",
     "output_type": "stream",
     "text": [
      "[Epoch 2] [Batch 1100] [D loss: 0.000013] [G loss: 0.339202]\n"
     ]
    },
    {
     "name": "stdout",
     "output_type": "stream",
     "text": [
      "[Epoch 2] [Batch 1150] [D loss: 0.000014] [G loss: 0.281830]\n"
     ]
    },
    {
     "name": "stdout",
     "output_type": "stream",
     "text": [
      "[Epoch 2] [Batch 1200] [D loss: 0.000010] [G loss: 0.184249]\n"
     ]
    },
    {
     "name": "stdout",
     "output_type": "stream",
     "text": [
      "[Epoch 2] [Batch 1250] [D loss: 0.000009] [G loss: 0.191945]\n"
     ]
    },
    {
     "name": "stdout",
     "output_type": "stream",
     "text": [
      "[Epoch 2] [Batch 1300] [D loss: 0.000006] [G loss: 0.251916]\n"
     ]
    },
    {
     "name": "stdout",
     "output_type": "stream",
     "text": [
      "[Epoch 2] [Batch 1350] [D loss: 0.000007] [G loss: 0.226728]\n"
     ]
    },
    {
     "name": "stdout",
     "output_type": "stream",
     "text": [
      "[Epoch 2] [Batch 1400] [D loss: 0.000006] [G loss: 0.216808]\n"
     ]
    },
    {
     "name": "stdout",
     "output_type": "stream",
     "text": [
      "[Epoch 2] [Batch 1450] [D loss: 0.000006] [G loss: 0.154781]\n"
     ]
    },
    {
     "name": "stdout",
     "output_type": "stream",
     "text": [
      "[Epoch 2] [Batch 1500] [D loss: 0.000006] [G loss: 0.194769]\n"
     ]
    },
    {
     "name": "stdout",
     "output_type": "stream",
     "text": [
      "[Epoch 2] [Batch 1550] [D loss: 0.000006] [G loss: 0.229981]\n"
     ]
    },
    {
     "name": "stdout",
     "output_type": "stream",
     "text": [
      "[Epoch 2] [Batch 1600] [D loss: 0.000005] [G loss: 0.195879]\n"
     ]
    },
    {
     "name": "stdout",
     "output_type": "stream",
     "text": [
      "[Epoch 2] [Batch 1650] [D loss: 0.000005] [G loss: 0.166694]\n"
     ]
    },
    {
     "name": "stdout",
     "output_type": "stream",
     "text": [
      "[Epoch 2] [Batch 1700] [D loss: 0.000004] [G loss: 0.201867]\n"
     ]
    },
    {
     "name": "stdout",
     "output_type": "stream",
     "text": [
      "[Epoch 2] [Batch 1750] [D loss: 0.000004] [G loss: 0.209021]\n"
     ]
    },
    {
     "name": "stdout",
     "output_type": "stream",
     "text": [
      "[Epoch 2] [Batch 1800] [D loss: 0.000005] [G loss: 0.184146]\n"
     ]
    },
    {
     "name": "stdout",
     "output_type": "stream",
     "text": [
      "[Epoch 2] [Batch 1850] [D loss: 0.000005] [G loss: 0.184371]\n"
     ]
    },
    {
     "name": "stdout",
     "output_type": "stream",
     "text": [
      "[Epoch 2] [Batch 1900] [D loss: 0.000004] [G loss: 0.204922]\n"
     ]
    },
    {
     "name": "stdout",
     "output_type": "stream",
     "text": [
      "[Epoch 2] [Batch 1950] [D loss: 0.000004] [G loss: 0.235948]\n"
     ]
    },
    {
     "name": "stdout",
     "output_type": "stream",
     "text": [
      "[Epoch 2] [Batch 2000] [D loss: 0.000004] [G loss: 0.173187]\n"
     ]
    },
    {
     "name": "stdout",
     "output_type": "stream",
     "text": [
      "[Epoch 2] [Batch 2050] [D loss: 0.000003] [G loss: 0.236577]\n"
     ]
    },
    {
     "name": "stdout",
     "output_type": "stream",
     "text": [
      "[Epoch 2] [Batch 2100] [D loss: 0.000003] [G loss: 0.244322]\n"
     ]
    },
    {
     "name": "stdout",
     "output_type": "stream",
     "text": [
      "[Epoch 2] [Batch 2150] [D loss: 0.000003] [G loss: 0.172457]\n"
     ]
    },
    {
     "name": "stdout",
     "output_type": "stream",
     "text": [
      "[Epoch 2] [Batch 2200] [D loss: 0.000003] [G loss: 0.157273]\n"
     ]
    },
    {
     "name": "stdout",
     "output_type": "stream",
     "text": [
      "[Epoch 2] [Batch 2250] [D loss: 0.000003] [G loss: 0.206444]\n"
     ]
    },
    {
     "name": "stdout",
     "output_type": "stream",
     "text": [
      "[Epoch 2] [Batch 2300] [D loss: 0.000002] [G loss: 0.161823]\n"
     ]
    },
    {
     "name": "stdout",
     "output_type": "stream",
     "text": [
      "[Epoch 2] [Batch 2350] [D loss: 0.000002] [G loss: 0.155051]\n"
     ]
    },
    {
     "name": "stdout",
     "output_type": "stream",
     "text": [
      "[Epoch 2] [Batch 2400] [D loss: 0.000002] [G loss: 0.127968]\n"
     ]
    },
    {
     "name": "stdout",
     "output_type": "stream",
     "text": [
      "[Epoch 2] [Batch 2450] [D loss: 0.000002] [G loss: 0.173120]\n"
     ]
    },
    {
     "name": "stdout",
     "output_type": "stream",
     "text": [
      "[Epoch 2] [Batch 2500] [D loss: 0.000002] [G loss: 0.212868]\n"
     ]
    },
    {
     "name": "stdout",
     "output_type": "stream",
     "text": [
      "[Epoch 2] [Batch 2550] [D loss: 0.000002] [G loss: 0.161638]\n"
     ]
    },
    {
     "name": "stdout",
     "output_type": "stream",
     "text": [
      "[Epoch 2] [Batch 2600] [D loss: 0.000002] [G loss: 0.201712]\n"
     ]
    },
    {
     "name": "stdout",
     "output_type": "stream",
     "text": [
      "[Epoch 2] [Batch 2650] [D loss: 0.000002] [G loss: 0.250871]\n"
     ]
    },
    {
     "name": "stdout",
     "output_type": "stream",
     "text": [
      "[Epoch 2] [Batch 2700] [D loss: 0.000002] [G loss: 0.241293]\n"
     ]
    },
    {
     "name": "stderr",
     "output_type": "stream",
     "text": [
      "2022-02-09 18:20:45.619006: W tensorflow/core/data/root_dataset.cc:167] Optimization loop failed: Cancelled: Operation was cancelled\n"
     ]
    },
    {
     "name": "stdout",
     "output_type": "stream",
     "text": [
      "[Epoch 2] [Batch 2750] [D loss: 0.000001] [G loss: 0.279585]\n"
     ]
    },
    {
     "name": "stdout",
     "output_type": "stream",
     "text": [
      "[Epoch 2] [Batch 2800] [D loss: 0.000001] [G loss: 0.237253]\n"
     ]
    },
    {
     "name": "stdout",
     "output_type": "stream",
     "text": [
      "[Epoch 2] [Batch 2850] [D loss: 0.000001] [G loss: 0.211742]\n"
     ]
    },
    {
     "name": "stdout",
     "output_type": "stream",
     "text": [
      "[Epoch 2] [Batch 2900] [D loss: 0.000001] [G loss: 0.199702]\n"
     ]
    },
    {
     "name": "stdout",
     "output_type": "stream",
     "text": [
      "[Epoch 2] [Batch 2950] [D loss: 0.000001] [G loss: 0.186795]\n"
     ]
    },
    {
     "name": "stdout",
     "output_type": "stream",
     "text": [
      "[Epoch 2] [Batch 3000] [D loss: 0.000001] [G loss: 0.175577]\n"
     ]
    },
    {
     "name": "stdout",
     "output_type": "stream",
     "text": [
      "[Epoch 2] [Batch 3050] [D loss: 0.000001] [G loss: 0.172043]\n"
     ]
    },
    {
     "name": "stdout",
     "output_type": "stream",
     "text": [
      "[Epoch 2] [Batch 3100] [D loss: 0.000001] [G loss: 0.189095]\n"
     ]
    },
    {
     "name": "stdout",
     "output_type": "stream",
     "text": [
      "[Epoch 2] [Batch 3150] [D loss: 0.000001] [G loss: 0.153852]\n"
     ]
    },
    {
     "name": "stdout",
     "output_type": "stream",
     "text": [
      "[Epoch 2] [Batch 3200] [D loss: 0.000001] [G loss: 0.208213]\n"
     ]
    },
    {
     "name": "stdout",
     "output_type": "stream",
     "text": [
      "[Epoch 2] [Batch 3250] [D loss: 0.000001] [G loss: 0.149807]\n"
     ]
    },
    {
     "name": "stdout",
     "output_type": "stream",
     "text": [
      "[Epoch 2] [Batch 3300] [D loss: 0.000002] [G loss: 0.116117]\n"
     ]
    },
    {
     "name": "stdout",
     "output_type": "stream",
     "text": [
      "[Epoch 2] [Batch 3350] [D loss: 0.000001] [G loss: 0.114934]\n"
     ]
    },
    {
     "name": "stdout",
     "output_type": "stream",
     "text": [
      "[Epoch 2] [Batch 3400] [D loss: 0.000001] [G loss: 0.093297]\n"
     ]
    },
    {
     "name": "stdout",
     "output_type": "stream",
     "text": [
      "[Epoch 2] [Batch 3450] [D loss: 0.000001] [G loss: 0.097067]\n"
     ]
    },
    {
     "name": "stdout",
     "output_type": "stream",
     "text": [
      "[Epoch 2] [Batch 3500] [D loss: 0.000001] [G loss: 0.093628]\n"
     ]
    },
    {
     "name": "stdout",
     "output_type": "stream",
     "text": [
      "[Epoch 2] [Batch 3550] [D loss: 0.000001] [G loss: 0.074330]\n"
     ]
    },
    {
     "name": "stdout",
     "output_type": "stream",
     "text": [
      "[Epoch 2] [Batch 3600] [D loss: 0.000001] [G loss: 0.079302]\n"
     ]
    },
    {
     "name": "stdout",
     "output_type": "stream",
     "text": [
      "[Epoch 2] [Batch 3650] [D loss: 0.000001] [G loss: 0.109015]\n"
     ]
    },
    {
     "name": "stdout",
     "output_type": "stream",
     "text": [
      "[Epoch 2] [Batch 3700] [D loss: 0.000001] [G loss: 0.076850]\n"
     ]
    },
    {
     "name": "stdout",
     "output_type": "stream",
     "text": [
      "[Epoch 2] [Batch 3750] [D loss: 0.000001] [G loss: 0.072823]\n"
     ]
    },
    {
     "name": "stdout",
     "output_type": "stream",
     "text": [
      "[Epoch 2] [Batch 3800] [D loss: 0.000001] [G loss: 0.107092]\n"
     ]
    },
    {
     "name": "stdout",
     "output_type": "stream",
     "text": [
      "[Epoch 2] [Batch 3850] [D loss: 0.000001] [G loss: 0.059930]\n"
     ]
    },
    {
     "name": "stdout",
     "output_type": "stream",
     "text": [
      "[Epoch 2] [Batch 3900] [D loss: 0.000001] [G loss: 0.081277]\n"
     ]
    },
    {
     "name": "stdout",
     "output_type": "stream",
     "text": [
      "[Epoch 2] [Batch 3950] [D loss: 0.000001] [G loss: 0.082771]\n"
     ]
    },
    {
     "name": "stdout",
     "output_type": "stream",
     "text": [
      "[Epoch 2] [Batch 4000] [D loss: 0.000001] [G loss: 0.380930]\n"
     ]
    },
    {
     "name": "stdout",
     "output_type": "stream",
     "text": [
      "[Epoch 2] [Batch 4050] [D loss: 0.000001] [G loss: 0.093283]\n"
     ]
    },
    {
     "name": "stdout",
     "output_type": "stream",
     "text": [
      "[Epoch 2] [Batch 4100] [D loss: 0.000001] [G loss: 0.033656]\n"
     ]
    },
    {
     "name": "stdout",
     "output_type": "stream",
     "text": [
      "[Epoch 2] [Batch 4150] [D loss: 0.000001] [G loss: 0.019948]\n"
     ]
    },
    {
     "name": "stdout",
     "output_type": "stream",
     "text": [
      "[Epoch 2] [Batch 4200] [D loss: 0.000001] [G loss: 0.022965]\n"
     ]
    },
    {
     "name": "stdout",
     "output_type": "stream",
     "text": [
      "[Epoch 2] [Batch 4250] [D loss: 0.000001] [G loss: 0.028566]\n"
     ]
    },
    {
     "name": "stdout",
     "output_type": "stream",
     "text": [
      "[Epoch 2] [Batch 4300] [D loss: 0.000000] [G loss: 0.291154]\n"
     ]
    },
    {
     "name": "stdout",
     "output_type": "stream",
     "text": [
      "[Epoch 2] [Batch 4350] [D loss: 0.000000] [G loss: 0.779677]\n"
     ]
    },
    {
     "name": "stdout",
     "output_type": "stream",
     "text": [
      "[Epoch 2] [Batch 4400] [D loss: 0.000000] [G loss: 0.613839]\n"
     ]
    },
    {
     "name": "stdout",
     "output_type": "stream",
     "text": [
      "[Epoch 2] [Batch 4450] [D loss: 0.000000] [G loss: 0.528387]\n"
     ]
    },
    {
     "name": "stdout",
     "output_type": "stream",
     "text": [
      "[Epoch 2] [Batch 4500] [D loss: 0.000001] [G loss: 0.516256]\n"
     ]
    },
    {
     "name": "stdout",
     "output_type": "stream",
     "text": [
      "[Epoch 2] [Batch 4550] [D loss: 0.000001] [G loss: 0.386380]\n"
     ]
    },
    {
     "name": "stdout",
     "output_type": "stream",
     "text": [
      "[Epoch 2] [Batch 4600] [D loss: 0.000000] [G loss: 0.436832]\n"
     ]
    },
    {
     "name": "stdout",
     "output_type": "stream",
     "text": [
      "[Epoch 2] [Batch 4650] [D loss: 0.000000] [G loss: 0.372579]\n"
     ]
    },
    {
     "name": "stdout",
     "output_type": "stream",
     "text": [
      "[Epoch 2] [Batch 4700] [D loss: 0.000000] [G loss: 0.607269]\n"
     ]
    },
    {
     "name": "stdout",
     "output_type": "stream",
     "text": [
      "[Epoch 2] [Batch 4750] [D loss: 0.000000] [G loss: 0.496141]\n"
     ]
    },
    {
     "name": "stdout",
     "output_type": "stream",
     "text": [
      "[Epoch 2] [Batch 4800] [D loss: 0.000000] [G loss: 0.548881]\n"
     ]
    },
    {
     "name": "stdout",
     "output_type": "stream",
     "text": [
      "[Epoch 2] [Batch 4850] [D loss: 0.000000] [G loss: 0.746095]\n"
     ]
    },
    {
     "name": "stdout",
     "output_type": "stream",
     "text": [
      "[Epoch 2] [Batch 4900] [D loss: 0.000000] [G loss: 0.502802]\n"
     ]
    },
    {
     "name": "stdout",
     "output_type": "stream",
     "text": [
      "[Epoch 2] [Batch 4950] [D loss: 0.000000] [G loss: 0.597376]\n"
     ]
    },
    {
     "name": "stdout",
     "output_type": "stream",
     "text": [
      "[Epoch 2] [Batch 5000] [D loss: 0.000000] [G loss: 0.607471]\n"
     ]
    },
    {
     "name": "stdout",
     "output_type": "stream",
     "text": [
      "[Epoch 2] [Batch 5050] [D loss: 0.000000] [G loss: 0.684072]\n"
     ]
    },
    {
     "name": "stdout",
     "output_type": "stream",
     "text": [
      "[Epoch 2] [Batch 5100] [D loss: 0.000000] [G loss: 0.526494]\n"
     ]
    },
    {
     "name": "stdout",
     "output_type": "stream",
     "text": [
      "[Epoch 2] [Batch 5150] [D loss: 0.000000] [G loss: 0.491726]\n"
     ]
    },
    {
     "name": "stdout",
     "output_type": "stream",
     "text": [
      "[Epoch 2] [Batch 5200] [D loss: 0.000000] [G loss: 0.475622]\n"
     ]
    },
    {
     "name": "stdout",
     "output_type": "stream",
     "text": [
      "[Epoch 2] [Batch 5250] [D loss: 0.000000] [G loss: 0.440446]\n"
     ]
    },
    {
     "name": "stdout",
     "output_type": "stream",
     "text": [
      "[Epoch 2] [Batch 5300] [D loss: 0.000000] [G loss: 0.469560]\n"
     ]
    },
    {
     "name": "stdout",
     "output_type": "stream",
     "text": [
      "[Epoch 2] [Batch 5350] [D loss: 0.000000] [G loss: 0.390006]\n"
     ]
    },
    {
     "name": "stdout",
     "output_type": "stream",
     "text": [
      "[Epoch 2] [Batch 5400] [D loss: 0.000000] [G loss: 0.445384]\n"
     ]
    },
    {
     "name": "stdout",
     "output_type": "stream",
     "text": [
      "[Epoch 2] [Batch 5450] [D loss: 0.000000] [G loss: 0.382435]\n"
     ]
    },
    {
     "name": "stdout",
     "output_type": "stream",
     "text": [
      "[Epoch 2] [Batch 5500] [D loss: 0.000000] [G loss: 0.344750]\n"
     ]
    },
    {
     "name": "stdout",
     "output_type": "stream",
     "text": [
      "[Epoch 2] [Batch 5550] [D loss: 0.000000] [G loss: 0.340919]\n"
     ]
    },
    {
     "name": "stdout",
     "output_type": "stream",
     "text": [
      "[Epoch 2] [Batch 5600] [D loss: 0.000000] [G loss: 0.327669]\n"
     ]
    },
    {
     "name": "stdout",
     "output_type": "stream",
     "text": [
      "[Epoch 2] [Batch 5650] [D loss: 0.000000] [G loss: 0.396654]\n"
     ]
    },
    {
     "name": "stdout",
     "output_type": "stream",
     "text": [
      "[Epoch 2] [Batch 5700] [D loss: 0.000000] [G loss: 0.295164]\n"
     ]
    },
    {
     "name": "stdout",
     "output_type": "stream",
     "text": [
      "[Epoch 2] [Batch 5750] [D loss: 0.000000] [G loss: 0.410702]\n"
     ]
    },
    {
     "name": "stdout",
     "output_type": "stream",
     "text": [
      "[Epoch 2] [Batch 5800] [D loss: 0.000000] [G loss: 0.333482]\n"
     ]
    },
    {
     "name": "stdout",
     "output_type": "stream",
     "text": [
      "[Epoch 2] [Batch 5850] [D loss: 0.000000] [G loss: 0.258710]\n"
     ]
    },
    {
     "name": "stdout",
     "output_type": "stream",
     "text": [
      "[Epoch 2] [Batch 5900] [D loss: 0.000000] [G loss: 0.299578]\n"
     ]
    },
    {
     "name": "stdout",
     "output_type": "stream",
     "text": [
      "[Epoch 2] [Batch 5950] [D loss: 0.000000] [G loss: 0.248392]\n"
     ]
    },
    {
     "name": "stdout",
     "output_type": "stream",
     "text": [
      "[Epoch 2] [Batch 6000] [D loss: 0.000000] [G loss: 0.272649]\n"
     ]
    },
    {
     "name": "stdout",
     "output_type": "stream",
     "text": [
      "[Epoch 2] [Batch 6050] [D loss: 0.000000] [G loss: 0.271197]\n"
     ]
    },
    {
     "name": "stdout",
     "output_type": "stream",
     "text": [
      "[Epoch 2] [Batch 6100] [D loss: 0.000000] [G loss: 0.236186]\n"
     ]
    },
    {
     "name": "stdout",
     "output_type": "stream",
     "text": [
      "[Epoch 2] [Batch 6150] [D loss: 0.000000] [G loss: 0.236409]\n"
     ]
    },
    {
     "name": "stdout",
     "output_type": "stream",
     "text": [
      "[Epoch 2] [Batch 6200] [D loss: 0.000000] [G loss: 0.197674]\n"
     ]
    },
    {
     "name": "stdout",
     "output_type": "stream",
     "text": [
      "[Epoch 2] [Batch 6250] [D loss: 0.000000] [G loss: 0.195361]\n"
     ]
    },
    {
     "name": "stdout",
     "output_type": "stream",
     "text": [
      "[Epoch 2] [Batch 6300] [D loss: 0.000000] [G loss: 0.201768]\n"
     ]
    },
    {
     "name": "stdout",
     "output_type": "stream",
     "text": [
      "[Epoch 2] [Batch 6350] [D loss: 0.000000] [G loss: 0.212227]\n"
     ]
    },
    {
     "name": "stdout",
     "output_type": "stream",
     "text": [
      "[Epoch 2] [Batch 6400] [D loss: 0.000000] [G loss: 0.153211]\n"
     ]
    },
    {
     "name": "stdout",
     "output_type": "stream",
     "text": [
      "[Epoch 2] [Batch 6450] [D loss: 0.000000] [G loss: 0.185304]\n"
     ]
    },
    {
     "name": "stdout",
     "output_type": "stream",
     "text": [
      "[Epoch 2] [Batch 6500] [D loss: 0.000000] [G loss: 0.236640]\n"
     ]
    },
    {
     "name": "stderr",
     "output_type": "stream",
     "text": [
      "2022-02-09 19:18:10.387136: W tensorflow/core/data/root_dataset.cc:167] Optimization loop failed: Cancelled: Operation was cancelled\n"
     ]
    },
    {
     "name": "stdout",
     "output_type": "stream",
     "text": [
      "[Epoch 2] [Batch 6550] [D loss: 0.000000] [G loss: 0.184535]\n"
     ]
    },
    {
     "name": "stdout",
     "output_type": "stream",
     "text": [
      "[Epoch 2] [Batch 6600] [D loss: 0.000000] [G loss: 0.175893]\n"
     ]
    },
    {
     "name": "stdout",
     "output_type": "stream",
     "text": [
      "[Epoch 2] [Batch 6650] [D loss: 0.000000] [G loss: 0.212223]\n"
     ]
    },
    {
     "name": "stdout",
     "output_type": "stream",
     "text": [
      "[Epoch 2] [Batch 6700] [D loss: 0.000000] [G loss: 0.140579]\n"
     ]
    },
    {
     "name": "stdout",
     "output_type": "stream",
     "text": [
      "[Epoch 2] [Batch 6750] [D loss: 0.000000] [G loss: 0.171533]\n"
     ]
    },
    {
     "name": "stdout",
     "output_type": "stream",
     "text": [
      "[Epoch 2] [Batch 6800] [D loss: 0.000000] [G loss: 0.152872]\n"
     ]
    },
    {
     "name": "stdout",
     "output_type": "stream",
     "text": [
      "[Epoch 2] [Batch 6850] [D loss: 0.000000] [G loss: 0.155243]\n"
     ]
    },
    {
     "name": "stdout",
     "output_type": "stream",
     "text": [
      "[Epoch 2] [Batch 6900] [D loss: 0.000000] [G loss: 0.138475]\n"
     ]
    },
    {
     "name": "stdout",
     "output_type": "stream",
     "text": [
      "[Epoch 2] [Batch 6950] [D loss: 0.000000] [G loss: 0.165415]\n"
     ]
    },
    {
     "name": "stdout",
     "output_type": "stream",
     "text": [
      "[Epoch 2] [Batch 7000] [D loss: 0.000000] [G loss: 0.128458]\n"
     ]
    },
    {
     "name": "stdout",
     "output_type": "stream",
     "text": [
      "[Epoch 2] [Batch 7050] [D loss: 0.000000] [G loss: 0.119702]\n"
     ]
    },
    {
     "name": "stdout",
     "output_type": "stream",
     "text": [
      "[Epoch 2] [Batch 7100] [D loss: 0.000000] [G loss: 0.287267]\n"
     ]
    },
    {
     "name": "stdout",
     "output_type": "stream",
     "text": [
      "[Epoch 2] [Batch 7150] [D loss: 0.000000] [G loss: 0.324885]\n"
     ]
    },
    {
     "name": "stdout",
     "output_type": "stream",
     "text": [
      "[Epoch 2] [Batch 7200] [D loss: 0.000000] [G loss: 0.251814]\n"
     ]
    },
    {
     "name": "stdout",
     "output_type": "stream",
     "text": [
      "[Epoch 2] [Batch 7250] [D loss: 0.000000] [G loss: 0.217540]\n"
     ]
    },
    {
     "name": "stdout",
     "output_type": "stream",
     "text": [
      "[Epoch 2] [Batch 7300] [D loss: 0.000000] [G loss: 0.207151]\n"
     ]
    },
    {
     "name": "stdout",
     "output_type": "stream",
     "text": [
      "[Epoch 2] [Batch 7350] [D loss: 0.000000] [G loss: 0.136714]\n"
     ]
    },
    {
     "name": "stdout",
     "output_type": "stream",
     "text": [
      "[Epoch 2] [Batch 7400] [D loss: 0.000000] [G loss: 0.141111]\n"
     ]
    },
    {
     "name": "stdout",
     "output_type": "stream",
     "text": [
      "[Epoch 2] [Batch 7450] [D loss: 0.000000] [G loss: 0.130395]\n"
     ]
    },
    {
     "name": "stdout",
     "output_type": "stream",
     "text": [
      "[Epoch 2] [Batch 7500] [D loss: 0.000000] [G loss: 0.136459]\n"
     ]
    },
    {
     "name": "stdout",
     "output_type": "stream",
     "text": [
      "[Epoch 2] [Batch 7550] [D loss: 0.000000] [G loss: 0.118238]\n"
     ]
    },
    {
     "name": "stderr",
     "output_type": "stream",
     "text": [
      "2022-02-09 19:33:34.407509: W tensorflow/core/data/root_dataset.cc:167] Optimization loop failed: Cancelled: Operation was cancelled\n"
     ]
    },
    {
     "name": "stdout",
     "output_type": "stream",
     "text": [
      "[Epoch 2] [Batch 7600] [D loss: 0.000000] [G loss: 0.163433]\n"
     ]
    },
    {
     "name": "stdout",
     "output_type": "stream",
     "text": [
      "[Epoch 2] [Batch 7650] [D loss: 0.000000] [G loss: 0.114702]\n"
     ]
    },
    {
     "name": "stdout",
     "output_type": "stream",
     "text": [
      "[Epoch 2] [Batch 7700] [D loss: 0.000000] [G loss: 0.166039]\n"
     ]
    },
    {
     "name": "stdout",
     "output_type": "stream",
     "text": [
      "[Epoch 2] [Batch 7750] [D loss: 0.000000] [G loss: 0.145922]\n"
     ]
    },
    {
     "name": "stdout",
     "output_type": "stream",
     "text": [
      "[Epoch 2] [Batch 7800] [D loss: 0.000000] [G loss: 0.131318]\n"
     ]
    },
    {
     "name": "stdout",
     "output_type": "stream",
     "text": [
      "[Epoch 2] [Batch 7850] [D loss: 0.000000] [G loss: 0.142836]\n"
     ]
    },
    {
     "name": "stdout",
     "output_type": "stream",
     "text": [
      "[Epoch 2] [Batch 7900] [D loss: 0.000000] [G loss: 0.131576]\n"
     ]
    },
    {
     "name": "stdout",
     "output_type": "stream",
     "text": [
      "[Epoch 2] [Batch 7950] [D loss: 0.000000] [G loss: 0.144992]\n"
     ]
    },
    {
     "name": "stdout",
     "output_type": "stream",
     "text": [
      "[Epoch 2] [Batch 8000] [D loss: 0.000000] [G loss: 0.141934]\n"
     ]
    },
    {
     "name": "stdout",
     "output_type": "stream",
     "text": [
      "[Epoch 2] [Batch 8050] [D loss: 0.000000] [G loss: 0.142659]\n"
     ]
    },
    {
     "name": "stdout",
     "output_type": "stream",
     "text": [
      "[Epoch 2] [Batch 8100] [D loss: 0.000000] [G loss: 0.132310]\n"
     ]
    },
    {
     "name": "stdout",
     "output_type": "stream",
     "text": [
      "[Epoch 2] [Batch 8150] [D loss: 0.000000] [G loss: 0.175576]\n"
     ]
    },
    {
     "name": "stdout",
     "output_type": "stream",
     "text": [
      "[Epoch 2] [Batch 8200] [D loss: 0.000000] [G loss: 0.134563]\n"
     ]
    },
    {
     "name": "stdout",
     "output_type": "stream",
     "text": [
      "[Epoch 2] [Batch 8250] [D loss: 0.000000] [G loss: 0.160751]\n"
     ]
    },
    {
     "name": "stdout",
     "output_type": "stream",
     "text": [
      "[Epoch 2] [Batch 8300] [D loss: 0.000000] [G loss: 0.165287]\n"
     ]
    },
    {
     "name": "stdout",
     "output_type": "stream",
     "text": [
      "[Epoch 2] [Batch 8350] [D loss: 0.000000] [G loss: 0.153002]\n"
     ]
    },
    {
     "name": "stdout",
     "output_type": "stream",
     "text": [
      "[Epoch 2] [Batch 8400] [D loss: 0.000000] [G loss: 0.172677]\n"
     ]
    },
    {
     "name": "stdout",
     "output_type": "stream",
     "text": [
      "[Epoch 2] [Batch 8450] [D loss: 0.000000] [G loss: 0.166418]\n"
     ]
    },
    {
     "name": "stdout",
     "output_type": "stream",
     "text": [
      "[Epoch 2] [Batch 8500] [D loss: 0.000000] [G loss: 0.147661]\n"
     ]
    },
    {
     "name": "stdout",
     "output_type": "stream",
     "text": [
      "[Epoch 2] [Batch 8550] [D loss: 0.000000] [G loss: 0.165684]\n"
     ]
    },
    {
     "name": "stdout",
     "output_type": "stream",
     "text": [
      "[Epoch 2] [Batch 8600] [D loss: 0.000000] [G loss: 0.160340]\n"
     ]
    },
    {
     "name": "stdout",
     "output_type": "stream",
     "text": [
      "[Epoch 2] [Batch 8650] [D loss: 0.000000] [G loss: 0.201239]\n"
     ]
    },
    {
     "name": "stdout",
     "output_type": "stream",
     "text": [
      "Time for epoch 2 is 7884.13970375061 sec\n"
     ]
    },
    {
     "name": "stdout",
     "output_type": "stream",
     "text": [
      "[Epoch 3] [Batch 0] [D loss: 0.000000] [G loss: 0.187612]\n"
     ]
    },
    {
     "name": "stdout",
     "output_type": "stream",
     "text": [
      "[Epoch 3] [Batch 50] [D loss: 0.000000] [G loss: 0.170804]\n"
     ]
    },
    {
     "name": "stdout",
     "output_type": "stream",
     "text": [
      "[Epoch 3] [Batch 100] [D loss: 0.000000] [G loss: 0.163954]\n"
     ]
    },
    {
     "name": "stdout",
     "output_type": "stream",
     "text": [
      "[Epoch 3] [Batch 150] [D loss: 0.000000] [G loss: 0.169397]\n"
     ]
    },
    {
     "name": "stdout",
     "output_type": "stream",
     "text": [
      "[Epoch 3] [Batch 200] [D loss: 0.000000] [G loss: 0.143416]\n"
     ]
    },
    {
     "name": "stdout",
     "output_type": "stream",
     "text": [
      "[Epoch 3] [Batch 250] [D loss: 0.000000] [G loss: 0.146703]\n"
     ]
    },
    {
     "name": "stderr",
     "output_type": "stream",
     "text": [
      "2022-02-09 19:55:24.684311: W tensorflow/core/data/root_dataset.cc:167] Optimization loop failed: Cancelled: Operation was cancelled\n"
     ]
    },
    {
     "name": "stdout",
     "output_type": "stream",
     "text": [
      "[Epoch 3] [Batch 300] [D loss: 0.000000] [G loss: 0.153038]\n"
     ]
    },
    {
     "name": "stdout",
     "output_type": "stream",
     "text": [
      "[Epoch 3] [Batch 350] [D loss: 0.000000] [G loss: 0.145992]\n"
     ]
    },
    {
     "name": "stdout",
     "output_type": "stream",
     "text": [
      "[Epoch 3] [Batch 400] [D loss: 0.000000] [G loss: 0.181120]\n"
     ]
    },
    {
     "name": "stdout",
     "output_type": "stream",
     "text": [
      "[Epoch 3] [Batch 450] [D loss: 0.000000] [G loss: 0.141225]\n"
     ]
    },
    {
     "name": "stdout",
     "output_type": "stream",
     "text": [
      "[Epoch 3] [Batch 500] [D loss: 0.000000] [G loss: 0.155141]\n"
     ]
    },
    {
     "name": "stdout",
     "output_type": "stream",
     "text": [
      "[Epoch 3] [Batch 550] [D loss: 0.000000] [G loss: 0.159562]\n"
     ]
    },
    {
     "name": "stdout",
     "output_type": "stream",
     "text": [
      "[Epoch 3] [Batch 600] [D loss: 0.000000] [G loss: 0.140235]\n"
     ]
    },
    {
     "name": "stdout",
     "output_type": "stream",
     "text": [
      "[Epoch 3] [Batch 650] [D loss: 0.000000] [G loss: 0.137792]\n"
     ]
    },
    {
     "name": "stdout",
     "output_type": "stream",
     "text": [
      "[Epoch 3] [Batch 700] [D loss: 0.000000] [G loss: 0.137131]\n"
     ]
    },
    {
     "name": "stdout",
     "output_type": "stream",
     "text": [
      "[Epoch 3] [Batch 750] [D loss: 0.000000] [G loss: 0.154131]\n"
     ]
    },
    {
     "name": "stdout",
     "output_type": "stream",
     "text": [
      "[Epoch 3] [Batch 800] [D loss: 0.000000] [G loss: 0.146166]\n"
     ]
    },
    {
     "name": "stdout",
     "output_type": "stream",
     "text": [
      "[Epoch 3] [Batch 850] [D loss: 0.000000] [G loss: 0.146218]\n"
     ]
    },
    {
     "name": "stdout",
     "output_type": "stream",
     "text": [
      "[Epoch 3] [Batch 900] [D loss: 0.000000] [G loss: 0.132670]\n"
     ]
    },
    {
     "name": "stdout",
     "output_type": "stream",
     "text": [
      "[Epoch 3] [Batch 950] [D loss: 0.000000] [G loss: 0.139902]\n"
     ]
    },
    {
     "name": "stderr",
     "output_type": "stream",
     "text": [
      "2022-02-09 20:05:17.873426: W tensorflow/core/data/root_dataset.cc:167] Optimization loop failed: Cancelled: Operation was cancelled\n",
      "2022-02-09 20:05:17.932108: W tensorflow/core/data/root_dataset.cc:167] Optimization loop failed: Cancelled: Operation was cancelled\n"
     ]
    },
    {
     "name": "stdout",
     "output_type": "stream",
     "text": [
      "[Epoch 3] [Batch 1000] [D loss: 0.000000] [G loss: 0.138257]\n"
     ]
    },
    {
     "name": "stdout",
     "output_type": "stream",
     "text": [
      "[Epoch 3] [Batch 1050] [D loss: 0.000000] [G loss: 0.098972]\n"
     ]
    },
    {
     "name": "stdout",
     "output_type": "stream",
     "text": [
      "[Epoch 3] [Batch 1100] [D loss: 0.000000] [G loss: 0.092726]\n"
     ]
    },
    {
     "name": "stdout",
     "output_type": "stream",
     "text": [
      "[Epoch 3] [Batch 1150] [D loss: 0.000000] [G loss: 0.097010]\n"
     ]
    },
    {
     "name": "stdout",
     "output_type": "stream",
     "text": [
      "[Epoch 3] [Batch 1200] [D loss: 0.000000] [G loss: 0.102734]\n"
     ]
    },
    {
     "name": "stdout",
     "output_type": "stream",
     "text": [
      "[Epoch 3] [Batch 1250] [D loss: 0.000000] [G loss: 0.100303]\n"
     ]
    },
    {
     "name": "stdout",
     "output_type": "stream",
     "text": [
      "[Epoch 3] [Batch 1300] [D loss: 0.000000] [G loss: 0.104359]\n"
     ]
    },
    {
     "name": "stdout",
     "output_type": "stream",
     "text": [
      "[Epoch 3] [Batch 1350] [D loss: 0.000000] [G loss: 0.097358]\n"
     ]
    },
    {
     "name": "stderr",
     "output_type": "stream",
     "text": [
      "2022-02-09 20:11:33.166820: W tensorflow/core/data/root_dataset.cc:167] Optimization loop failed: Cancelled: Operation was cancelled\n"
     ]
    },
    {
     "name": "stdout",
     "output_type": "stream",
     "text": [
      "[Epoch 3] [Batch 1400] [D loss: 0.000000] [G loss: 0.083264]\n"
     ]
    },
    {
     "name": "stdout",
     "output_type": "stream",
     "text": [
      "[Epoch 3] [Batch 1450] [D loss: 0.000000] [G loss: 0.086517]\n"
     ]
    },
    {
     "name": "stdout",
     "output_type": "stream",
     "text": [
      "[Epoch 3] [Batch 1500] [D loss: 0.000000] [G loss: 0.088684]\n"
     ]
    },
    {
     "name": "stdout",
     "output_type": "stream",
     "text": [
      "[Epoch 3] [Batch 1550] [D loss: 0.000000] [G loss: 0.099019]\n"
     ]
    },
    {
     "name": "stdout",
     "output_type": "stream",
     "text": [
      "[Epoch 3] [Batch 1600] [D loss: 0.000000] [G loss: 0.084015]\n"
     ]
    },
    {
     "name": "stdout",
     "output_type": "stream",
     "text": [
      "[Epoch 3] [Batch 1650] [D loss: 0.000000] [G loss: 0.079083]\n"
     ]
    },
    {
     "name": "stdout",
     "output_type": "stream",
     "text": [
      "[Epoch 3] [Batch 1700] [D loss: 0.000000] [G loss: 0.081324]\n"
     ]
    },
    {
     "name": "stdout",
     "output_type": "stream",
     "text": [
      "[Epoch 3] [Batch 1750] [D loss: 0.000000] [G loss: 0.089872]\n"
     ]
    },
    {
     "name": "stdout",
     "output_type": "stream",
     "text": [
      "[Epoch 3] [Batch 1800] [D loss: 0.000000] [G loss: 0.095257]\n"
     ]
    },
    {
     "name": "stdout",
     "output_type": "stream",
     "text": [
      "[Epoch 3] [Batch 1850] [D loss: 0.000000] [G loss: 0.088293]\n"
     ]
    },
    {
     "name": "stdout",
     "output_type": "stream",
     "text": [
      "[Epoch 3] [Batch 1900] [D loss: 0.000000] [G loss: 0.094406]\n"
     ]
    },
    {
     "name": "stdout",
     "output_type": "stream",
     "text": [
      "[Epoch 3] [Batch 1950] [D loss: 0.000000] [G loss: 0.101397]\n"
     ]
    },
    {
     "name": "stdout",
     "output_type": "stream",
     "text": [
      "[Epoch 3] [Batch 2000] [D loss: 0.000000] [G loss: 0.071955]\n"
     ]
    },
    {
     "name": "stdout",
     "output_type": "stream",
     "text": [
      "[Epoch 3] [Batch 2050] [D loss: 0.000000] [G loss: 0.103090]\n"
     ]
    },
    {
     "name": "stdout",
     "output_type": "stream",
     "text": [
      "[Epoch 3] [Batch 2100] [D loss: 0.000000] [G loss: 0.088586]\n"
     ]
    },
    {
     "name": "stdout",
     "output_type": "stream",
     "text": [
      "[Epoch 3] [Batch 2150] [D loss: 0.000000] [G loss: 0.088381]\n"
     ]
    },
    {
     "name": "stdout",
     "output_type": "stream",
     "text": [
      "[Epoch 3] [Batch 2200] [D loss: 0.000000] [G loss: 0.083086]\n"
     ]
    },
    {
     "name": "stdout",
     "output_type": "stream",
     "text": [
      "[Epoch 3] [Batch 2250] [D loss: 0.000000] [G loss: 0.076632]\n"
     ]
    },
    {
     "name": "stdout",
     "output_type": "stream",
     "text": [
      "[Epoch 3] [Batch 2300] [D loss: 0.000000] [G loss: 0.085319]\n"
     ]
    },
    {
     "name": "stdout",
     "output_type": "stream",
     "text": [
      "[Epoch 3] [Batch 2350] [D loss: 0.000000] [G loss: 0.097083]\n"
     ]
    },
    {
     "name": "stderr",
     "output_type": "stream",
     "text": [
      "2022-02-09 20:27:01.852911: W tensorflow/core/data/root_dataset.cc:167] Optimization loop failed: Cancelled: Operation was cancelled\n"
     ]
    },
    {
     "name": "stdout",
     "output_type": "stream",
     "text": [
      "[Epoch 3] [Batch 2400] [D loss: 0.000000] [G loss: 0.072973]\n"
     ]
    },
    {
     "name": "stdout",
     "output_type": "stream",
     "text": [
      "[Epoch 3] [Batch 2450] [D loss: 0.000000] [G loss: 0.086891]\n"
     ]
    },
    {
     "name": "stdout",
     "output_type": "stream",
     "text": [
      "[Epoch 3] [Batch 2500] [D loss: 0.000000] [G loss: 0.102024]\n"
     ]
    },
    {
     "name": "stdout",
     "output_type": "stream",
     "text": [
      "[Epoch 3] [Batch 2550] [D loss: 0.000000] [G loss: 0.077479]\n"
     ]
    },
    {
     "name": "stdout",
     "output_type": "stream",
     "text": [
      "[Epoch 3] [Batch 2600] [D loss: 0.000000] [G loss: 0.101314]\n"
     ]
    },
    {
     "name": "stdout",
     "output_type": "stream",
     "text": [
      "[Epoch 3] [Batch 2650] [D loss: 0.000000] [G loss: 0.092888]\n"
     ]
    },
    {
     "name": "stdout",
     "output_type": "stream",
     "text": [
      "[Epoch 3] [Batch 2700] [D loss: 0.000000] [G loss: 0.111646]\n"
     ]
    },
    {
     "name": "stdout",
     "output_type": "stream",
     "text": [
      "[Epoch 3] [Batch 2750] [D loss: 0.000000] [G loss: 0.097486]\n"
     ]
    },
    {
     "name": "stdout",
     "output_type": "stream",
     "text": [
      "[Epoch 3] [Batch 2800] [D loss: 0.000000] [G loss: 0.096165]\n"
     ]
    },
    {
     "name": "stdout",
     "output_type": "stream",
     "text": [
      "[Epoch 3] [Batch 2850] [D loss: 0.000000] [G loss: 0.083849]\n"
     ]
    },
    {
     "name": "stdout",
     "output_type": "stream",
     "text": [
      "[Epoch 3] [Batch 2900] [D loss: 0.000000] [G loss: 0.098326]\n"
     ]
    },
    {
     "name": "stdout",
     "output_type": "stream",
     "text": [
      "[Epoch 3] [Batch 2950] [D loss: 0.000000] [G loss: 0.099002]\n"
     ]
    },
    {
     "name": "stderr",
     "output_type": "stream",
     "text": [
      "2022-02-09 20:36:18.610093: W tensorflow/core/data/root_dataset.cc:167] Optimization loop failed: Cancelled: Operation was cancelled\n"
     ]
    },
    {
     "name": "stdout",
     "output_type": "stream",
     "text": [
      "[Epoch 3] [Batch 3000] [D loss: 0.000000] [G loss: 0.093138]\n"
     ]
    },
    {
     "name": "stdout",
     "output_type": "stream",
     "text": [
      "[Epoch 3] [Batch 3050] [D loss: 0.000000] [G loss: 0.096925]\n"
     ]
    },
    {
     "name": "stdout",
     "output_type": "stream",
     "text": [
      "[Epoch 3] [Batch 3100] [D loss: 0.000000] [G loss: 0.102680]\n"
     ]
    },
    {
     "name": "stderr",
     "output_type": "stream",
     "text": [
      "2022-02-09 20:38:34.971942: W tensorflow/core/data/root_dataset.cc:167] Optimization loop failed: Cancelled: Operation was cancelled\n"
     ]
    },
    {
     "name": "stdout",
     "output_type": "stream",
     "text": [
      "[Epoch 3] [Batch 3150] [D loss: 0.000000] [G loss: 0.093561]\n"
     ]
    },
    {
     "name": "stdout",
     "output_type": "stream",
     "text": [
      "[Epoch 3] [Batch 3200] [D loss: 0.000000] [G loss: 0.118581]\n"
     ]
    },
    {
     "name": "stdout",
     "output_type": "stream",
     "text": [
      "[Epoch 3] [Batch 3250] [D loss: 0.000000] [G loss: 0.094785]\n"
     ]
    },
    {
     "name": "stdout",
     "output_type": "stream",
     "text": [
      "[Epoch 3] [Batch 3300] [D loss: 0.000000] [G loss: 0.073929]\n"
     ]
    },
    {
     "name": "stdout",
     "output_type": "stream",
     "text": [
      "[Epoch 3] [Batch 3350] [D loss: 0.000000] [G loss: 0.094564]\n"
     ]
    },
    {
     "name": "stderr",
     "output_type": "stream",
     "text": [
      "2022-02-09 20:42:21.290625: W tensorflow/core/data/root_dataset.cc:167] Optimization loop failed: Cancelled: Operation was cancelled\n"
     ]
    },
    {
     "name": "stdout",
     "output_type": "stream",
     "text": [
      "[Epoch 3] [Batch 3400] [D loss: 0.000000] [G loss: 0.086590]\n"
     ]
    },
    {
     "name": "stdout",
     "output_type": "stream",
     "text": [
      "[Epoch 3] [Batch 3450] [D loss: 0.000000] [G loss: 0.096907]\n"
     ]
    },
    {
     "name": "stdout",
     "output_type": "stream",
     "text": [
      "[Epoch 3] [Batch 3500] [D loss: 0.000000] [G loss: 0.092322]\n"
     ]
    },
    {
     "name": "stderr",
     "output_type": "stream",
     "text": [
      "2022-02-09 20:44:44.182515: W tensorflow/core/data/root_dataset.cc:167] Optimization loop failed: Cancelled: Operation was cancelled\n"
     ]
    },
    {
     "name": "stdout",
     "output_type": "stream",
     "text": [
      "[Epoch 3] [Batch 3550] [D loss: 0.000000] [G loss: 0.075467]\n"
     ]
    },
    {
     "name": "stdout",
     "output_type": "stream",
     "text": [
      "[Epoch 3] [Batch 3600] [D loss: 0.000000] [G loss: 0.081084]\n"
     ]
    },
    {
     "name": "stdout",
     "output_type": "stream",
     "text": [
      "[Epoch 3] [Batch 3650] [D loss: 0.000000] [G loss: 0.100211]\n"
     ]
    },
    {
     "name": "stdout",
     "output_type": "stream",
     "text": [
      "[Epoch 3] [Batch 3700] [D loss: 0.000000] [G loss: 0.081731]\n"
     ]
    },
    {
     "name": "stdout",
     "output_type": "stream",
     "text": [
      "[Epoch 3] [Batch 3750] [D loss: 0.000000] [G loss: 0.084776]\n"
     ]
    },
    {
     "name": "stdout",
     "output_type": "stream",
     "text": [
      "[Epoch 3] [Batch 3800] [D loss: 0.000000] [G loss: 0.113301]\n"
     ]
    },
    {
     "name": "stdout",
     "output_type": "stream",
     "text": [
      "[Epoch 3] [Batch 3850] [D loss: 0.000000] [G loss: 0.079055]\n"
     ]
    },
    {
     "name": "stdout",
     "output_type": "stream",
     "text": [
      "[Epoch 3] [Batch 3900] [D loss: 0.000000] [G loss: 0.072156]\n"
     ]
    },
    {
     "name": "stdout",
     "output_type": "stream",
     "text": [
      "[Epoch 3] [Batch 3950] [D loss: 0.000000] [G loss: 0.083107]\n"
     ]
    },
    {
     "name": "stdout",
     "output_type": "stream",
     "text": [
      "[Epoch 3] [Batch 4000] [D loss: 0.000000] [G loss: 0.084880]\n"
     ]
    },
    {
     "name": "stdout",
     "output_type": "stream",
     "text": [
      "[Epoch 3] [Batch 4050] [D loss: 0.000000] [G loss: 0.097887]\n"
     ]
    },
    {
     "name": "stdout",
     "output_type": "stream",
     "text": [
      "[Epoch 3] [Batch 4100] [D loss: 0.000000] [G loss: 0.081446]\n"
     ]
    },
    {
     "name": "stdout",
     "output_type": "stream",
     "text": [
      "[Epoch 3] [Batch 4150] [D loss: 0.000000] [G loss: 0.084213]\n"
     ]
    },
    {
     "name": "stdout",
     "output_type": "stream",
     "text": [
      "[Epoch 3] [Batch 4200] [D loss: 0.000000] [G loss: 0.103662]\n"
     ]
    },
    {
     "name": "stdout",
     "output_type": "stream",
     "text": [
      "[Epoch 3] [Batch 4250] [D loss: 0.000000] [G loss: 0.084173]\n"
     ]
    },
    {
     "name": "stderr",
     "output_type": "stream",
     "text": [
      "2022-02-09 20:55:33.332307: W tensorflow/core/data/root_dataset.cc:167] Optimization loop failed: Cancelled: Operation was cancelled\n"
     ]
    },
    {
     "name": "stdout",
     "output_type": "stream",
     "text": [
      "[Epoch 3] [Batch 4300] [D loss: 0.000000] [G loss: 0.123723]\n"
     ]
    },
    {
     "name": "stdout",
     "output_type": "stream",
     "text": [
      "[Epoch 3] [Batch 4350] [D loss: 0.000000] [G loss: 0.085981]\n"
     ]
    },
    {
     "name": "stdout",
     "output_type": "stream",
     "text": [
      "[Epoch 3] [Batch 4400] [D loss: 0.000000] [G loss: 0.075667]\n"
     ]
    },
    {
     "name": "stdout",
     "output_type": "stream",
     "text": [
      "[Epoch 3] [Batch 4450] [D loss: 0.000000] [G loss: 0.082233]\n"
     ]
    },
    {
     "name": "stdout",
     "output_type": "stream",
     "text": [
      "[Epoch 3] [Batch 4500] [D loss: 0.000000] [G loss: 0.078450]\n"
     ]
    },
    {
     "name": "stderr",
     "output_type": "stream",
     "text": [
      "2022-02-09 20:59:13.134102: W tensorflow/core/data/root_dataset.cc:167] Optimization loop failed: Cancelled: Operation was cancelled\n"
     ]
    },
    {
     "name": "stdout",
     "output_type": "stream",
     "text": [
      "[Epoch 3] [Batch 4550] [D loss: 0.000000] [G loss: 0.065862]\n"
     ]
    },
    {
     "name": "stdout",
     "output_type": "stream",
     "text": [
      "[Epoch 3] [Batch 4600] [D loss: 0.000000] [G loss: 0.062516]\n"
     ]
    },
    {
     "name": "stderr",
     "output_type": "stream",
     "text": [
      "2022-02-09 21:01:03.939879: W tensorflow/core/data/root_dataset.cc:167] Optimization loop failed: Cancelled: Operation was cancelled\n"
     ]
    },
    {
     "name": "stdout",
     "output_type": "stream",
     "text": [
      "[Epoch 3] [Batch 4650] [D loss: 0.000000] [G loss: 0.070923]\n"
     ]
    },
    {
     "name": "stdout",
     "output_type": "stream",
     "text": [
      "[Epoch 3] [Batch 4700] [D loss: 0.000000] [G loss: 0.079153]\n"
     ]
    },
    {
     "name": "stdout",
     "output_type": "stream",
     "text": [
      "[Epoch 3] [Batch 4750] [D loss: 0.000000] [G loss: 0.068929]\n"
     ]
    },
    {
     "name": "stderr",
     "output_type": "stream",
     "text": [
      "2022-02-09 21:03:37.588300: W tensorflow/core/data/root_dataset.cc:167] Optimization loop failed: Cancelled: Operation was cancelled\n"
     ]
    },
    {
     "name": "stdout",
     "output_type": "stream",
     "text": [
      "[Epoch 3] [Batch 4800] [D loss: 0.000000] [G loss: 0.069091]\n"
     ]
    },
    {
     "name": "stdout",
     "output_type": "stream",
     "text": [
      "[Epoch 3] [Batch 4850] [D loss: 0.000000] [G loss: 0.093908]\n"
     ]
    },
    {
     "name": "stdout",
     "output_type": "stream",
     "text": [
      "[Epoch 3] [Batch 4900] [D loss: 0.000000] [G loss: 0.065382]\n"
     ]
    },
    {
     "name": "stdout",
     "output_type": "stream",
     "text": [
      "[Epoch 3] [Batch 4950] [D loss: 0.000000] [G loss: 0.072445]\n"
     ]
    },
    {
     "name": "stdout",
     "output_type": "stream",
     "text": [
      "[Epoch 3] [Batch 5000] [D loss: 0.000000] [G loss: 0.067737]\n"
     ]
    },
    {
     "name": "stdout",
     "output_type": "stream",
     "text": [
      "[Epoch 3] [Batch 5050] [D loss: 0.000000] [G loss: 0.073382]\n"
     ]
    },
    {
     "name": "stdout",
     "output_type": "stream",
     "text": [
      "[Epoch 3] [Batch 5100] [D loss: 0.000000] [G loss: 0.073288]\n"
     ]
    },
    {
     "name": "stdout",
     "output_type": "stream",
     "text": [
      "[Epoch 3] [Batch 5150] [D loss: 0.000000] [G loss: 0.077266]\n"
     ]
    },
    {
     "name": "stderr",
     "output_type": "stream",
     "text": [
      "2022-02-09 21:09:51.420939: W tensorflow/core/data/root_dataset.cc:167] Optimization loop failed: Cancelled: Operation was cancelled\n"
     ]
    },
    {
     "name": "stdout",
     "output_type": "stream",
     "text": [
      "[Epoch 3] [Batch 5200] [D loss: 0.000000] [G loss: 0.075668]\n"
     ]
    },
    {
     "name": "stdout",
     "output_type": "stream",
     "text": [
      "[Epoch 3] [Batch 5250] [D loss: 0.000000] [G loss: 0.069047]\n"
     ]
    },
    {
     "name": "stderr",
     "output_type": "stream",
     "text": [
      "2022-02-09 21:10:56.875995: W tensorflow/core/data/root_dataset.cc:167] Optimization loop failed: Cancelled: Operation was cancelled\n"
     ]
    },
    {
     "name": "stdout",
     "output_type": "stream",
     "text": [
      "[Epoch 3] [Batch 5300] [D loss: 0.000000] [G loss: 0.071528]\n"
     ]
    },
    {
     "name": "stderr",
     "output_type": "stream",
     "text": [
      "2022-02-09 21:12:03.482342: W tensorflow/core/data/root_dataset.cc:167] Optimization loop failed: Cancelled: Operation was cancelled\n"
     ]
    },
    {
     "name": "stdout",
     "output_type": "stream",
     "text": [
      "[Epoch 3] [Batch 5350] [D loss: 0.000000] [G loss: 0.558946]\n"
     ]
    },
    {
     "name": "stdout",
     "output_type": "stream",
     "text": [
      "[Epoch 3] [Batch 5400] [D loss: 0.000000] [G loss: 0.593755]\n"
     ]
    },
    {
     "name": "stdout",
     "output_type": "stream",
     "text": [
      "[Epoch 3] [Batch 5450] [D loss: 0.000000] [G loss: 0.557407]\n"
     ]
    },
    {
     "name": "stdout",
     "output_type": "stream",
     "text": [
      "[Epoch 3] [Batch 5500] [D loss: 0.000000] [G loss: 0.540820]\n"
     ]
    },
    {
     "name": "stdout",
     "output_type": "stream",
     "text": [
      "[Epoch 3] [Batch 5550] [D loss: 0.000000] [G loss: 0.519858]\n"
     ]
    },
    {
     "name": "stdout",
     "output_type": "stream",
     "text": [
      "[Epoch 3] [Batch 5600] [D loss: 0.000000] [G loss: 0.497636]\n"
     ]
    },
    {
     "name": "stdout",
     "output_type": "stream",
     "text": [
      "[Epoch 3] [Batch 5650] [D loss: 0.000000] [G loss: 0.464386]\n"
     ]
    },
    {
     "name": "stdout",
     "output_type": "stream",
     "text": [
      "[Epoch 3] [Batch 5700] [D loss: 0.000000] [G loss: 0.445319]\n"
     ]
    },
    {
     "name": "stdout",
     "output_type": "stream",
     "text": [
      "[Epoch 3] [Batch 5750] [D loss: 0.000000] [G loss: 0.424548]\n"
     ]
    },
    {
     "name": "stdout",
     "output_type": "stream",
     "text": [
      "[Epoch 3] [Batch 5800] [D loss: 0.000000] [G loss: 0.450871]\n"
     ]
    },
    {
     "name": "stdout",
     "output_type": "stream",
     "text": [
      "[Epoch 3] [Batch 5850] [D loss: 0.000000] [G loss: 0.339547]\n"
     ]
    },
    {
     "name": "stderr",
     "output_type": "stream",
     "text": [
      "2022-02-09 21:19:34.266843: W tensorflow/core/data/root_dataset.cc:167] Optimization loop failed: Cancelled: Operation was cancelled\n"
     ]
    },
    {
     "name": "stdout",
     "output_type": "stream",
     "text": [
      "[Epoch 3] [Batch 5900] [D loss: 0.000000] [G loss: 0.284021]\n"
     ]
    },
    {
     "name": "stderr",
     "output_type": "stream",
     "text": [
      "2022-02-09 21:20:40.417730: W tensorflow/core/data/root_dataset.cc:167] Optimization loop failed: Cancelled: Operation was cancelled\n"
     ]
    },
    {
     "name": "stdout",
     "output_type": "stream",
     "text": [
      "[Epoch 3] [Batch 5950] [D loss: 0.000000] [G loss: 0.240600]\n"
     ]
    },
    {
     "name": "stdout",
     "output_type": "stream",
     "text": [
      "[Epoch 3] [Batch 6000] [D loss: 0.000000] [G loss: 0.236805]\n"
     ]
    },
    {
     "name": "stdout",
     "output_type": "stream",
     "text": [
      "[Epoch 3] [Batch 6050] [D loss: 0.000000] [G loss: 0.237770]\n"
     ]
    },
    {
     "name": "stdout",
     "output_type": "stream",
     "text": [
      "[Epoch 3] [Batch 6100] [D loss: 0.000000] [G loss: 0.210975]\n"
     ]
    },
    {
     "name": "stdout",
     "output_type": "stream",
     "text": [
      "[Epoch 3] [Batch 6150] [D loss: 0.000000] [G loss: 0.212796]\n"
     ]
    },
    {
     "name": "stdout",
     "output_type": "stream",
     "text": [
      "[Epoch 3] [Batch 6200] [D loss: 0.000000] [G loss: 0.224410]\n"
     ]
    },
    {
     "name": "stdout",
     "output_type": "stream",
     "text": [
      "[Epoch 3] [Batch 6250] [D loss: 0.000000] [G loss: 0.206512]\n"
     ]
    },
    {
     "name": "stdout",
     "output_type": "stream",
     "text": [
      "[Epoch 3] [Batch 6300] [D loss: 0.000000] [G loss: 0.230410]\n"
     ]
    },
    {
     "name": "stdout",
     "output_type": "stream",
     "text": [
      "[Epoch 3] [Batch 6350] [D loss: 0.000000] [G loss: 0.231510]\n"
     ]
    },
    {
     "name": "stdout",
     "output_type": "stream",
     "text": [
      "[Epoch 3] [Batch 6400] [D loss: 0.000000] [G loss: 0.234903]\n"
     ]
    },
    {
     "name": "stdout",
     "output_type": "stream",
     "text": [
      "[Epoch 3] [Batch 6450] [D loss: 0.000000] [G loss: 0.205803]\n"
     ]
    },
    {
     "name": "stdout",
     "output_type": "stream",
     "text": [
      "[Epoch 3] [Batch 6500] [D loss: 0.000000] [G loss: 0.227932]\n"
     ]
    },
    {
     "name": "stdout",
     "output_type": "stream",
     "text": [
      "[Epoch 3] [Batch 6550] [D loss: 0.000000] [G loss: 0.220082]\n"
     ]
    },
    {
     "name": "stdout",
     "output_type": "stream",
     "text": [
      "[Epoch 3] [Batch 6600] [D loss: 0.000000] [G loss: 0.229945]\n"
     ]
    },
    {
     "name": "stdout",
     "output_type": "stream",
     "text": [
      "[Epoch 3] [Batch 6650] [D loss: 0.000000] [G loss: 0.222461]\n"
     ]
    },
    {
     "name": "stdout",
     "output_type": "stream",
     "text": [
      "[Epoch 3] [Batch 6700] [D loss: 0.000000] [G loss: 0.225393]\n"
     ]
    },
    {
     "name": "stdout",
     "output_type": "stream",
     "text": [
      "[Epoch 3] [Batch 6750] [D loss: 0.000000] [G loss: 0.219923]\n"
     ]
    },
    {
     "name": "stdout",
     "output_type": "stream",
     "text": [
      "[Epoch 3] [Batch 6800] [D loss: 0.000000] [G loss: 0.221178]\n"
     ]
    },
    {
     "name": "stdout",
     "output_type": "stream",
     "text": [
      "[Epoch 3] [Batch 6850] [D loss: 0.000000] [G loss: 0.217300]\n"
     ]
    },
    {
     "name": "stdout",
     "output_type": "stream",
     "text": [
      "[Epoch 3] [Batch 6900] [D loss: 0.000000] [G loss: 0.219311]\n"
     ]
    },
    {
     "name": "stdout",
     "output_type": "stream",
     "text": [
      "[Epoch 3] [Batch 6950] [D loss: 0.000000] [G loss: 0.210197]\n"
     ]
    },
    {
     "name": "stdout",
     "output_type": "stream",
     "text": [
      "[Epoch 3] [Batch 7000] [D loss: 0.000000] [G loss: 0.219349]\n"
     ]
    },
    {
     "name": "stdout",
     "output_type": "stream",
     "text": [
      "[Epoch 3] [Batch 7050] [D loss: 0.000000] [G loss: 0.207047]\n"
     ]
    },
    {
     "name": "stdout",
     "output_type": "stream",
     "text": [
      "[Epoch 3] [Batch 7100] [D loss: 0.000000] [G loss: 0.211707]\n"
     ]
    },
    {
     "name": "stdout",
     "output_type": "stream",
     "text": [
      "[Epoch 3] [Batch 7150] [D loss: 0.000000] [G loss: 0.233612]\n"
     ]
    },
    {
     "name": "stdout",
     "output_type": "stream",
     "text": [
      "[Epoch 3] [Batch 7200] [D loss: 0.000000] [G loss: 0.217115]\n"
     ]
    },
    {
     "name": "stdout",
     "output_type": "stream",
     "text": [
      "[Epoch 3] [Batch 7250] [D loss: 0.000000] [G loss: 0.227510]\n"
     ]
    },
    {
     "name": "stdout",
     "output_type": "stream",
     "text": [
      "[Epoch 3] [Batch 7300] [D loss: 0.000000] [G loss: 0.244001]\n"
     ]
    },
    {
     "name": "stdout",
     "output_type": "stream",
     "text": [
      "[Epoch 3] [Batch 7350] [D loss: 0.000000] [G loss: 0.200969]\n"
     ]
    },
    {
     "name": "stdout",
     "output_type": "stream",
     "text": [
      "[Epoch 3] [Batch 7400] [D loss: 0.000000] [G loss: 0.216786]\n"
     ]
    },
    {
     "name": "stdout",
     "output_type": "stream",
     "text": [
      "[Epoch 3] [Batch 7450] [D loss: 0.000000] [G loss: 0.219855]\n"
     ]
    },
    {
     "name": "stdout",
     "output_type": "stream",
     "text": [
      "[Epoch 3] [Batch 7500] [D loss: 0.000000] [G loss: 0.233949]\n"
     ]
    },
    {
     "name": "stdout",
     "output_type": "stream",
     "text": [
      "[Epoch 3] [Batch 7550] [D loss: 0.000000] [G loss: 0.206145]\n"
     ]
    },
    {
     "name": "stdout",
     "output_type": "stream",
     "text": [
      "[Epoch 3] [Batch 7600] [D loss: 0.000000] [G loss: 0.241515]\n"
     ]
    },
    {
     "name": "stdout",
     "output_type": "stream",
     "text": [
      "[Epoch 3] [Batch 7650] [D loss: 0.000000] [G loss: 0.245438]\n"
     ]
    },
    {
     "name": "stdout",
     "output_type": "stream",
     "text": [
      "[Epoch 3] [Batch 7700] [D loss: 0.000000] [G loss: 0.230991]\n"
     ]
    },
    {
     "name": "stdout",
     "output_type": "stream",
     "text": [
      "[Epoch 3] [Batch 7750] [D loss: 0.000000] [G loss: 0.222909]\n"
     ]
    },
    {
     "name": "stdout",
     "output_type": "stream",
     "text": [
      "[Epoch 3] [Batch 7800] [D loss: 0.000000] [G loss: 0.219297]\n"
     ]
    },
    {
     "name": "stdout",
     "output_type": "stream",
     "text": [
      "[Epoch 3] [Batch 7850] [D loss: 0.000000] [G loss: 0.235988]\n"
     ]
    },
    {
     "name": "stdout",
     "output_type": "stream",
     "text": [
      "[Epoch 3] [Batch 7900] [D loss: 0.000000] [G loss: 0.233161]\n"
     ]
    },
    {
     "name": "stdout",
     "output_type": "stream",
     "text": [
      "[Epoch 3] [Batch 7950] [D loss: 0.000000] [G loss: 0.240271]\n"
     ]
    },
    {
     "name": "stdout",
     "output_type": "stream",
     "text": [
      "[Epoch 3] [Batch 8000] [D loss: 0.000000] [G loss: 0.245046]\n"
     ]
    },
    {
     "name": "stdout",
     "output_type": "stream",
     "text": [
      "[Epoch 3] [Batch 8050] [D loss: 0.000000] [G loss: 0.241330]\n"
     ]
    },
    {
     "name": "stdout",
     "output_type": "stream",
     "text": [
      "[Epoch 3] [Batch 8100] [D loss: 0.000000] [G loss: 0.202367]\n"
     ]
    },
    {
     "name": "stdout",
     "output_type": "stream",
     "text": [
      "[Epoch 3] [Batch 8150] [D loss: 0.000000] [G loss: 0.219361]\n"
     ]
    },
    {
     "name": "stdout",
     "output_type": "stream",
     "text": [
      "[Epoch 3] [Batch 8200] [D loss: 0.000000] [G loss: 0.221182]\n"
     ]
    },
    {
     "name": "stdout",
     "output_type": "stream",
     "text": [
      "[Epoch 3] [Batch 8250] [D loss: 0.000000] [G loss: 0.278185]\n"
     ]
    },
    {
     "name": "stdout",
     "output_type": "stream",
     "text": [
      "[Epoch 3] [Batch 8300] [D loss: 0.000000] [G loss: 0.287972]\n"
     ]
    },
    {
     "name": "stdout",
     "output_type": "stream",
     "text": [
      "[Epoch 3] [Batch 8350] [D loss: 0.000000] [G loss: 0.245585]\n"
     ]
    },
    {
     "name": "stdout",
     "output_type": "stream",
     "text": [
      "[Epoch 3] [Batch 8400] [D loss: 0.000000] [G loss: 0.286564]\n"
     ]
    },
    {
     "name": "stdout",
     "output_type": "stream",
     "text": [
      "[Epoch 3] [Batch 8450] [D loss: 0.000000] [G loss: 0.282587]\n"
     ]
    },
    {
     "name": "stdout",
     "output_type": "stream",
     "text": [
      "[Epoch 3] [Batch 8500] [D loss: 0.000000] [G loss: 0.257488]\n"
     ]
    },
    {
     "name": "stdout",
     "output_type": "stream",
     "text": [
      "[Epoch 3] [Batch 8550] [D loss: 0.000000] [G loss: 0.281946]\n"
     ]
    },
    {
     "name": "stdout",
     "output_type": "stream",
     "text": [
      "[Epoch 3] [Batch 8600] [D loss: 0.000000] [G loss: 0.250262]\n"
     ]
    },
    {
     "name": "stdout",
     "output_type": "stream",
     "text": [
      "[Epoch 3] [Batch 8650] [D loss: 0.000000] [G loss: 0.291170]\n"
     ]
    },
    {
     "name": "stdout",
     "output_type": "stream",
     "text": [
      "Time for epoch 3 is 7884.502582788467 sec\n"
     ]
    },
    {
     "name": "stdout",
     "output_type": "stream",
     "text": [
      "[Epoch 4] [Batch 0] [D loss: 0.000000] [G loss: 0.253117]\n"
     ]
    },
    {
     "name": "stdout",
     "output_type": "stream",
     "text": [
      "[Epoch 4] [Batch 50] [D loss: 0.000000] [G loss: 0.213093]\n"
     ]
    },
    {
     "name": "stderr",
     "output_type": "stream",
     "text": [
      "2022-02-09 22:03:06.042297: W tensorflow/core/data/root_dataset.cc:167] Optimization loop failed: Cancelled: Operation was cancelled\n"
     ]
    },
    {
     "name": "stdout",
     "output_type": "stream",
     "text": [
      "[Epoch 4] [Batch 100] [D loss: 0.000000] [G loss: 0.198491]\n"
     ]
    },
    {
     "name": "stdout",
     "output_type": "stream",
     "text": [
      "[Epoch 4] [Batch 150] [D loss: 0.000000] [G loss: 0.184709]\n"
     ]
    },
    {
     "name": "stdout",
     "output_type": "stream",
     "text": [
      "[Epoch 4] [Batch 200] [D loss: 0.000000] [G loss: 0.170009]\n"
     ]
    },
    {
     "name": "stderr",
     "output_type": "stream",
     "text": [
      "2022-02-09 22:05:29.773195: W tensorflow/core/data/root_dataset.cc:167] Optimization loop failed: Cancelled: Operation was cancelled\n"
     ]
    },
    {
     "name": "stdout",
     "output_type": "stream",
     "text": [
      "[Epoch 4] [Batch 250] [D loss: 0.000000] [G loss: 0.199181]\n"
     ]
    },
    {
     "name": "stdout",
     "output_type": "stream",
     "text": [
      "[Epoch 4] [Batch 300] [D loss: 0.000000] [G loss: 0.191542]\n"
     ]
    },
    {
     "name": "stdout",
     "output_type": "stream",
     "text": [
      "[Epoch 4] [Batch 350] [D loss: 0.000000] [G loss: 0.177819]\n"
     ]
    },
    {
     "name": "stdout",
     "output_type": "stream",
     "text": [
      "[Epoch 4] [Batch 400] [D loss: 0.000000] [G loss: 0.206194]\n"
     ]
    },
    {
     "name": "stdout",
     "output_type": "stream",
     "text": [
      "[Epoch 4] [Batch 450] [D loss: 0.000000] [G loss: 0.180134]\n"
     ]
    },
    {
     "name": "stdout",
     "output_type": "stream",
     "text": [
      "[Epoch 4] [Batch 500] [D loss: 0.000000] [G loss: 0.202824]\n"
     ]
    },
    {
     "name": "stderr",
     "output_type": "stream",
     "text": [
      "2022-02-09 22:10:23.806413: W tensorflow/core/data/root_dataset.cc:167] Optimization loop failed: Cancelled: Operation was cancelled\n"
     ]
    },
    {
     "name": "stdout",
     "output_type": "stream",
     "text": [
      "[Epoch 4] [Batch 550] [D loss: 0.000000] [G loss: 0.223607]\n"
     ]
    },
    {
     "name": "stdout",
     "output_type": "stream",
     "text": [
      "[Epoch 4] [Batch 600] [D loss: 0.000000] [G loss: 0.211651]\n"
     ]
    },
    {
     "name": "stdout",
     "output_type": "stream",
     "text": [
      "[Epoch 4] [Batch 650] [D loss: 0.000000] [G loss: 0.218237]\n"
     ]
    },
    {
     "name": "stdout",
     "output_type": "stream",
     "text": [
      "[Epoch 4] [Batch 700] [D loss: 0.000000] [G loss: 0.212319]\n"
     ]
    },
    {
     "name": "stdout",
     "output_type": "stream",
     "text": [
      "[Epoch 4] [Batch 750] [D loss: 0.000000] [G loss: 0.222890]\n"
     ]
    },
    {
     "name": "stdout",
     "output_type": "stream",
     "text": [
      "[Epoch 4] [Batch 800] [D loss: 0.000000] [G loss: 0.203459]\n"
     ]
    },
    {
     "name": "stdout",
     "output_type": "stream",
     "text": [
      "[Epoch 4] [Batch 850] [D loss: 0.000000] [G loss: 0.228216]\n"
     ]
    },
    {
     "name": "stdout",
     "output_type": "stream",
     "text": [
      "[Epoch 4] [Batch 900] [D loss: 0.000000] [G loss: 0.202799]\n"
     ]
    },
    {
     "name": "stdout",
     "output_type": "stream",
     "text": [
      "[Epoch 4] [Batch 950] [D loss: 0.000000] [G loss: 0.193301]\n"
     ]
    },
    {
     "name": "stdout",
     "output_type": "stream",
     "text": [
      "[Epoch 4] [Batch 1000] [D loss: 0.000000] [G loss: 0.212127]\n"
     ]
    },
    {
     "name": "stdout",
     "output_type": "stream",
     "text": [
      "[Epoch 4] [Batch 1050] [D loss: 0.000000] [G loss: 0.165280]\n"
     ]
    },
    {
     "name": "stdout",
     "output_type": "stream",
     "text": [
      "[Epoch 4] [Batch 1100] [D loss: 0.000000] [G loss: 0.175516]\n"
     ]
    },
    {
     "name": "stdout",
     "output_type": "stream",
     "text": [
      "[Epoch 4] [Batch 1150] [D loss: 0.000000] [G loss: 0.161623]\n"
     ]
    },
    {
     "name": "stdout",
     "output_type": "stream",
     "text": [
      "[Epoch 4] [Batch 1200] [D loss: 0.000000] [G loss: 0.174201]\n"
     ]
    },
    {
     "name": "stdout",
     "output_type": "stream",
     "text": [
      "[Epoch 4] [Batch 1250] [D loss: 0.000000] [G loss: 0.157706]\n"
     ]
    },
    {
     "name": "stdout",
     "output_type": "stream",
     "text": [
      "[Epoch 4] [Batch 1300] [D loss: 0.000000] [G loss: 0.187038]\n"
     ]
    },
    {
     "name": "stdout",
     "output_type": "stream",
     "text": [
      "[Epoch 4] [Batch 1350] [D loss: 0.000000] [G loss: 0.166785]\n"
     ]
    },
    {
     "name": "stdout",
     "output_type": "stream",
     "text": [
      "[Epoch 4] [Batch 1400] [D loss: 0.000000] [G loss: 0.140552]\n"
     ]
    },
    {
     "name": "stdout",
     "output_type": "stream",
     "text": [
      "[Epoch 4] [Batch 1450] [D loss: 0.000000] [G loss: 0.180738]\n"
     ]
    },
    {
     "name": "stdout",
     "output_type": "stream",
     "text": [
      "[Epoch 4] [Batch 1500] [D loss: 0.000000] [G loss: 0.167454]\n"
     ]
    },
    {
     "name": "stdout",
     "output_type": "stream",
     "text": [
      "[Epoch 4] [Batch 1550] [D loss: 0.000000] [G loss: 0.149971]\n"
     ]
    },
    {
     "name": "stdout",
     "output_type": "stream",
     "text": [
      "[Epoch 4] [Batch 1600] [D loss: 0.000000] [G loss: 0.156868]\n"
     ]
    },
    {
     "name": "stdout",
     "output_type": "stream",
     "text": [
      "[Epoch 4] [Batch 1650] [D loss: 0.000000] [G loss: 0.152985]\n"
     ]
    },
    {
     "name": "stdout",
     "output_type": "stream",
     "text": [
      "[Epoch 4] [Batch 1700] [D loss: 0.000000] [G loss: 0.155894]\n"
     ]
    },
    {
     "name": "stdout",
     "output_type": "stream",
     "text": [
      "[Epoch 4] [Batch 1750] [D loss: 0.000000] [G loss: 0.167080]\n"
     ]
    },
    {
     "name": "stdout",
     "output_type": "stream",
     "text": [
      "[Epoch 4] [Batch 1800] [D loss: 0.000000] [G loss: 0.185593]\n"
     ]
    },
    {
     "name": "stdout",
     "output_type": "stream",
     "text": [
      "[Epoch 4] [Batch 1850] [D loss: 0.000000] [G loss: 0.164912]\n"
     ]
    },
    {
     "name": "stdout",
     "output_type": "stream",
     "text": [
      "[Epoch 4] [Batch 1900] [D loss: 0.000000] [G loss: 0.170349]\n"
     ]
    },
    {
     "name": "stdout",
     "output_type": "stream",
     "text": [
      "[Epoch 4] [Batch 1950] [D loss: 0.000000] [G loss: 0.183556]\n"
     ]
    },
    {
     "name": "stdout",
     "output_type": "stream",
     "text": [
      "[Epoch 4] [Batch 2000] [D loss: 0.000000] [G loss: 0.157665]\n"
     ]
    },
    {
     "name": "stdout",
     "output_type": "stream",
     "text": [
      "[Epoch 4] [Batch 2050] [D loss: 0.000000] [G loss: 0.174720]\n"
     ]
    },
    {
     "name": "stdout",
     "output_type": "stream",
     "text": [
      "[Epoch 4] [Batch 2100] [D loss: 0.000000] [G loss: 0.202384]\n"
     ]
    },
    {
     "name": "stdout",
     "output_type": "stream",
     "text": [
      "[Epoch 4] [Batch 2150] [D loss: 0.000000] [G loss: 0.186663]\n"
     ]
    },
    {
     "name": "stdout",
     "output_type": "stream",
     "text": [
      "[Epoch 4] [Batch 2200] [D loss: 0.000000] [G loss: 0.172702]\n"
     ]
    },
    {
     "name": "stdout",
     "output_type": "stream",
     "text": [
      "[Epoch 4] [Batch 2250] [D loss: 0.000000] [G loss: 0.176907]\n"
     ]
    },
    {
     "name": "stderr",
     "output_type": "stream",
     "text": [
      "2022-02-09 22:36:28.196089: W tensorflow/core/data/root_dataset.cc:167] Optimization loop failed: Cancelled: Operation was cancelled\n"
     ]
    },
    {
     "name": "stdout",
     "output_type": "stream",
     "text": [
      "[Epoch 4] [Batch 2300] [D loss: 0.000000] [G loss: 0.186526]\n"
     ]
    },
    {
     "name": "stdout",
     "output_type": "stream",
     "text": [
      "[Epoch 4] [Batch 2350] [D loss: 0.000000] [G loss: 0.182654]\n"
     ]
    },
    {
     "name": "stdout",
     "output_type": "stream",
     "text": [
      "[Epoch 4] [Batch 2400] [D loss: 0.000000] [G loss: 0.164842]\n"
     ]
    },
    {
     "name": "stdout",
     "output_type": "stream",
     "text": [
      "[Epoch 4] [Batch 2450] [D loss: 0.000000] [G loss: 0.166490]\n"
     ]
    },
    {
     "name": "stdout",
     "output_type": "stream",
     "text": [
      "[Epoch 4] [Batch 2500] [D loss: 0.000000] [G loss: 0.188650]\n"
     ]
    },
    {
     "name": "stdout",
     "output_type": "stream",
     "text": [
      "[Epoch 4] [Batch 2550] [D loss: 0.000000] [G loss: 0.158308]\n"
     ]
    },
    {
     "name": "stdout",
     "output_type": "stream",
     "text": [
      "[Epoch 4] [Batch 2600] [D loss: 0.000000] [G loss: 0.181879]\n"
     ]
    },
    {
     "name": "stdout",
     "output_type": "stream",
     "text": [
      "[Epoch 4] [Batch 2650] [D loss: 0.000000] [G loss: 0.182525]\n"
     ]
    },
    {
     "name": "stdout",
     "output_type": "stream",
     "text": [
      "[Epoch 4] [Batch 2700] [D loss: 0.000000] [G loss: 0.206470]\n"
     ]
    },
    {
     "name": "stdout",
     "output_type": "stream",
     "text": [
      "[Epoch 4] [Batch 2750] [D loss: 0.000000] [G loss: 0.180111]\n"
     ]
    },
    {
     "name": "stdout",
     "output_type": "stream",
     "text": [
      "[Epoch 4] [Batch 2800] [D loss: 0.000000] [G loss: 0.187735]\n"
     ]
    },
    {
     "name": "stdout",
     "output_type": "stream",
     "text": [
      "[Epoch 4] [Batch 2850] [D loss: 0.000000] [G loss: 0.176541]\n"
     ]
    },
    {
     "name": "stdout",
     "output_type": "stream",
     "text": [
      "[Epoch 4] [Batch 2900] [D loss: 0.000000] [G loss: 0.209004]\n"
     ]
    },
    {
     "name": "stdout",
     "output_type": "stream",
     "text": [
      "[Epoch 4] [Batch 2950] [D loss: 0.000000] [G loss: 0.186744]\n"
     ]
    },
    {
     "name": "stdout",
     "output_type": "stream",
     "text": [
      "[Epoch 4] [Batch 3000] [D loss: 0.000000] [G loss: 0.207641]\n"
     ]
    },
    {
     "name": "stdout",
     "output_type": "stream",
     "text": [
      "[Epoch 4] [Batch 3050] [D loss: 0.000000] [G loss: 0.200130]\n"
     ]
    },
    {
     "name": "stdout",
     "output_type": "stream",
     "text": [
      "[Epoch 4] [Batch 3100] [D loss: 0.000000] [G loss: 0.177726]\n"
     ]
    },
    {
     "name": "stdout",
     "output_type": "stream",
     "text": [
      "[Epoch 4] [Batch 3150] [D loss: 0.000000] [G loss: 0.202154]\n"
     ]
    },
    {
     "name": "stdout",
     "output_type": "stream",
     "text": [
      "[Epoch 4] [Batch 3200] [D loss: 0.000000] [G loss: 0.187458]\n"
     ]
    },
    {
     "name": "stdout",
     "output_type": "stream",
     "text": [
      "[Epoch 4] [Batch 3250] [D loss: 0.000000] [G loss: 0.203050]\n"
     ]
    },
    {
     "name": "stdout",
     "output_type": "stream",
     "text": [
      "[Epoch 4] [Batch 3300] [D loss: 0.000000] [G loss: 0.157878]\n"
     ]
    },
    {
     "name": "stdout",
     "output_type": "stream",
     "text": [
      "[Epoch 4] [Batch 3350] [D loss: 0.000000] [G loss: 0.185456]\n"
     ]
    },
    {
     "name": "stdout",
     "output_type": "stream",
     "text": [
      "[Epoch 4] [Batch 3400] [D loss: 0.000000] [G loss: 0.164528]\n"
     ]
    },
    {
     "name": "stdout",
     "output_type": "stream",
     "text": [
      "[Epoch 4] [Batch 3450] [D loss: 0.000000] [G loss: 0.168400]\n"
     ]
    },
    {
     "name": "stdout",
     "output_type": "stream",
     "text": [
      "[Epoch 4] [Batch 3500] [D loss: 0.000000] [G loss: 0.162721]\n"
     ]
    },
    {
     "name": "stdout",
     "output_type": "stream",
     "text": [
      "[Epoch 4] [Batch 3550] [D loss: 0.000000] [G loss: 0.143006]\n"
     ]
    },
    {
     "name": "stdout",
     "output_type": "stream",
     "text": [
      "[Epoch 4] [Batch 3600] [D loss: 0.000000] [G loss: 0.165529]\n"
     ]
    },
    {
     "name": "stdout",
     "output_type": "stream",
     "text": [
      "[Epoch 4] [Batch 3650] [D loss: 0.000000] [G loss: 0.172364]\n"
     ]
    },
    {
     "name": "stdout",
     "output_type": "stream",
     "text": [
      "[Epoch 4] [Batch 3700] [D loss: 0.000000] [G loss: 0.153978]\n"
     ]
    },
    {
     "name": "stdout",
     "output_type": "stream",
     "text": [
      "[Epoch 4] [Batch 3750] [D loss: 0.000000] [G loss: 0.156035]\n"
     ]
    },
    {
     "name": "stdout",
     "output_type": "stream",
     "text": [
      "[Epoch 4] [Batch 3800] [D loss: 0.000000] [G loss: 0.162003]\n"
     ]
    },
    {
     "name": "stdout",
     "output_type": "stream",
     "text": [
      "[Epoch 4] [Batch 3850] [D loss: 0.000000] [G loss: 0.176964]\n"
     ]
    },
    {
     "name": "stdout",
     "output_type": "stream",
     "text": [
      "[Epoch 4] [Batch 3900] [D loss: 0.000000] [G loss: 0.154546]\n"
     ]
    },
    {
     "name": "stdout",
     "output_type": "stream",
     "text": [
      "[Epoch 4] [Batch 3950] [D loss: 0.000000] [G loss: 0.161618]\n"
     ]
    },
    {
     "name": "stdout",
     "output_type": "stream",
     "text": [
      "[Epoch 4] [Batch 4000] [D loss: 0.000000] [G loss: 0.177365]\n"
     ]
    },
    {
     "name": "stdout",
     "output_type": "stream",
     "text": [
      "[Epoch 4] [Batch 4050] [D loss: 0.000000] [G loss: 0.196326]\n"
     ]
    },
    {
     "name": "stdout",
     "output_type": "stream",
     "text": [
      "[Epoch 4] [Batch 4100] [D loss: 0.000000] [G loss: 0.180306]\n"
     ]
    },
    {
     "name": "stdout",
     "output_type": "stream",
     "text": [
      "[Epoch 4] [Batch 4150] [D loss: 0.000000] [G loss: 0.183840]\n"
     ]
    },
    {
     "name": "stdout",
     "output_type": "stream",
     "text": [
      "[Epoch 4] [Batch 4200] [D loss: 0.000000] [G loss: 0.224189]\n"
     ]
    },
    {
     "name": "stdout",
     "output_type": "stream",
     "text": [
      "[Epoch 4] [Batch 4250] [D loss: 0.000000] [G loss: 0.190680]\n"
     ]
    },
    {
     "name": "stdout",
     "output_type": "stream",
     "text": [
      "[Epoch 4] [Batch 4300] [D loss: 0.000000] [G loss: 0.209643]\n"
     ]
    },
    {
     "name": "stdout",
     "output_type": "stream",
     "text": [
      "[Epoch 4] [Batch 4350] [D loss: 0.000000] [G loss: 0.188781]\n"
     ]
    },
    {
     "name": "stdout",
     "output_type": "stream",
     "text": [
      "[Epoch 4] [Batch 4400] [D loss: 0.000000] [G loss: 0.180653]\n"
     ]
    },
    {
     "name": "stderr",
     "output_type": "stream",
     "text": [
      "2022-02-09 23:08:44.221278: W tensorflow/core/data/root_dataset.cc:167] Optimization loop failed: Cancelled: Operation was cancelled\n"
     ]
    },
    {
     "name": "stdout",
     "output_type": "stream",
     "text": [
      "[Epoch 4] [Batch 4450] [D loss: 0.000000] [G loss: 0.185472]\n"
     ]
    },
    {
     "name": "stdout",
     "output_type": "stream",
     "text": [
      "[Epoch 4] [Batch 4500] [D loss: 0.000000] [G loss: 0.192127]\n"
     ]
    },
    {
     "name": "stdout",
     "output_type": "stream",
     "text": [
      "[Epoch 4] [Batch 4550] [D loss: 0.000000] [G loss: 0.170089]\n"
     ]
    },
    {
     "name": "stdout",
     "output_type": "stream",
     "text": [
      "[Epoch 4] [Batch 4600] [D loss: 0.000000] [G loss: 0.176675]\n"
     ]
    },
    {
     "name": "stdout",
     "output_type": "stream",
     "text": [
      "[Epoch 4] [Batch 4650] [D loss: 0.000000] [G loss: 0.196494]\n"
     ]
    },
    {
     "name": "stdout",
     "output_type": "stream",
     "text": [
      "[Epoch 4] [Batch 4700] [D loss: 0.000000] [G loss: 0.173302]\n"
     ]
    },
    {
     "name": "stdout",
     "output_type": "stream",
     "text": [
      "[Epoch 4] [Batch 4750] [D loss: 0.000000] [G loss: 0.200700]\n"
     ]
    },
    {
     "name": "stdout",
     "output_type": "stream",
     "text": [
      "[Epoch 4] [Batch 4800] [D loss: 0.000000] [G loss: 0.186774]\n"
     ]
    },
    {
     "name": "stderr",
     "output_type": "stream",
     "text": [
      "2022-02-09 23:14:03.325073: W tensorflow/core/data/root_dataset.cc:167] Optimization loop failed: Cancelled: Operation was cancelled\n"
     ]
    },
    {
     "name": "stdout",
     "output_type": "stream",
     "text": [
      "[Epoch 4] [Batch 4850] [D loss: 0.000000] [G loss: 0.176980]\n"
     ]
    },
    {
     "name": "stdout",
     "output_type": "stream",
     "text": [
      "[Epoch 4] [Batch 4900] [D loss: 0.000000] [G loss: 0.198192]\n"
     ]
    },
    {
     "name": "stdout",
     "output_type": "stream",
     "text": [
      "[Epoch 4] [Batch 4950] [D loss: 0.000000] [G loss: 0.194825]\n"
     ]
    },
    {
     "name": "stdout",
     "output_type": "stream",
     "text": [
      "[Epoch 4] [Batch 5000] [D loss: 0.000000] [G loss: 0.178749]\n"
     ]
    },
    {
     "name": "stdout",
     "output_type": "stream",
     "text": [
      "[Epoch 4] [Batch 5050] [D loss: 0.000000] [G loss: 0.214930]\n"
     ]
    },
    {
     "name": "stdout",
     "output_type": "stream",
     "text": [
      "[Epoch 4] [Batch 5100] [D loss: 0.000000] [G loss: 0.209516]\n"
     ]
    },
    {
     "name": "stdout",
     "output_type": "stream",
     "text": [
      "[Epoch 4] [Batch 5150] [D loss: 0.000000] [G loss: 0.199005]\n"
     ]
    },
    {
     "name": "stdout",
     "output_type": "stream",
     "text": [
      "[Epoch 4] [Batch 5200] [D loss: 0.000000] [G loss: 0.201193]\n"
     ]
    },
    {
     "name": "stdout",
     "output_type": "stream",
     "text": [
      "[Epoch 4] [Batch 5250] [D loss: 0.000000] [G loss: 0.212846]\n"
     ]
    },
    {
     "name": "stdout",
     "output_type": "stream",
     "text": [
      "[Epoch 4] [Batch 5300] [D loss: 0.000000] [G loss: 0.182194]\n"
     ]
    },
    {
     "name": "stdout",
     "output_type": "stream",
     "text": [
      "[Epoch 4] [Batch 5350] [D loss: 0.000000] [G loss: 0.216565]\n"
     ]
    },
    {
     "name": "stdout",
     "output_type": "stream",
     "text": [
      "[Epoch 4] [Batch 5400] [D loss: 0.000000] [G loss: 0.184973]\n"
     ]
    },
    {
     "name": "stdout",
     "output_type": "stream",
     "text": [
      "[Epoch 4] [Batch 5450] [D loss: 0.000000] [G loss: 0.181165]\n"
     ]
    },
    {
     "name": "stdout",
     "output_type": "stream",
     "text": [
      "[Epoch 4] [Batch 5500] [D loss: 0.000000] [G loss: 0.190577]\n"
     ]
    },
    {
     "name": "stdout",
     "output_type": "stream",
     "text": [
      "[Epoch 4] [Batch 5550] [D loss: 0.000000] [G loss: 0.173270]\n"
     ]
    },
    {
     "name": "stdout",
     "output_type": "stream",
     "text": [
      "[Epoch 4] [Batch 5600] [D loss: 0.000000] [G loss: 0.172091]\n"
     ]
    },
    {
     "name": "stdout",
     "output_type": "stream",
     "text": [
      "[Epoch 4] [Batch 5650] [D loss: 0.000000] [G loss: 0.173800]\n"
     ]
    },
    {
     "name": "stdout",
     "output_type": "stream",
     "text": [
      "[Epoch 4] [Batch 5700] [D loss: 0.000000] [G loss: 0.187542]\n"
     ]
    },
    {
     "name": "stdout",
     "output_type": "stream",
     "text": [
      "[Epoch 4] [Batch 5750] [D loss: 0.000000] [G loss: 0.189889]\n"
     ]
    },
    {
     "name": "stdout",
     "output_type": "stream",
     "text": [
      "[Epoch 4] [Batch 5800] [D loss: 0.000000] [G loss: 0.207652]\n"
     ]
    },
    {
     "name": "stdout",
     "output_type": "stream",
     "text": [
      "[Epoch 4] [Batch 5850] [D loss: 0.000000] [G loss: 0.155666]\n"
     ]
    },
    {
     "name": "stdout",
     "output_type": "stream",
     "text": [
      "[Epoch 4] [Batch 5900] [D loss: 0.000000] [G loss: 0.146608]\n"
     ]
    },
    {
     "name": "stdout",
     "output_type": "stream",
     "text": [
      "[Epoch 4] [Batch 5950] [D loss: 0.000000] [G loss: 0.126896]\n"
     ]
    },
    {
     "name": "stdout",
     "output_type": "stream",
     "text": [
      "[Epoch 4] [Batch 6000] [D loss: 0.000000] [G loss: 0.135843]\n"
     ]
    },
    {
     "name": "stdout",
     "output_type": "stream",
     "text": [
      "[Epoch 4] [Batch 6050] [D loss: 0.000000] [G loss: 0.149242]\n"
     ]
    },
    {
     "name": "stdout",
     "output_type": "stream",
     "text": [
      "[Epoch 4] [Batch 6100] [D loss: 0.000000] [G loss: 0.126890]\n"
     ]
    },
    {
     "name": "stdout",
     "output_type": "stream",
     "text": [
      "[Epoch 4] [Batch 6150] [D loss: 0.000000] [G loss: 0.127750]\n"
     ]
    },
    {
     "name": "stdout",
     "output_type": "stream",
     "text": [
      "[Epoch 4] [Batch 6200] [D loss: 0.000000] [G loss: 0.144416]\n"
     ]
    },
    {
     "name": "stdout",
     "output_type": "stream",
     "text": [
      "[Epoch 4] [Batch 6250] [D loss: 0.000000] [G loss: 0.130398]\n"
     ]
    },
    {
     "name": "stdout",
     "output_type": "stream",
     "text": [
      "[Epoch 4] [Batch 6300] [D loss: 0.000000] [G loss: 0.156463]\n"
     ]
    },
    {
     "name": "stdout",
     "output_type": "stream",
     "text": [
      "[Epoch 4] [Batch 6350] [D loss: 0.000000] [G loss: 0.148227]\n"
     ]
    },
    {
     "name": "stdout",
     "output_type": "stream",
     "text": [
      "[Epoch 4] [Batch 6400] [D loss: 0.000000] [G loss: 0.153151]\n"
     ]
    },
    {
     "name": "stdout",
     "output_type": "stream",
     "text": [
      "[Epoch 4] [Batch 6450] [D loss: 0.000000] [G loss: 0.133021]\n"
     ]
    },
    {
     "name": "stdout",
     "output_type": "stream",
     "text": [
      "[Epoch 4] [Batch 6500] [D loss: 0.000000] [G loss: 0.148920]\n"
     ]
    },
    {
     "name": "stderr",
     "output_type": "stream",
     "text": [
      "2022-02-09 23:39:31.782086: W tensorflow/core/data/root_dataset.cc:167] Optimization loop failed: Cancelled: Operation was cancelled\n"
     ]
    },
    {
     "name": "stdout",
     "output_type": "stream",
     "text": [
      "[Epoch 4] [Batch 6550] [D loss: 0.000000] [G loss: 0.148227]\n"
     ]
    },
    {
     "name": "stdout",
     "output_type": "stream",
     "text": [
      "[Epoch 4] [Batch 6600] [D loss: 0.000000] [G loss: 0.158367]\n"
     ]
    },
    {
     "name": "stdout",
     "output_type": "stream",
     "text": [
      "[Epoch 4] [Batch 6650] [D loss: 0.000000] [G loss: 0.142859]\n"
     ]
    },
    {
     "name": "stdout",
     "output_type": "stream",
     "text": [
      "[Epoch 4] [Batch 6700] [D loss: 0.000000] [G loss: 0.147532]\n"
     ]
    },
    {
     "name": "stdout",
     "output_type": "stream",
     "text": [
      "[Epoch 4] [Batch 6750] [D loss: 0.000000] [G loss: 0.145484]\n"
     ]
    },
    {
     "name": "stdout",
     "output_type": "stream",
     "text": [
      "[Epoch 4] [Batch 6800] [D loss: 0.000000] [G loss: 0.146553]\n"
     ]
    },
    {
     "name": "stdout",
     "output_type": "stream",
     "text": [
      "[Epoch 4] [Batch 6850] [D loss: 0.000000] [G loss: 0.151206]\n"
     ]
    },
    {
     "name": "stdout",
     "output_type": "stream",
     "text": [
      "[Epoch 4] [Batch 6900] [D loss: 0.000000] [G loss: 0.154686]\n"
     ]
    },
    {
     "name": "stdout",
     "output_type": "stream",
     "text": [
      "[Epoch 4] [Batch 6950] [D loss: 0.000000] [G loss: 0.148965]\n"
     ]
    },
    {
     "name": "stdout",
     "output_type": "stream",
     "text": [
      "[Epoch 4] [Batch 7000] [D loss: 0.000000] [G loss: 0.152342]\n"
     ]
    },
    {
     "name": "stdout",
     "output_type": "stream",
     "text": [
      "[Epoch 4] [Batch 7050] [D loss: 0.000000] [G loss: 0.150284]\n"
     ]
    },
    {
     "name": "stdout",
     "output_type": "stream",
     "text": [
      "[Epoch 4] [Batch 7100] [D loss: 0.000000] [G loss: 0.151092]\n"
     ]
    },
    {
     "name": "stdout",
     "output_type": "stream",
     "text": [
      "[Epoch 4] [Batch 7150] [D loss: 0.000000] [G loss: 0.172002]\n"
     ]
    },
    {
     "name": "stderr",
     "output_type": "stream",
     "text": [
      "2022-02-09 23:49:49.378593: W tensorflow/core/data/root_dataset.cc:167] Optimization loop failed: Cancelled: Operation was cancelled\n"
     ]
    },
    {
     "name": "stdout",
     "output_type": "stream",
     "text": [
      "[Epoch 4] [Batch 7200] [D loss: 0.000000] [G loss: 0.154702]\n"
     ]
    },
    {
     "name": "stdout",
     "output_type": "stream",
     "text": [
      "[Epoch 4] [Batch 7250] [D loss: 0.000000] [G loss: 0.166085]\n"
     ]
    },
    {
     "name": "stdout",
     "output_type": "stream",
     "text": [
      "[Epoch 4] [Batch 7300] [D loss: 0.000000] [G loss: 0.185572]\n"
     ]
    },
    {
     "name": "stdout",
     "output_type": "stream",
     "text": [
      "[Epoch 4] [Batch 7350] [D loss: 0.000000] [G loss: 0.145267]\n"
     ]
    },
    {
     "name": "stdout",
     "output_type": "stream",
     "text": [
      "[Epoch 4] [Batch 7400] [D loss: 0.000000] [G loss: 0.160186]\n"
     ]
    },
    {
     "name": "stdout",
     "output_type": "stream",
     "text": [
      "[Epoch 4] [Batch 7450] [D loss: 0.000000] [G loss: 0.163787]\n"
     ]
    },
    {
     "name": "stdout",
     "output_type": "stream",
     "text": [
      "[Epoch 4] [Batch 7500] [D loss: 0.000000] [G loss: 0.170595]\n"
     ]
    },
    {
     "name": "stdout",
     "output_type": "stream",
     "text": [
      "[Epoch 4] [Batch 7550] [D loss: 0.000000] [G loss: 0.148999]\n"
     ]
    },
    {
     "name": "stdout",
     "output_type": "stream",
     "text": [
      "[Epoch 4] [Batch 7600] [D loss: 0.000000] [G loss: 0.182209]\n"
     ]
    },
    {
     "name": "stdout",
     "output_type": "stream",
     "text": [
      "[Epoch 4] [Batch 7650] [D loss: 0.000000] [G loss: 0.190947]\n"
     ]
    },
    {
     "name": "stdout",
     "output_type": "stream",
     "text": [
      "[Epoch 4] [Batch 7700] [D loss: 0.000000] [G loss: 0.169294]\n"
     ]
    },
    {
     "name": "stdout",
     "output_type": "stream",
     "text": [
      "[Epoch 4] [Batch 7750] [D loss: 0.000000] [G loss: 0.161278]\n"
     ]
    },
    {
     "name": "stdout",
     "output_type": "stream",
     "text": [
      "[Epoch 4] [Batch 7800] [D loss: 0.000000] [G loss: 0.158562]\n"
     ]
    },
    {
     "name": "stdout",
     "output_type": "stream",
     "text": [
      "[Epoch 4] [Batch 7850] [D loss: 0.000000] [G loss: 0.177699]\n"
     ]
    },
    {
     "name": "stdout",
     "output_type": "stream",
     "text": [
      "[Epoch 4] [Batch 7900] [D loss: 0.000000] [G loss: 0.176701]\n"
     ]
    },
    {
     "name": "stdout",
     "output_type": "stream",
     "text": [
      "[Epoch 4] [Batch 7950] [D loss: 0.000000] [G loss: 0.187339]\n"
     ]
    },
    {
     "name": "stdout",
     "output_type": "stream",
     "text": [
      "[Epoch 4] [Batch 8000] [D loss: 0.000000] [G loss: 0.188113]\n"
     ]
    },
    {
     "name": "stdout",
     "output_type": "stream",
     "text": [
      "[Epoch 4] [Batch 8050] [D loss: 0.000000] [G loss: 0.185237]\n"
     ]
    },
    {
     "name": "stdout",
     "output_type": "stream",
     "text": [
      "[Epoch 4] [Batch 8100] [D loss: 0.000000] [G loss: 0.149555]\n"
     ]
    },
    {
     "name": "stdout",
     "output_type": "stream",
     "text": [
      "[Epoch 4] [Batch 8150] [D loss: 0.000000] [G loss: 0.163100]\n"
     ]
    },
    {
     "name": "stdout",
     "output_type": "stream",
     "text": [
      "[Epoch 4] [Batch 8200] [D loss: 0.000000] [G loss: 0.160943]\n"
     ]
    },
    {
     "name": "stdout",
     "output_type": "stream",
     "text": [
      "[Epoch 4] [Batch 8250] [D loss: 0.000000] [G loss: 0.213745]\n"
     ]
    },
    {
     "name": "stdout",
     "output_type": "stream",
     "text": [
      "[Epoch 4] [Batch 8300] [D loss: 0.000000] [G loss: 0.230941]\n"
     ]
    },
    {
     "name": "stdout",
     "output_type": "stream",
     "text": [
      "[Epoch 4] [Batch 8350] [D loss: 0.000000] [G loss: 0.194117]\n"
     ]
    },
    {
     "name": "stdout",
     "output_type": "stream",
     "text": [
      "[Epoch 4] [Batch 8400] [D loss: 0.000000] [G loss: 0.232696]\n"
     ]
    },
    {
     "name": "stdout",
     "output_type": "stream",
     "text": [
      "[Epoch 4] [Batch 8450] [D loss: 0.000000] [G loss: 0.233252]\n"
     ]
    },
    {
     "name": "stdout",
     "output_type": "stream",
     "text": [
      "[Epoch 4] [Batch 8500] [D loss: 0.000000] [G loss: 0.198360]\n"
     ]
    },
    {
     "name": "stdout",
     "output_type": "stream",
     "text": [
      "[Epoch 4] [Batch 8550] [D loss: 0.000000] [G loss: 0.234739]\n"
     ]
    },
    {
     "name": "stdout",
     "output_type": "stream",
     "text": [
      "[Epoch 4] [Batch 8600] [D loss: 0.000000] [G loss: 0.199335]\n"
     ]
    },
    {
     "name": "stdout",
     "output_type": "stream",
     "text": [
      "[Epoch 4] [Batch 8650] [D loss: 0.000000] [G loss: 0.245158]\n"
     ]
    },
    {
     "name": "stdout",
     "output_type": "stream",
     "text": [
      "Time for epoch 4 is 7797.879176616669 sec\n"
     ]
    },
    {
     "name": "stdout",
     "output_type": "stream",
     "text": [
      "[Epoch 5] [Batch 0] [D loss: 0.000000] [G loss: 0.209835]\n"
     ]
    },
    {
     "name": "stdout",
     "output_type": "stream",
     "text": [
      "[Epoch 5] [Batch 50] [D loss: 0.000000] [G loss: 0.170454]\n"
     ]
    },
    {
     "name": "stdout",
     "output_type": "stream",
     "text": [
      "[Epoch 5] [Batch 100] [D loss: 0.000000] [G loss: 0.162306]\n"
     ]
    },
    {
     "name": "stdout",
     "output_type": "stream",
     "text": [
      "[Epoch 5] [Batch 150] [D loss: 0.000000] [G loss: 0.142729]\n"
     ]
    },
    {
     "name": "stdout",
     "output_type": "stream",
     "text": [
      "[Epoch 5] [Batch 200] [D loss: 0.000000] [G loss: 0.134007]\n"
     ]
    },
    {
     "name": "stdout",
     "output_type": "stream",
     "text": [
      "[Epoch 5] [Batch 250] [D loss: 0.000000] [G loss: 0.154227]\n"
     ]
    },
    {
     "name": "stdout",
     "output_type": "stream",
     "text": [
      "[Epoch 5] [Batch 300] [D loss: 0.000000] [G loss: 0.152217]\n"
     ]
    },
    {
     "name": "stdout",
     "output_type": "stream",
     "text": [
      "[Epoch 5] [Batch 350] [D loss: 0.000000] [G loss: 0.140798]\n"
     ]
    },
    {
     "name": "stdout",
     "output_type": "stream",
     "text": [
      "[Epoch 5] [Batch 400] [D loss: 0.000000] [G loss: 0.162640]\n"
     ]
    },
    {
     "name": "stdout",
     "output_type": "stream",
     "text": [
      "[Epoch 5] [Batch 450] [D loss: 0.000000] [G loss: 0.135635]\n"
     ]
    },
    {
     "name": "stdout",
     "output_type": "stream",
     "text": [
      "[Epoch 5] [Batch 500] [D loss: 0.000000] [G loss: 0.160943]\n"
     ]
    },
    {
     "name": "stdout",
     "output_type": "stream",
     "text": [
      "[Epoch 5] [Batch 550] [D loss: 0.000000] [G loss: 0.181881]\n"
     ]
    },
    {
     "name": "stdout",
     "output_type": "stream",
     "text": [
      "[Epoch 5] [Batch 600] [D loss: 0.000000] [G loss: 0.175356]\n"
     ]
    },
    {
     "name": "stdout",
     "output_type": "stream",
     "text": [
      "[Epoch 5] [Batch 650] [D loss: 0.000000] [G loss: 0.187733]\n"
     ]
    },
    {
     "name": "stdout",
     "output_type": "stream",
     "text": [
      "[Epoch 5] [Batch 700] [D loss: 0.000000] [G loss: 0.173955]\n"
     ]
    },
    {
     "name": "stdout",
     "output_type": "stream",
     "text": [
      "[Epoch 5] [Batch 750] [D loss: 0.000000] [G loss: 0.184578]\n"
     ]
    },
    {
     "name": "stdout",
     "output_type": "stream",
     "text": [
      "[Epoch 5] [Batch 800] [D loss: 0.000000] [G loss: 0.167674]\n"
     ]
    },
    {
     "name": "stdout",
     "output_type": "stream",
     "text": [
      "[Epoch 5] [Batch 850] [D loss: 0.000000] [G loss: 0.194114]\n"
     ]
    },
    {
     "name": "stdout",
     "output_type": "stream",
     "text": [
      "[Epoch 5] [Batch 900] [D loss: 0.000000] [G loss: 0.164268]\n"
     ]
    },
    {
     "name": "stdout",
     "output_type": "stream",
     "text": [
      "[Epoch 5] [Batch 950] [D loss: 0.000000] [G loss: 0.162631]\n"
     ]
    },
    {
     "name": "stdout",
     "output_type": "stream",
     "text": [
      "[Epoch 5] [Batch 1000] [D loss: 0.000000] [G loss: 0.174938]\n"
     ]
    },
    {
     "name": "stdout",
     "output_type": "stream",
     "text": [
      "[Epoch 5] [Batch 1050] [D loss: 0.000000] [G loss: 0.134120]\n"
     ]
    },
    {
     "name": "stdout",
     "output_type": "stream",
     "text": [
      "[Epoch 5] [Batch 1100] [D loss: 0.000000] [G loss: 0.145429]\n"
     ]
    },
    {
     "name": "stdout",
     "output_type": "stream",
     "text": [
      "[Epoch 5] [Batch 1150] [D loss: 0.000000] [G loss: 0.134443]\n"
     ]
    },
    {
     "name": "stdout",
     "output_type": "stream",
     "text": [
      "[Epoch 5] [Batch 1200] [D loss: 0.000000] [G loss: 0.143358]\n"
     ]
    },
    {
     "name": "stdout",
     "output_type": "stream",
     "text": [
      "[Epoch 5] [Batch 1250] [D loss: 0.000000] [G loss: 0.138008]\n"
     ]
    },
    {
     "name": "stdout",
     "output_type": "stream",
     "text": [
      "[Epoch 5] [Batch 1300] [D loss: 0.000000] [G loss: 0.152362]\n"
     ]
    },
    {
     "name": "stdout",
     "output_type": "stream",
     "text": [
      "[Epoch 5] [Batch 1350] [D loss: 0.000000] [G loss: 0.137275]\n"
     ]
    },
    {
     "name": "stdout",
     "output_type": "stream",
     "text": [
      "[Epoch 5] [Batch 1400] [D loss: 0.000000] [G loss: 0.113565]\n"
     ]
    },
    {
     "name": "stdout",
     "output_type": "stream",
     "text": [
      "[Epoch 5] [Batch 1450] [D loss: 0.000000] [G loss: 0.152238]\n"
     ]
    },
    {
     "name": "stdout",
     "output_type": "stream",
     "text": [
      "[Epoch 5] [Batch 1500] [D loss: 0.000000] [G loss: 0.140093]\n"
     ]
    },
    {
     "name": "stdout",
     "output_type": "stream",
     "text": [
      "[Epoch 5] [Batch 1550] [D loss: 0.000000] [G loss: 0.117673]\n"
     ]
    },
    {
     "name": "stdout",
     "output_type": "stream",
     "text": [
      "[Epoch 5] [Batch 1600] [D loss: 0.000000] [G loss: 0.132696]\n"
     ]
    },
    {
     "name": "stdout",
     "output_type": "stream",
     "text": [
      "[Epoch 5] [Batch 1650] [D loss: 0.000000] [G loss: 0.120881]\n"
     ]
    },
    {
     "name": "stdout",
     "output_type": "stream",
     "text": [
      "[Epoch 5] [Batch 1700] [D loss: 0.000000] [G loss: 0.129446]\n"
     ]
    },
    {
     "name": "stderr",
     "output_type": "stream",
     "text": [
      "2022-02-10 00:37:46.581213: W tensorflow/core/data/root_dataset.cc:167] Optimization loop failed: Cancelled: Operation was cancelled\n"
     ]
    },
    {
     "name": "stdout",
     "output_type": "stream",
     "text": [
      "[Epoch 5] [Batch 1750] [D loss: 0.000000] [G loss: 0.132301]\n"
     ]
    },
    {
     "name": "stdout",
     "output_type": "stream",
     "text": [
      "[Epoch 5] [Batch 1800] [D loss: 0.000000] [G loss: 0.158389]\n"
     ]
    },
    {
     "name": "stdout",
     "output_type": "stream",
     "text": [
      "[Epoch 5] [Batch 1850] [D loss: 0.000000] [G loss: 0.131554]\n"
     ]
    },
    {
     "name": "stdout",
     "output_type": "stream",
     "text": [
      "[Epoch 5] [Batch 1900] [D loss: 0.000000] [G loss: 0.134754]\n"
     ]
    },
    {
     "name": "stdout",
     "output_type": "stream",
     "text": [
      "[Epoch 5] [Batch 1950] [D loss: 0.000000] [G loss: 0.151090]\n"
     ]
    },
    {
     "name": "stdout",
     "output_type": "stream",
     "text": [
      "[Epoch 5] [Batch 2000] [D loss: 0.000000] [G loss: 0.117909]\n"
     ]
    },
    {
     "name": "stdout",
     "output_type": "stream",
     "text": [
      "[Epoch 5] [Batch 2050] [D loss: 0.000000] [G loss: 0.142351]\n"
     ]
    },
    {
     "name": "stdout",
     "output_type": "stream",
     "text": [
      "[Epoch 5] [Batch 2100] [D loss: 0.000000] [G loss: 0.167815]\n"
     ]
    },
    {
     "name": "stdout",
     "output_type": "stream",
     "text": [
      "[Epoch 5] [Batch 2150] [D loss: 0.000000] [G loss: 0.148174]\n"
     ]
    },
    {
     "name": "stdout",
     "output_type": "stream",
     "text": [
      "[Epoch 5] [Batch 2200] [D loss: 0.000000] [G loss: 0.138248]\n"
     ]
    },
    {
     "name": "stdout",
     "output_type": "stream",
     "text": [
      "[Epoch 5] [Batch 2250] [D loss: 0.000000] [G loss: 0.138231]\n"
     ]
    },
    {
     "name": "stdout",
     "output_type": "stream",
     "text": [
      "[Epoch 5] [Batch 2300] [D loss: 0.000000] [G loss: 0.150419]\n"
     ]
    },
    {
     "name": "stdout",
     "output_type": "stream",
     "text": [
      "[Epoch 5] [Batch 2350] [D loss: 0.000000] [G loss: 0.151643]\n"
     ]
    },
    {
     "name": "stdout",
     "output_type": "stream",
     "text": [
      "[Epoch 5] [Batch 2400] [D loss: 0.000000] [G loss: 0.129605]\n"
     ]
    },
    {
     "name": "stdout",
     "output_type": "stream",
     "text": [
      "[Epoch 5] [Batch 2450] [D loss: 0.000000] [G loss: 0.141651]\n"
     ]
    },
    {
     "name": "stdout",
     "output_type": "stream",
     "text": [
      "[Epoch 5] [Batch 2500] [D loss: 0.000000] [G loss: 0.158385]\n"
     ]
    },
    {
     "name": "stdout",
     "output_type": "stream",
     "text": [
      "[Epoch 5] [Batch 2550] [D loss: 0.000000] [G loss: 0.127702]\n"
     ]
    },
    {
     "name": "stdout",
     "output_type": "stream",
     "text": [
      "[Epoch 5] [Batch 2600] [D loss: 0.000000] [G loss: 0.150438]\n"
     ]
    },
    {
     "name": "stdout",
     "output_type": "stream",
     "text": [
      "[Epoch 5] [Batch 2650] [D loss: 0.000000] [G loss: 0.150467]\n"
     ]
    },
    {
     "name": "stdout",
     "output_type": "stream",
     "text": [
      "[Epoch 5] [Batch 2700] [D loss: 0.000000] [G loss: 0.169878]\n"
     ]
    },
    {
     "name": "stdout",
     "output_type": "stream",
     "text": [
      "[Epoch 5] [Batch 2750] [D loss: 0.000000] [G loss: 0.151295]\n"
     ]
    },
    {
     "name": "stdout",
     "output_type": "stream",
     "text": [
      "[Epoch 5] [Batch 2800] [D loss: 0.000000] [G loss: 0.160210]\n"
     ]
    },
    {
     "name": "stdout",
     "output_type": "stream",
     "text": [
      "[Epoch 5] [Batch 2850] [D loss: 0.000000] [G loss: 0.145987]\n"
     ]
    },
    {
     "name": "stdout",
     "output_type": "stream",
     "text": [
      "[Epoch 5] [Batch 2900] [D loss: 0.000000] [G loss: 0.178502]\n"
     ]
    },
    {
     "name": "stdout",
     "output_type": "stream",
     "text": [
      "[Epoch 5] [Batch 2950] [D loss: 0.000000] [G loss: 0.156127]\n"
     ]
    },
    {
     "name": "stdout",
     "output_type": "stream",
     "text": [
      "[Epoch 5] [Batch 3000] [D loss: 0.000000] [G loss: 0.169886]\n"
     ]
    },
    {
     "name": "stdout",
     "output_type": "stream",
     "text": [
      "[Epoch 5] [Batch 3050] [D loss: 0.000000] [G loss: 0.166786]\n"
     ]
    },
    {
     "name": "stdout",
     "output_type": "stream",
     "text": [
      "[Epoch 5] [Batch 3100] [D loss: 0.000000] [G loss: 0.145546]\n"
     ]
    },
    {
     "name": "stdout",
     "output_type": "stream",
     "text": [
      "[Epoch 5] [Batch 3150] [D loss: 0.000000] [G loss: 0.175404]\n"
     ]
    },
    {
     "name": "stdout",
     "output_type": "stream",
     "text": [
      "[Epoch 5] [Batch 3200] [D loss: 0.000000] [G loss: 0.155837]\n"
     ]
    },
    {
     "name": "stdout",
     "output_type": "stream",
     "text": [
      "[Epoch 5] [Batch 3250] [D loss: 0.000000] [G loss: 0.182224]\n"
     ]
    },
    {
     "name": "stdout",
     "output_type": "stream",
     "text": [
      "[Epoch 5] [Batch 3300] [D loss: 0.000000] [G loss: 0.122055]\n"
     ]
    },
    {
     "name": "stdout",
     "output_type": "stream",
     "text": [
      "[Epoch 5] [Batch 3350] [D loss: 0.000000] [G loss: 0.158732]\n"
     ]
    },
    {
     "name": "stdout",
     "output_type": "stream",
     "text": [
      "[Epoch 5] [Batch 3400] [D loss: 0.000000] [G loss: 0.142635]\n"
     ]
    },
    {
     "name": "stdout",
     "output_type": "stream",
     "text": [
      "[Epoch 5] [Batch 3450] [D loss: 0.000000] [G loss: 0.144416]\n"
     ]
    },
    {
     "name": "stdout",
     "output_type": "stream",
     "text": [
      "[Epoch 5] [Batch 3500] [D loss: 0.000000] [G loss: 0.144108]\n"
     ]
    },
    {
     "name": "stdout",
     "output_type": "stream",
     "text": [
      "[Epoch 5] [Batch 3550] [D loss: 0.000000] [G loss: 0.125524]\n"
     ]
    },
    {
     "name": "stdout",
     "output_type": "stream",
     "text": [
      "[Epoch 5] [Batch 3600] [D loss: 0.000000] [G loss: 0.143088]\n"
     ]
    },
    {
     "name": "stdout",
     "output_type": "stream",
     "text": [
      "[Epoch 5] [Batch 3650] [D loss: 0.000000] [G loss: 0.149862]\n"
     ]
    },
    {
     "name": "stdout",
     "output_type": "stream",
     "text": [
      "[Epoch 5] [Batch 3700] [D loss: 0.000000] [G loss: 0.138141]\n"
     ]
    },
    {
     "name": "stdout",
     "output_type": "stream",
     "text": [
      "[Epoch 5] [Batch 3750] [D loss: 0.000000] [G loss: 0.142240]\n"
     ]
    },
    {
     "name": "stdout",
     "output_type": "stream",
     "text": [
      "[Epoch 5] [Batch 3800] [D loss: 0.000000] [G loss: 0.146524]\n"
     ]
    },
    {
     "name": "stdout",
     "output_type": "stream",
     "text": [
      "[Epoch 5] [Batch 3850] [D loss: 0.000000] [G loss: 0.162105]\n"
     ]
    },
    {
     "name": "stdout",
     "output_type": "stream",
     "text": [
      "[Epoch 5] [Batch 3900] [D loss: 0.000000] [G loss: 0.133268]\n"
     ]
    },
    {
     "name": "stdout",
     "output_type": "stream",
     "text": [
      "[Epoch 5] [Batch 3950] [D loss: 0.000000] [G loss: 0.146536]\n"
     ]
    }
   ],
   "source": [
    "if __name__ == '__main__':\n",
    "    gan = pix2pix()\n",
    "    #gan.generator = tf.keras.models.load_model('../input/gan-aud2lips/trained-gan-model/', compile=True)\n",
    "    tf.keras.models.save_model(gan.generator, 'trained-gan-model', overwrite=True, include_optimizer=True, save_format=None)\n",
    "    gan.train(epochs=8, batch_size=4)"
   ]
  },
  {
   "cell_type": "markdown",
   "id": "09adb9e0",
   "metadata": {
    "papermill": {
     "duration": null,
     "end_time": null,
     "exception": null,
     "start_time": null,
     "status": "pending"
    },
    "tags": []
   },
   "source": [
    "#### Loading Model"
   ]
  },
  {
   "cell_type": "code",
   "execution_count": null,
   "id": "2fd57ec0",
   "metadata": {
    "execution": {
     "iopub.execute_input": "2022-02-08T12:44:25.00051Z",
     "iopub.status.busy": "2022-02-08T12:44:24.999738Z",
     "iopub.status.idle": "2022-02-08T12:44:37.761435Z",
     "shell.execute_reply": "2022-02-08T12:44:37.760744Z",
     "shell.execute_reply.started": "2022-02-08T12:44:25.000473Z"
    },
    "papermill": {
     "duration": null,
     "end_time": null,
     "exception": null,
     "start_time": null,
     "status": "pending"
    },
    "tags": []
   },
   "outputs": [],
   "source": [
    "#gan.generator = tf.keras.models.load_model('../input/gan-aud2lips/trained-gan-model/', compile=True)"
   ]
  },
  {
   "cell_type": "code",
   "execution_count": null,
   "id": "b5746194",
   "metadata": {
    "execution": {
     "iopub.execute_input": "2022-02-09T13:05:04.594421Z",
     "iopub.status.busy": "2022-02-09T13:05:04.593721Z",
     "iopub.status.idle": "2022-02-09T13:05:04.863258Z",
     "shell.execute_reply": "2022-02-09T13:05:04.862485Z",
     "shell.execute_reply.started": "2022-02-09T13:05:04.594383Z"
    },
    "papermill": {
     "duration": null,
     "end_time": null,
     "exception": null,
     "start_time": null,
     "status": "pending"
    },
    "tags": []
   },
   "outputs": [],
   "source": [
    "plt.imshow(dataset[4][1])"
   ]
  },
  {
   "cell_type": "code",
   "execution_count": null,
   "id": "78920419",
   "metadata": {
    "execution": {
     "iopub.execute_input": "2022-02-09T12:36:32.224307Z",
     "iopub.status.busy": "2022-02-09T12:36:32.223689Z",
     "iopub.status.idle": "2022-02-09T12:36:32.366022Z",
     "shell.execute_reply": "2022-02-09T12:36:32.365354Z",
     "shell.execute_reply.started": "2022-02-09T12:36:32.224265Z"
    },
    "papermill": {
     "duration": null,
     "end_time": null,
     "exception": null,
     "start_time": null,
     "status": "pending"
    },
    "tags": []
   },
   "outputs": [],
   "source": [
    "cf = dataset[4][0][None,]/255\n",
    "gan.generator.predict(cf)"
   ]
  }
 ],
 "metadata": {
  "kernelspec": {
   "display_name": "Python 3",
   "language": "python",
   "name": "python3"
  },
  "language_info": {
   "codemirror_mode": {
    "name": "ipython",
    "version": 3
   },
   "file_extension": ".py",
   "mimetype": "text/x-python",
   "name": "python",
   "nbconvert_exporter": "python",
   "pygments_lexer": "ipython3",
   "version": "3.6.4"
  },
  "papermill": {
   "default_parameters": {},
   "duration": null,
   "end_time": null,
   "environment_variables": {},
   "exception": null,
   "input_path": "__notebook__.ipynb",
   "output_path": "__notebook__.ipynb",
   "parameters": {},
   "start_time": "2022-02-09T13:10:48.470593",
   "version": "2.3.3"
  }
 },
 "nbformat": 4,
 "nbformat_minor": 5
}